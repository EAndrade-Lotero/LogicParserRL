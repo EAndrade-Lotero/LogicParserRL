{
 "cells": [
  {
   "cell_type": "markdown",
   "metadata": {},
   "source": [
    "# Familiarización con el parser"
   ]
  },
  {
   "cell_type": "code",
   "execution_count": 1,
   "metadata": {},
   "outputs": [],
   "source": [
    "import sys\n",
    "\n",
    "sys.path.append('..')"
   ]
  },
  {
   "cell_type": "code",
   "execution_count": 2,
   "metadata": {},
   "outputs": [
    {
     "ename": "SyntaxError",
     "evalue": "invalid syntax. Perhaps you forgot a comma? (interpreters.py, line 28)",
     "output_type": "error",
     "traceback": [
      "Traceback \u001b[0;36m(most recent call last)\u001b[0m:\n",
      "\u001b[0m  File \u001b[1;32m~/venv_repositorios/lib/python3.12/site-packages/IPython/core/interactiveshell.py:3577\u001b[0m in \u001b[1;35mrun_code\u001b[0m\n    exec(code_obj, self.user_global_ns, self.user_ns)\u001b[0m\n",
      "\u001b[0m  Cell \u001b[1;32mIn[2], line 1\u001b[0m\n    from src.parser.clases_parser import Parser2D\u001b[0m\n",
      "\u001b[0;36m  File \u001b[0;32m~/Repositorios/LogicParserRL/Notebooks/../src/parser/clases_parser.py:17\u001b[0;36m\n\u001b[0;31m    from src.parser.interpreters import ParserInterpreter\u001b[0;36m\n",
      "\u001b[0;36m  File \u001b[0;32m~/Repositorios/LogicParserRL/Notebooks/../src/parser/interpreters.py:28\u001b[0;36m\u001b[0m\n\u001b[0;31m    estado.indice # indice de la palabra actual\u001b[0m\n\u001b[0m    ^\u001b[0m\n\u001b[0;31mSyntaxError\u001b[0m\u001b[0;31m:\u001b[0m invalid syntax. Perhaps you forgot a comma?\n"
     ]
    }
   ],
   "source": [
    "from src.parser.clases_parser import Parser2D"
   ]
  },
  {
   "cell_type": "code",
   "execution_count": null,
   "metadata": {},
   "outputs": [],
   "source": [
    "frase1, frase2 = ['Todo perro rojo ladra', 'Algun perro ladra']\n",
    "frase1_fol, frase2_fol = [\n",
    "    'forall x.((PERRO(x) & ROJO(x)) -> LADRAR(x))',\n",
    "    'exists x.(PERRO(x) & LADRAR(x))'\n",
    "]\n",
    "parser = Parser2D(\n",
    "    frase1=frase1,\n",
    "    frase2=frase2,\n",
    "    relacion='implicacion',\n",
    "    frase1_fol=frase1_fol,\n",
    "    frase2_fol=frase2_fol\n",
    ")"
   ]
  },
  {
   "cell_type": "code",
   "execution_count": null,
   "metadata": {},
   "outputs": [],
   "source": [
    "parser.render()"
   ]
  },
  {
   "cell_type": "markdown",
   "metadata": {},
   "source": [
    "## Prueba de acciones"
   ]
  },
  {
   "cell_type": "code",
   "execution_count": null,
   "metadata": {},
   "outputs": [],
   "source": [
    "# mover derecha\n",
    "accion_ = 'mover_derecha'\n",
    "accion = parser.accion_to_index(accion_)\n",
    "result = parser.step(accion)\n",
    "next_state = result[0]\n",
    "reward = result[1]\n",
    "print(f\"Estado siguiente: {next_state}\")\n",
    "print(f\"Recompensa: {reward}\")\n",
    "parser.render()"
   ]
  },
  {
   "cell_type": "code",
   "execution_count": null,
   "metadata": {},
   "outputs": [],
   "source": []
  }
 ],
 "metadata": {
  "kernelspec": {
   "display_name": "venv_repositorios",
   "language": "python",
   "name": "python3"
  },
  "language_info": {
   "codemirror_mode": {
    "name": "ipython",
    "version": 3
   },
   "file_extension": ".py",
   "mimetype": "text/x-python",
   "name": "python",
   "nbconvert_exporter": "python",
   "pygments_lexer": "ipython3",
   "version": "3.12.8"
  }
 },
 "nbformat": 4,
 "nbformat_minor": 2
}
