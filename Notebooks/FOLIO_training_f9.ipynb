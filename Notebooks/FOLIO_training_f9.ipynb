{
 "cells": [
  {
   "cell_type": "code",
   "execution_count": 136,
   "metadata": {},
   "outputs": [],
   "source": [
    "import os\n",
    "import sys\n",
    "\n",
    "import numpy as np\n",
    "import torch as th\n",
    "import pandas as pd\n",
    "\n",
    "from stable_baselines3.common import env_checker\n",
    "from stable_baselines3 import DQN, HerReplayBuffer\n",
    "from stable_baselines3.common import results_plotter\n",
    "from stable_baselines3.common.monitor import Monitor\n",
    "from stable_baselines3.common.evaluation import evaluate_policy\n",
    "from stable_baselines3.common.vec_env.dummy_vec_env import DummyVecEnv\n",
    "from stable_baselines3.her.goal_selection_strategy import GoalSelectionStrategy\n",
    "\n",
    "sys.path.append('../src')\n",
    "\n",
    "from config.config import PATHS\n",
    "from parser.clases_parser import ParserFOL_1f\n",
    "from parser.parser_auxiliary_classes import Nodo, DictObservationWrapper\n",
    "from utils.inspect import quick_inspection, q_values_at_state, rewards_at_state\n",
    "\n",
    "from matplotlib import pyplot as plt\n",
    "%matplotlib inline"
   ]
  },
  {
   "cell_type": "markdown",
   "metadata": {},
   "source": [
    "1. Entrenamiento con NUM_FRASE = 8: \"trees are plants\":\n",
    "    * env.max_turns = 1\n",
    "    * model.gamma = 0\n",
    "    * TIME_STEPS = 5_000\n",
    "    * env.max_turns = 2\n",
    "    * model.gamma = 0\n",
    "    * TIME_STEPS = 5_000\n",
    "    * env.max_turns = 5\n",
    "    * model.gamma = 0.1\n",
    "    * TIME_STEPS = 150_000\n",
    "\n",
    "2. Entrenamiento con NUM_FRASE = 7: \"all tables are round\":\n",
    "    * añadir la frase 7 al entorno (2 frases)\n",
    "    * model.gamma = 0.1\n",
    "    * env.max_turns = 1\n",
    "    * TIME_STEPS = 5_000\n",
    "    * env.max_turns = 2\n",
    "    * TIME_STEPS = 5_000\n",
    "    * env.max_turns = 3\n",
    "    * TIME_STEPS = 5_000\n",
    "    * env.max_turns = 5\n",
    "    * TIME_STEPS = 150_000\n",
    "    * env.max_turns = 7\n",
    "    * TIME_STEPS = 300_000\n",
    "\n",
    "3. Entrenamiento con NUM_FRASE = 3: \"some cats are not pets\":\n",
    "    * añadir la frase 3 al entorno (3 frases)\n",
    "    * model.gamma = 0.1\n",
    "    * env.max_turns = 1\n",
    "    * TIME_STEPS = 5_000\n",
    "    * env.max_turns = 2\n",
    "    * TIME_STEPS = 5_000\n",
    "    * env.max_turns = 3\n",
    "    * TIME_STEPS = 5_000\n",
    "    * env.max_turns = 5\n",
    "    * TIME_STEPS = 150_000\n",
    "    * env.max_turns = 7\n",
    "    * TIME_STEPS = 300_000"
   ]
  },
  {
   "cell_type": "code",
   "execution_count": 137,
   "metadata": {},
   "outputs": [],
   "source": [
    "NUM_FRASES = [8]  #, 7]\n",
    "MAX_TURNS = 1"
   ]
  },
  {
   "cell_type": "markdown",
   "metadata": {},
   "source": [
    "## Carga y estandarizacion de FOLIO - Smallest\n",
    "\n",
    "El conjunto de datos cargado es un subconjunto del dataset FOLIO. Este contiene los 10 ejemplos de longitud mas corta con el fin de probar el desempenio del agente en el entorno"
   ]
  },
  {
   "cell_type": "code",
   "execution_count": 138,
   "metadata": {},
   "outputs": [
    {
     "data": {
      "text/html": [
       "<div>\n",
       "<style scoped>\n",
       "    .dataframe tbody tr th:only-of-type {\n",
       "        vertical-align: middle;\n",
       "    }\n",
       "\n",
       "    .dataframe tbody tr th {\n",
       "        vertical-align: top;\n",
       "    }\n",
       "\n",
       "    .dataframe thead th {\n",
       "        text-align: right;\n",
       "    }\n",
       "</style>\n",
       "<table border=\"1\" class=\"dataframe\">\n",
       "  <thead>\n",
       "    <tr style=\"text-align: right;\">\n",
       "      <th></th>\n",
       "      <th>frase</th>\n",
       "      <th>frase-FOL</th>\n",
       "      <th>pregunta</th>\n",
       "      <th>respuesta</th>\n",
       "      <th>tipo_pregunta</th>\n",
       "    </tr>\n",
       "  </thead>\n",
       "  <tbody>\n",
       "    <tr>\n",
       "      <th>0</th>\n",
       "      <td>Trees are plants.\\r\\nSome living things are tr...</td>\n",
       "      <td>∀x (Tree(x) → Plant(x))\\r\\n∃x ∃y (Living(x) ∧ ...</td>\n",
       "      <td>Some living things are plants.</td>\n",
       "      <td>∃x ∃y (Living(x) ∧ Living(y) ∧ Plant(x) ∧ Plan...</td>\n",
       "      <td>individuo</td>\n",
       "    </tr>\n",
       "  </tbody>\n",
       "</table>\n",
       "</div>"
      ],
      "text/plain": [
       "                                               frase  \\\n",
       "0  Trees are plants.\\r\\nSome living things are tr...   \n",
       "\n",
       "                                           frase-FOL  \\\n",
       "0  ∀x (Tree(x) → Plant(x))\\r\\n∃x ∃y (Living(x) ∧ ...   \n",
       "\n",
       "                         pregunta  \\\n",
       "0  Some living things are plants.   \n",
       "\n",
       "                                           respuesta tipo_pregunta  \n",
       "0  ∃x ∃y (Living(x) ∧ Living(y) ∧ Plant(x) ∧ Plan...     individuo  "
      ]
     },
     "execution_count": 138,
     "metadata": {},
     "output_type": "execute_result"
    }
   ],
   "source": [
    "df = pd.read_csv(PATHS['fol_data_folder']/'smallest_ordered.csv')\n",
    "df.drop(columns=['Unnamed: 0', 'length'], inplace=True)\n",
    "# df = pd.DataFrame(df.loc[NUM_FRASE].to_frame().T)\n",
    "df = df.iloc[NUM_FRASES]\n",
    "df.reset_index(drop=True, inplace=True)\n",
    "df"
   ]
  },
  {
   "cell_type": "markdown",
   "metadata": {},
   "source": [
    "## Entorno de aprendizaje\n",
    "\n",
    "Se valida el correcto funcionamiento del entorno previo a la realizacion del entrenamiento. Si hay más de una frase en `NUM_FRASES`, revisar que está cambiando la frase de manera aleatoria."
   ]
  },
  {
   "cell_type": "code",
   "execution_count": 139,
   "metadata": {},
   "outputs": [
    {
     "name": "stdout",
     "output_type": "stream",
     "text": [
      "Fórmula objetivo:\n",
      "∀x (Tree(x) → Plant(x))\n",
      "Índice: 0\n",
      "Nivel: 0\n",
      "Lista palabras: ['Trees', 'are', 'plants']\n",
      " ______________ \n",
      "|              |\n",
      "|--------------|\n",
      "| EMPTY(empty) |\n",
      "|______________|\n",
      "FOL: EMPTY(empty)\n"
     ]
    }
   ],
   "source": [
    "# Carga del entorno\n",
    "env = ParserFOL_1f(df=df)\n",
    "\n",
    "# Configuracion de los parametros de entrenamiento del entorno\n",
    "config = {\n",
    "    \"training_mode\": \"aleatorio\",\n",
    "    \"total_timesteps\": 10_000,\n",
    "    \"guide_reward_frac\": 1.0,\n",
    "    \"max_episodes\": 10\n",
    "}\n",
    "env.set_training_parameters(**config)\n",
    "\n",
    "env.max_turns = MAX_TURNS\n",
    "\n",
    "# Visualizacion del entorno\n",
    "print('Fórmula objetivo:', env.frase_recompensa, sep='\\n')\n",
    "env.render()\n",
    "\n",
    "# Validacion del entorno bajo el estandar de Stable Baselines\n",
    "# env_checker.check_env(env, warn=True, skip_render_check=True)"
   ]
  },
  {
   "cell_type": "markdown",
   "metadata": {},
   "source": [
    "## Representación esperada\n",
    "\n",
    "Encontramos una lista de acciones sobre el parser que conduzcan a la representación deseada y verificamos que funcione:\n",
    "\n",
    "**Nota:** Tener en cuenta que si, en `NUM_FRASES` hay más de una frase, la frase va a ir cambiando."
   ]
  },
  {
   "cell_type": "code",
   "execution_count": 140,
   "metadata": {},
   "outputs": [
    {
     "name": "stdout",
     "output_type": "stream",
     "text": [
      "\n",
      "------------------------------------------------------------\n",
      "Índice: 0\n",
      "Nivel: 0\n",
      "Lista palabras: ['Trees', 'are', 'plants']\n",
      " ______________ \n",
      "|              |\n",
      "|--------------|\n",
      "| EMPTY(empty) |\n",
      "|______________|\n",
      "FOL: EMPTY(empty)\n",
      "\n",
      "------------------------------------------------------------\n",
      "Paso 1\n",
      "Acción: crear_drs_antecedente\n",
      "Recompensa: 0.4427407407407407\n",
      "Índice: 0\n",
      "Nivel: 1\n",
      "Lista palabras: ['Trees', 'are', 'plants']\n",
      " ______________ \n",
      "|              |\n",
      "|--------------|\n",
      "| EMPTY(empty) |\n",
      "|______________|\n",
      "FOL: EMPTY(empty)\n"
     ]
    }
   ],
   "source": [
    "acciones = [\n",
    "    'crear_drs_antecedente',\n",
    "    'incluir_sustantivo',\n",
    "    'enmascarar',\n",
    "    'crear_drs_consecuente',\n",
    "    'incluir_sustantivo_sin_ref',\n",
    "    # 'subir_nivel',\n",
    "    # 'mover_derecha',\n",
    "    # 'mover_derecha',\n",
    "    # 'subir_nivel',\n",
    "    # 'mover_derecha',\n",
    "    # 'enmascarar'\n",
    "]\n",
    "\n",
    "env.reset()\n",
    "print('')\n",
    "print('-'*60)\n",
    "env.render()\n",
    "env.debug = False\n",
    "\n",
    "for i, accion_nombre in enumerate(acciones):\n",
    "    print('')\n",
    "    print('-'*60)\n",
    "    print(f'Paso {i+1}')\n",
    "    print(f'Acción: {accion_nombre}')\n",
    "    accion = env.accion_to_index(accion_nombre)\n",
    "    new_state, reward, done, truncated, info = env.step(accion)\n",
    "    print(f'Recompensa: {reward}')\n",
    "    env.render()\n",
    "    if done or truncated:\n",
    "        break\n"
   ]
  },
  {
   "cell_type": "markdown",
   "metadata": {},
   "source": [
    "## Entrenamiento del agente\n",
    "\n",
    "En las siguientes secciones se definen los parametros de entrenamiento"
   ]
  },
  {
   "cell_type": "code",
   "execution_count": 141,
   "metadata": {},
   "outputs": [
    {
     "name": "stdout",
     "output_type": "stream",
     "text": [
      "Nombre del entorno: FOL_1f_ejemplo_8\n"
     ]
    }
   ],
   "source": [
    "ENV_NAME = f'FOL_1f_ejemplo_{\"_\".join(map(str, NUM_FRASES))}'\n",
    "print(f\"Nombre del entorno: {ENV_NAME}\")"
   ]
  },
  {
   "cell_type": "markdown",
   "metadata": {},
   "source": [
    "### Parametros del entorno"
   ]
  },
  {
   "cell_type": "code",
   "execution_count": 142,
   "metadata": {},
   "outputs": [],
   "source": [
    "# Creacion de la funcion de inicializacion del entorno para verctorizar el entorno\n",
    "def make_env(df:pd.DataFrame, config: dict, id:int=0) -> ParserFOL_1f:\n",
    "    def _init():\n",
    "        global ENV_NAME\n",
    "        env = ParserFOL_1f(df)\n",
    "        env.set_training_parameters(**config)\n",
    "        env.max_turns = MAX_TURNS\n",
    "        # env = DictObservationWrapper(env, key='obs')\n",
    "        log_file = os.path.join(f\"logs_{ENV_NAME}\", f\"fol_{id}\")\n",
    "        env = Monitor(env, log_file, allow_early_resets=True)\n",
    "        return env\n",
    "    return _init\n",
    "\n",
    "# Funcion asocida a la politica de exploracion con base en el proceso de entrenamiento\n",
    "def learning_rate_fn(process_remaining):\n",
    "    initial = 0.01\n",
    "    final =  0.001\n",
    "    return final + (initial - final) * process_remaining"
   ]
  },
  {
   "cell_type": "code",
   "execution_count": 143,
   "metadata": {},
   "outputs": [],
   "source": [
    "# Configuracion de los parametros de entrenamiento del entorno\n",
    "n_envs = 4\n",
    "\n",
    "config = {\n",
    "    \"training_mode\": \"aleatorio\",\n",
    "    \"total_timesteps\": 1_000,\n",
    "    \"guide_reward_frac\": 1.0,\n",
    "    \"max_episodes\": 1\n",
    "}\n",
    "train_env = DummyVecEnv([make_env(df, config, i) for i in range(n_envs)])\n",
    "\n",
    "# Available strategies (cf paper): future, final, episode\n",
    "goal_selection_strategy = \"future\" # equivalent to GoalSelectionStrategy.FUTURE\n",
    "\n",
    " # Parameters for HER\n",
    "replay_buffer_kwargs = {\n",
    "    'n_sampled_goal': 4,\n",
    "    'goal_selection_strategy': goal_selection_strategy,\n",
    "}\n",
    "\n",
    "# Configuracion de la red de la politica de entrenamiento\n",
    "policy_kwargs = dict(\n",
    "    activation_fn=th.nn.ReLU,\n",
    "    net_arch=[1024,64],\n",
    ")\n",
    "\n",
    "# Configuracion de los parametros de entrenamiento del modelo\n",
    "model_kwargs = dict(\n",
    "    policy=\"MlpPolicy\",\n",
    "    buffer_size=100,\n",
    "    target_update_interval=10,\n",
    "    learning_rate=learning_rate_fn,\n",
    "    batch_size=1,\n",
    "    gamma=0, # <= GAMMA\n",
    "    seed=42,\n",
    "    exploration_fraction = 0.8,\n",
    "    exploration_initial_eps= 1.0,\n",
    "    exploration_final_eps= 0.1,\n",
    "    policy_kwargs=policy_kwargs,\n",
    "    stats_window_size=50,\n",
    "    verbose=0\n",
    ")"
   ]
  },
  {
   "cell_type": "code",
   "execution_count": 152,
   "metadata": {},
   "outputs": [],
   "source": [
    "# Instanciar el agente de entrenamiento\n",
    "# model = DQN(env=train_env, **model_kwargs)\n",
    "model = DQN.load(f\"model_{ENV_NAME}\", env=env)\n",
    "# print(model.policy)"
   ]
  },
  {
   "cell_type": "code",
   "execution_count": 145,
   "metadata": {},
   "outputs": [
    {
     "data": {
      "application/vnd.jupyter.widget-view+json": {
       "model_id": "a097ec08b86a410489c59fe7b113807b",
       "version_major": 2,
       "version_minor": 0
      },
      "text/plain": [
       "Output()"
      ]
     },
     "metadata": {},
     "output_type": "display_data"
    },
    {
     "data": {
      "text/html": [
       "<pre style=\"white-space:pre;overflow-x:auto;line-height:normal;font-family:Menlo,'DejaVu Sans Mono',consolas,'Courier New',monospace\"></pre>\n"
      ],
      "text/plain": []
     },
     "metadata": {},
     "output_type": "display_data"
    },
    {
     "data": {
      "text/plain": [
       "<stable_baselines3.dqn.dqn.DQN at 0x221480f0910>"
      ]
     },
     "execution_count": 145,
     "metadata": {},
     "output_type": "execute_result"
    }
   ],
   "source": [
    "# Train the agent and display a progress bar\n",
    "# TIME_STEPS = 100_000\n",
    "TIME_STEPS = 1_000\n",
    "model.learn(\n",
    "    total_timesteps=TIME_STEPS,\n",
    "    progress_bar=True\n",
    ")"
   ]
  },
  {
   "cell_type": "code",
   "execution_count": 146,
   "metadata": {},
   "outputs": [
    {
     "name": "stdout",
     "output_type": "stream",
     "text": [
      "Modelo guardado como: model_FOL_1f_ejemplo_8\n"
     ]
    }
   ],
   "source": [
    "# Save the agent\n",
    "model.save(f\"model_{ENV_NAME}\")\n",
    "print(f\"Modelo guardado como: model_{ENV_NAME}\")"
   ]
  },
  {
   "cell_type": "code",
   "execution_count": 153,
   "metadata": {},
   "outputs": [
    {
     "data": {
      "image/png": "[encoded data removed]",
      "text/plain": [
       "<Figure size 800x200 with 1 Axes>"
      ]
     },
     "metadata": {},
     "output_type": "display_data"
    }
   ],
   "source": [
    "# ver = \"Timesteps\" \n",
    "ver =\"Episodes\"\n",
    "if ver == \"Timesteps\":\n",
    "    results_plotter.plot_results([f\"logs_{ENV_NAME}\"], TIME_STEPS, results_plotter.X_TIMESTEPS, \"Timesteps\")\n",
    "elif ver == \"Episodes\":\n",
    "    results_plotter.plot_results([f\"logs_{ENV_NAME}\"], TIME_STEPS, results_plotter.X_EPISODES, \"Episodes\")"
   ]
  },
  {
   "cell_type": "code",
   "execution_count": 148,
   "metadata": {},
   "outputs": [
    {
     "data": {
      "image/png": "[encoded data removed]",
      "text/plain": [
       "<Figure size 800x400 with 4 Axes>"
      ]
     },
     "metadata": {},
     "output_type": "display_data"
    }
   ],
   "source": [
    "log_files = [os.path.join(f\"logs_{ENV_NAME}\", f\"fol_{i}.monitor.csv\") for i in range(n_envs)]\n",
    "\n",
    "nrows = np.ceil(n_envs/2)\n",
    "fig = plt.figure(figsize=(8, 2 * nrows))\n",
    "for i, log_file in enumerate(log_files):\n",
    "    if os.path.isfile(log_file):\n",
    "        df_results = pd.read_csv(log_file, skiprows=1)\n",
    "        plt.subplot(int(nrows), 2, i+1, label=log_file)\n",
    "        df_results['r'].rolling(window=50).mean().plot(title=f\"Rewards: Env {i}\")\n",
    "        plt.tight_layout()\n",
    "plt.show()"
   ]
  },
  {
   "cell_type": "markdown",
   "metadata": {},
   "source": [
    "Vemos las acciones que realiza el agente y las recompensas paso a paso:"
   ]
  },
  {
   "cell_type": "code",
   "execution_count": 149,
   "metadata": {},
   "outputs": [
    {
     "name": "stdout",
     "output_type": "stream",
     "text": [
      "\n",
      "============================================================\n",
      "Iteración 1\n",
      "\n",
      "------------------------------------------------------------\n",
      "Índice: 0\n",
      "Nivel: 0\n",
      "Trees are plants\n",
      "Trees are plants\n",
      "EMPTY(empty)\n",
      "------------------------------------------------------------\n",
      "\n",
      "accion: incluir_sustantivo\n",
      "Recompensa: 0.4291282051282051\n",
      "\n",
      "============================================================\n",
      "Índice: 1\n",
      "Nivel: 0\n",
      "Frase inicial: Trees are plants\n",
      "Frase procesada: [MASK] are plants\n",
      "FOL: exists x.TREE(x)\n",
      "terminated: False, truncated: True\n",
      "Total reward: 0.4291282051282051\n"
     ]
    }
   ],
   "source": [
    "env.reset()\n",
    "env.max_turns = 1\n",
    "\n",
    "acciones = [\n",
    "    # 'crear_drs_antecedente',\n",
    "    # 'enmascarar',\n",
    "    # 'incluir_sustantivo',\n",
    "    # 'enmascarar',\n",
    "    # 'crear_drs_consecuente',\n",
    "    # 'incluir_sustantivo_sin_ref',\n",
    "    # \"mover_derecha\",\n",
    "]\n",
    "\n",
    "states, list_actions = quick_inspection(model, env, acciones)"
   ]
  },
  {
   "cell_type": "markdown",
   "metadata": {},
   "source": [
    "Estos son los valores $q$ del agente:"
   ]
  },
  {
   "cell_type": "code",
   "execution_count": 150,
   "metadata": {},
   "outputs": [
    {
     "name": "stdout",
     "output_type": "stream",
     "text": [
      "+----------------------------+---------------------+\n",
      "|           Acción           |        Valor        |\n",
      "+----------------------------+---------------------+\n",
      "|     incluir_sustantivo     | 0.43433648347854614 |\n",
      "| incluir_sustantivo_sin_ref |  0.4136768579483032 |\n",
      "|         enmascarar         |  0.3370434641838074 |\n",
      "|       mover_derecha        |  0.2689920961856842 |\n",
      "|   crear_drs_antecedente    |  0.2656800150871277 |\n",
      "|   crear_drs_consecuente    | 0.20161958038806915 |\n",
      "+----------------------------+---------------------+\n"
     ]
    }
   ],
   "source": [
    "obs = states[0]\n",
    "q_values_at_state(model, env, obs)"
   ]
  },
  {
   "cell_type": "markdown",
   "metadata": {},
   "source": [
    "Estas son las recompensas del entorno para comparar con los valores $q$:"
   ]
  },
  {
   "cell_type": "code",
   "execution_count": 151,
   "metadata": {},
   "outputs": [
    {
     "name": "stdout",
     "output_type": "stream",
     "text": [
      "+----------------------------+---------------------+\n",
      "|           Acción           |      Recompensa     |\n",
      "+----------------------------+---------------------+\n",
      "|   crear_drs_antecedente    |  0.6670697674418605 |\n",
      "| incluir_sustantivo_sin_ref | 0.48257699115044245 |\n",
      "|         enmascarar         | 0.47840000000000005 |\n",
      "|     incluir_sustantivo     |  0.4760551724137931 |\n",
      "|       mover_derecha        |         0.4         |\n",
      "|   crear_drs_consecuente    |         0.2         |\n",
      "+----------------------------+---------------------+\n"
     ]
    }
   ],
   "source": [
    "env.debug = False\n",
    "acciones_previas = list_actions[:1]\n",
    "rewards_at_state(env, acciones_previas)"
   ]
  },
  {
   "cell_type": "markdown",
   "metadata": {},
   "source": [
    "from parser.parser_auxiliary_classes import Nodo\n",
    "\n",
    "env.debug = False\n",
    "obs, info = env.reset()\n",
    "env.render()\n",
    "counter = 0\n",
    "total_reward = 0\n",
    "print(f'{env.estado.indice} --- {env.estado.obtener_cadena()} --- {Nodo.llenar_vacios(env.raiz.drs)}')\n",
    "while True:\n",
    "    counter += 1\n",
    "    print('')\n",
    "    print('-'*60)\n",
    "    print(f\"Iteración {counter}\")\n",
    "    action, _states = model.predict(obs, deterministic=True)\n",
    "    obs_anterior = obs\n",
    "    obs, reward, terminated, truncated, info = env.step(action)\n",
    "    # print(f'Dimensiones diferencia: {np.where(obs != obs_anterior)}')\n",
    "    total_reward += reward\n",
    "    print(f\"accion := {env.nombre_acciones[action]}\")\n",
    "    print(f'Recompensa: {reward}')\n",
    "    print(f'Estoy en el nivel {env.estado.nodo.nivel()}')\n",
    "    env.render()\n",
    "    print(f'{env.estado.indice} --- {env.estado.nodo.nivel()} --- {env.estado.obtener_cadena()} --- {Nodo.llenar_vacios(env.raiz.drs)}')\n",
    "    # print(f'Tamaño diferencia: {len(np.where(obs != obs_anterior)[0])}')\n",
    "    if terminated or truncated:\n",
    "        break\n",
    "\n",
    "print(f'Total reward: {total_reward}')"
   ]
  },
  {
   "cell_type": "markdown",
   "metadata": {},
   "source": [
    "---"
   ]
  }
 ],
 "metadata": {
  "kernelspec": {
   "display_name": "RLenv",
   "language": "python",
   "name": "python3"
  },
  "language_info": {
   "codemirror_mode": {
    "name": "ipython",
    "version": 3
   },
   "file_extension": ".py",
   "mimetype": "text/x-python",
   "name": "python",
   "nbconvert_exporter": "python",
   "pygments_lexer": "ipython3",
   "version": "3.13.2"
  }
 },
 "nbformat": 4,
 "nbformat_minor": 4
}
