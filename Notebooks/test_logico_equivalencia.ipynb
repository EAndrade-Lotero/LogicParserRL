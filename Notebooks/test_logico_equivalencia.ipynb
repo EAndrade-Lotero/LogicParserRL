{
 "cells": [
  {
   "cell_type": "markdown",
   "id": "31816cb6",
   "metadata": {},
   "source": [
    "# Test lógico equivalencia"
   ]
  },
  {
   "cell_type": "code",
   "execution_count": 1,
   "id": "d5462dd2",
   "metadata": {},
   "outputs": [],
   "source": [
    "import sys\n",
    "\n",
    "sys.path.append(\"../src\")"
   ]
  },
  {
   "cell_type": "code",
   "execution_count": 2,
   "id": "a9dde105",
   "metadata": {},
   "outputs": [],
   "source": [
    "import nltk\n",
    "import pandas as pd\n",
    "\n",
    "from pathlib import Path\n",
    "from tqdm.auto import tqdm"
   ]
  },
  {
   "cell_type": "code",
   "execution_count": 3,
   "id": "779bcf00",
   "metadata": {},
   "outputs": [],
   "source": [
    "from config.config import PATHS\n",
    "from logic.logic_tester import LogicTester"
   ]
  },
  {
   "cell_type": "code",
   "execution_count": 4,
   "id": "d38cd182",
   "metadata": {},
   "outputs": [
    {
     "name": "stdout",
     "output_type": "stream",
     "text": [
      "Data shape: (10650, 3)\n"
     ]
    },
    {
     "data": {
      "text/html": [
       "<div>\n",
       "<style scoped>\n",
       "    .dataframe tbody tr th:only-of-type {\n",
       "        vertical-align: middle;\n",
       "    }\n",
       "\n",
       "    .dataframe tbody tr th {\n",
       "        vertical-align: top;\n",
       "    }\n",
       "\n",
       "    .dataframe thead th {\n",
       "        text-align: right;\n",
       "    }\n",
       "</style>\n",
       "<table border=\"1\" class=\"dataframe\">\n",
       "  <thead>\n",
       "    <tr style=\"text-align: right;\">\n",
       "      <th></th>\n",
       "      <th>Sentence 1</th>\n",
       "      <th>Sentence 2</th>\n",
       "      <th>Relation</th>\n",
       "    </tr>\n",
       "  </thead>\n",
       "  <tbody>\n",
       "    <tr>\n",
       "      <th>10645</th>\n",
       "      <td>exists x.(ALCER(x) &amp; (AMANECER(x) | ANOCHECER(...</td>\n",
       "      <td>-exists x.(ALCER(x) &amp; (AMANECER(x) | ANOCHECER...</td>\n",
       "      <td>0</td>\n",
       "    </tr>\n",
       "    <tr>\n",
       "      <th>10646</th>\n",
       "      <td>exists x.(ALCER(x) &amp; (ANOCHECER(x) | ACORDAR(x)))</td>\n",
       "      <td>-exists x.(ALCER(x) &amp; (ANOCHECER(x) | ACORDAR(...</td>\n",
       "      <td>0</td>\n",
       "    </tr>\n",
       "    <tr>\n",
       "      <th>10647</th>\n",
       "      <td>exists x.(ALCER(x) &amp; (ANOCHECER(x) | AGUANTAR(...</td>\n",
       "      <td>-exists x.(ALCER(x) &amp; (ANOCHECER(x) | AGUANTAR...</td>\n",
       "      <td>0</td>\n",
       "    </tr>\n",
       "    <tr>\n",
       "      <th>10648</th>\n",
       "      <td>exists x.(ALCER(x) &amp; (ANOCHECER(x) | AMAR(x)))</td>\n",
       "      <td>-exists x.(ALCER(x) &amp; (ANOCHECER(x) | AMAR(x)))</td>\n",
       "      <td>0</td>\n",
       "    </tr>\n",
       "    <tr>\n",
       "      <th>10649</th>\n",
       "      <td>exists x.(ALCER(x) &amp; (ANOCHECER(x) | AMANECER(...</td>\n",
       "      <td>-exists x.(ALCER(x) &amp; (ANOCHECER(x) | AMANECER...</td>\n",
       "      <td>0</td>\n",
       "    </tr>\n",
       "  </tbody>\n",
       "</table>\n",
       "</div>"
      ],
      "text/plain": [
       "                                              Sentence 1  \\\n",
       "10645  exists x.(ALCER(x) & (AMANECER(x) | ANOCHECER(...   \n",
       "10646  exists x.(ALCER(x) & (ANOCHECER(x) | ACORDAR(x)))   \n",
       "10647  exists x.(ALCER(x) & (ANOCHECER(x) | AGUANTAR(...   \n",
       "10648     exists x.(ALCER(x) & (ANOCHECER(x) | AMAR(x)))   \n",
       "10649  exists x.(ALCER(x) & (ANOCHECER(x) | AMANECER(...   \n",
       "\n",
       "                                              Sentence 2  Relation  \n",
       "10645  -exists x.(ALCER(x) & (AMANECER(x) | ANOCHECER...         0  \n",
       "10646  -exists x.(ALCER(x) & (ANOCHECER(x) | ACORDAR(...         0  \n",
       "10647  -exists x.(ALCER(x) & (ANOCHECER(x) | AGUANTAR...         0  \n",
       "10648    -exists x.(ALCER(x) & (ANOCHECER(x) | AMAR(x)))         0  \n",
       "10649  -exists x.(ALCER(x) & (ANOCHECER(x) | AMANECER...         0  "
      ]
     },
     "execution_count": 4,
     "metadata": {},
     "output_type": "execute_result"
    }
   ],
   "source": [
    "data_folder = PATHS['training_data_folder']\n",
    "data_path = Path(data_folder, 'equivalencia_5_fol.csv')\n",
    "data = pd.read_csv(data_path, names=['Sentence 1', 'Sentence 2', 'Relation'], sep=\";\")\n",
    "print(f'Data shape: {data.shape}')\n",
    "data.tail()"
   ]
  },
  {
   "cell_type": "code",
   "execution_count": 5,
   "id": "fd5c45f7",
   "metadata": {},
   "outputs": [],
   "source": [
    "sentences1 = data['Sentence 1'].tolist()\n",
    "sentences2 = data['Sentence 2'].tolist()"
   ]
  },
  {
   "cell_type": "code",
   "execution_count": 6,
   "id": "5fddf321",
   "metadata": {},
   "outputs": [],
   "source": [
    "tester = LogicTester()"
   ]
  },
  {
   "cell_type": "code",
   "execution_count": 7,
   "id": "eea4e29a",
   "metadata": {},
   "outputs": [
    {
     "data": {
      "application/vnd.jupyter.widget-view+json": {
       "model_id": "5d96ca19a8404473873eef8820c2c851",
       "version_major": 2,
       "version_minor": 0
      },
      "text/plain": [
       "Testing equivalence relations:   0%|          | 0/10650 [00:00<?, ?it/s]"
      ]
     },
     "metadata": {},
     "output_type": "display_data"
    },
    {
     "data": {
      "text/html": [
       "<div>\n",
       "<style scoped>\n",
       "    .dataframe tbody tr th:only-of-type {\n",
       "        vertical-align: middle;\n",
       "    }\n",
       "\n",
       "    .dataframe tbody tr th {\n",
       "        vertical-align: top;\n",
       "    }\n",
       "\n",
       "    .dataframe thead th {\n",
       "        text-align: right;\n",
       "    }\n",
       "</style>\n",
       "<table border=\"1\" class=\"dataframe\">\n",
       "  <thead>\n",
       "    <tr style=\"text-align: right;\">\n",
       "      <th></th>\n",
       "      <th>Sentence 1</th>\n",
       "      <th>Sentence 2</th>\n",
       "      <th>Relation</th>\n",
       "      <th>Tested</th>\n",
       "    </tr>\n",
       "  </thead>\n",
       "  <tbody>\n",
       "    <tr>\n",
       "      <th>0</th>\n",
       "      <td>-all x.((ABUELO(x) &amp; ALEGRE(x)) -&gt; ACORDAR(x))</td>\n",
       "      <td>exists x.(ABUELO(x) &amp; ALEGRE(x) &amp; -ACORDAR(x))</td>\n",
       "      <td>1</td>\n",
       "      <td>1</td>\n",
       "    </tr>\n",
       "    <tr>\n",
       "      <th>1</th>\n",
       "      <td>-all x.((ABUELO(x) &amp; ALTO(x)) -&gt; ACORDAR(x))</td>\n",
       "      <td>exists x.(ABUELO(x) &amp; ALTO(x) &amp; -ACORDAR(x))</td>\n",
       "      <td>1</td>\n",
       "      <td>1</td>\n",
       "    </tr>\n",
       "    <tr>\n",
       "      <th>2</th>\n",
       "      <td>-all x.((ABUELO(x) &amp; AMARGO(x)) -&gt; ACORDAR(x))</td>\n",
       "      <td>exists x.(ABUELO(x) &amp; AMARGO(x) &amp; -ACORDAR(x))</td>\n",
       "      <td>1</td>\n",
       "      <td>1</td>\n",
       "    </tr>\n",
       "    <tr>\n",
       "      <th>3</th>\n",
       "      <td>-all x.((ABUELO(x) &amp; AMPLIO(x)) -&gt; ACORDAR(x))</td>\n",
       "      <td>exists x.(ABUELO(x) &amp; AMPLIO(x) &amp; -ACORDAR(x))</td>\n",
       "      <td>1</td>\n",
       "      <td>1</td>\n",
       "    </tr>\n",
       "    <tr>\n",
       "      <th>4</th>\n",
       "      <td>-all x.((ABUELO(x) &amp; AMARILLO(x)) -&gt; ACORDAR(x))</td>\n",
       "      <td>exists x.(ABUELO(x) &amp; AMARILLO(x) &amp; -ACORDAR(x))</td>\n",
       "      <td>1</td>\n",
       "      <td>1</td>\n",
       "    </tr>\n",
       "  </tbody>\n",
       "</table>\n",
       "</div>"
      ],
      "text/plain": [
       "                                         Sentence 1  \\\n",
       "0    -all x.((ABUELO(x) & ALEGRE(x)) -> ACORDAR(x))   \n",
       "1      -all x.((ABUELO(x) & ALTO(x)) -> ACORDAR(x))   \n",
       "2    -all x.((ABUELO(x) & AMARGO(x)) -> ACORDAR(x))   \n",
       "3    -all x.((ABUELO(x) & AMPLIO(x)) -> ACORDAR(x))   \n",
       "4  -all x.((ABUELO(x) & AMARILLO(x)) -> ACORDAR(x))   \n",
       "\n",
       "                                         Sentence 2  Relation  Tested  \n",
       "0    exists x.(ABUELO(x) & ALEGRE(x) & -ACORDAR(x))         1       1  \n",
       "1      exists x.(ABUELO(x) & ALTO(x) & -ACORDAR(x))         1       1  \n",
       "2    exists x.(ABUELO(x) & AMARGO(x) & -ACORDAR(x))         1       1  \n",
       "3    exists x.(ABUELO(x) & AMPLIO(x) & -ACORDAR(x))         1       1  \n",
       "4  exists x.(ABUELO(x) & AMARILLO(x) & -ACORDAR(x))         1       1  "
      ]
     },
     "execution_count": 7,
     "metadata": {},
     "output_type": "execute_result"
    }
   ],
   "source": [
    "tested = list()\n",
    "pbar = tqdm(total=data.shape[0], desc=\"Testing equivalence relations\")\n",
    "for index, row in data.iterrows():\n",
    "    sentences1 = row['Sentence 1']\n",
    "    sentences2 = row['Sentence 2']\n",
    "    # print('Sentences:', sentences1, sentences2)\n",
    "    relation = row['Relation']\n",
    "    result = tester.test_equivalencia(sentences1, sentences2)\n",
    "    tested.append(int(result))\n",
    "    pbar.update(1)\n",
    "\n",
    "data['Tested'] = tested\n",
    "data.head()"
   ]
  },
  {
   "cell_type": "code",
   "execution_count": 8,
   "id": "2f6be443",
   "metadata": {},
   "outputs": [],
   "source": [
    "errors = pd.DataFrame(data[data['Tested'] != data['Relation']]).reset_index()"
   ]
  },
  {
   "cell_type": "code",
   "execution_count": 9,
   "id": "ab3cde57",
   "metadata": {},
   "outputs": [
    {
     "data": {
      "text/plain": [
       "0"
      ]
     },
     "execution_count": 9,
     "metadata": {},
     "output_type": "execute_result"
    }
   ],
   "source": [
    "len(errors)"
   ]
  },
  {
   "cell_type": "code",
   "execution_count": 10,
   "id": "cbb14f9e",
   "metadata": {},
   "outputs": [
    {
     "data": {
      "text/html": [
       "<div>\n",
       "<style scoped>\n",
       "    .dataframe tbody tr th:only-of-type {\n",
       "        vertical-align: middle;\n",
       "    }\n",
       "\n",
       "    .dataframe tbody tr th {\n",
       "        vertical-align: top;\n",
       "    }\n",
       "\n",
       "    .dataframe thead th {\n",
       "        text-align: right;\n",
       "    }\n",
       "</style>\n",
       "<table border=\"1\" class=\"dataframe\">\n",
       "  <thead>\n",
       "    <tr style=\"text-align: right;\">\n",
       "      <th></th>\n",
       "      <th>index</th>\n",
       "      <th>Sentence 1</th>\n",
       "      <th>Sentence 2</th>\n",
       "      <th>Relation</th>\n",
       "      <th>Tested</th>\n",
       "    </tr>\n",
       "  </thead>\n",
       "  <tbody>\n",
       "  </tbody>\n",
       "</table>\n",
       "</div>"
      ],
      "text/plain": [
       "Empty DataFrame\n",
       "Columns: [index, Sentence 1, Sentence 2, Relation, Tested]\n",
       "Index: []"
      ]
     },
     "execution_count": 10,
     "metadata": {},
     "output_type": "execute_result"
    }
   ],
   "source": [
    "errors.head(5)"
   ]
  }
 ],
 "metadata": {
  "kernelspec": {
   "display_name": "3.11.5",
   "language": "python",
   "name": "python3"
  },
  "language_info": {
   "codemirror_mode": {
    "name": "ipython",
    "version": 3
   },
   "file_extension": ".py",
   "mimetype": "text/x-python",
   "name": "python",
   "nbconvert_exporter": "python",
   "pygments_lexer": "ipython3",
   "version": "3.11.5"
  }
 },
 "nbformat": 4,
 "nbformat_minor": 5
}
