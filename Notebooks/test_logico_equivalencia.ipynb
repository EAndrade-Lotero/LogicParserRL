{
 "cells": [
  {
   "cell_type": "markdown",
   "id": "31816cb6",
   "metadata": {},
   "source": [
    "# Test lógico equivalencia"
   ]
  },
  {
   "cell_type": "code",
   "execution_count": 1,
   "id": "d5462dd2",
   "metadata": {},
   "outputs": [],
   "source": [
    "import sys\n",
    "\n",
    "sys.path.append(\"../src\")"
   ]
  },
  {
   "cell_type": "code",
   "execution_count": 2,
   "id": "a9dde105",
   "metadata": {},
   "outputs": [],
   "source": [
    "import nltk\n",
    "import pandas as pd\n",
    "\n",
    "from pathlib import Path\n",
    "from tqdm.auto import tqdm\n",
    "from pyprover import *\n",
    "\n",
    "from nltk.sem.logic import LogicParser\n",
    "\n",
    "lp = LogicParser()"
   ]
  },
  {
   "cell_type": "code",
   "execution_count": 3,
   "id": "779bcf00",
   "metadata": {},
   "outputs": [],
   "source": [
    "from config.config import PATHS\n",
    "from parser.parser_utils import Parse2pyprover"
   ]
  },
  {
   "cell_type": "code",
   "execution_count": 4,
   "id": "d38cd182",
   "metadata": {},
   "outputs": [
    {
     "name": "stdout",
     "output_type": "stream",
     "text": [
      "Data shape: (5, 3)\n"
     ]
    },
    {
     "data": {
      "text/html": [
       "<div>\n",
       "<style scoped>\n",
       "    .dataframe tbody tr th:only-of-type {\n",
       "        vertical-align: middle;\n",
       "    }\n",
       "\n",
       "    .dataframe tbody tr th {\n",
       "        vertical-align: top;\n",
       "    }\n",
       "\n",
       "    .dataframe thead th {\n",
       "        text-align: right;\n",
       "    }\n",
       "</style>\n",
       "<table border=\"1\" class=\"dataframe\">\n",
       "  <thead>\n",
       "    <tr style=\"text-align: right;\">\n",
       "      <th></th>\n",
       "      <th>Sentence 1</th>\n",
       "      <th>Sentence 2</th>\n",
       "      <th>Relation</th>\n",
       "    </tr>\n",
       "  </thead>\n",
       "  <tbody>\n",
       "    <tr>\n",
       "      <th>0</th>\n",
       "      <td>-(exists x.(ESCRITOR(x) &amp; SALADO(x)) &amp; all x.(...</td>\n",
       "      <td>exists x.(ESCRITOR(x) &amp; SALADO(x) &amp; -DESCANSAR...</td>\n",
       "      <td>1</td>\n",
       "    </tr>\n",
       "    <tr>\n",
       "      <th>1</th>\n",
       "      <td>-(exists x.(ESCRITOR(x) &amp; ENOJAR(x)) &amp; all x.(...</td>\n",
       "      <td>exists x.(ESCRITOR(x) &amp; ENOJAR(x) &amp; -DESCANSAR...</td>\n",
       "      <td>1</td>\n",
       "    </tr>\n",
       "    <tr>\n",
       "      <th>2</th>\n",
       "      <td>-(exists x.(ESCRITOR(x) &amp; AMPLIO(x)) &amp; all x.(...</td>\n",
       "      <td>exists x.(ESCRITOR(x) &amp; AMPLIO(x) &amp; -DESCANSAR...</td>\n",
       "      <td>1</td>\n",
       "    </tr>\n",
       "    <tr>\n",
       "      <th>3</th>\n",
       "      <td>-(exists x.(ESCRITOR(x) &amp; JOVEN(x)) &amp; all x.((...</td>\n",
       "      <td>exists x.(ESCRITOR(x) &amp; JOVEN(x) &amp; -DESCANSAR(x))</td>\n",
       "      <td>1</td>\n",
       "    </tr>\n",
       "    <tr>\n",
       "      <th>4</th>\n",
       "      <td>-(exists x.(ESCRITOR(x) &amp; TORCIDO(x)) &amp; all x....</td>\n",
       "      <td>exists x.(ESCRITOR(x) &amp; TORCIDO(x) &amp; -DESCANSA...</td>\n",
       "      <td>1</td>\n",
       "    </tr>\n",
       "  </tbody>\n",
       "</table>\n",
       "</div>"
      ],
      "text/plain": [
       "                                          Sentence 1  \\\n",
       "0  -(exists x.(ESCRITOR(x) & SALADO(x)) & all x.(...   \n",
       "1  -(exists x.(ESCRITOR(x) & ENOJAR(x)) & all x.(...   \n",
       "2  -(exists x.(ESCRITOR(x) & AMPLIO(x)) & all x.(...   \n",
       "3  -(exists x.(ESCRITOR(x) & JOVEN(x)) & all x.((...   \n",
       "4  -(exists x.(ESCRITOR(x) & TORCIDO(x)) & all x....   \n",
       "\n",
       "                                          Sentence 2  Relation  \n",
       "0  exists x.(ESCRITOR(x) & SALADO(x) & -DESCANSAR...         1  \n",
       "1  exists x.(ESCRITOR(x) & ENOJAR(x) & -DESCANSAR...         1  \n",
       "2  exists x.(ESCRITOR(x) & AMPLIO(x) & -DESCANSAR...         1  \n",
       "3  exists x.(ESCRITOR(x) & JOVEN(x) & -DESCANSAR(x))         1  \n",
       "4  exists x.(ESCRITOR(x) & TORCIDO(x) & -DESCANSA...         1  "
      ]
     },
     "execution_count": 4,
     "metadata": {},
     "output_type": "execute_result"
    }
   ],
   "source": [
    "data_folder = PATHS['training_data_folder']\n",
    "data_path = Path(data_folder, 'equivalencia_5_fol.csv')\n",
    "data = pd.read_csv(data_path, names=['Sentence 1', 'Sentence 2', 'Relation'], sep=\";\", nrows=5)\n",
    "print(f'Data shape: {data.shape}')\n",
    "data.tail()"
   ]
  },
  {
   "cell_type": "code",
   "execution_count": 6,
   "id": "fd5c45f7",
   "metadata": {},
   "outputs": [],
   "source": [
    "sentences1 = data['Sentence 1'].tolist()\n",
    "sentences2 = data['Sentence 2'].tolist()"
   ]
  },
  {
   "cell_type": "code",
   "execution_count": 12,
   "id": "9a2ffe64",
   "metadata": {},
   "outputs": [],
   "source": [
    "def test_equivalencia(sentence1:str, sentence2:str) -> bool:\n",
    "    '''\n",
    "    Test equivalence between two sentences.\n",
    "    '''\n",
    "    #Test sentence1 implies sentence2\n",
    "    sentence1_nltk = lp.parse(f'{sentence1}')\n",
    "    print(f'Sentence 1 NLTK: {sentence1_nltk}')\n",
    "    sentence1_pyprover = Parse2pyprover.parse(sentence1_nltk)\n",
    "\n",
    "    sentence2_nltk = lp.parse(f'{sentence2}')\n",
    "    print(f'Sentence 2 NLTK: {sentence2_nltk}')\n",
    "    sentence2_pyprover = Parse2pyprover.parse(sentence2_nltk)\n",
    "\n",
    "    premisas = [sentence1_pyprover]\n",
    "    conclusion = sentence2_pyprover\n",
    "    resultado1 = proves(premisas, conclusion)\n",
    "    print('Resultado:', resultado1)\n",
    "\n",
    "    # Test sentence2 implies sentence1\n",
    "\n",
    "    premisas = [sentence2_pyprover]\n",
    "    conclusion = sentence1_pyprover\n",
    "    resultado2 = proves(premisas, conclusion)\n",
    "    print('Resultado:', resultado2)\n",
    "\n",
    "    return resultado1 and resultado2"
   ]
  },
  {
   "cell_type": "code",
   "execution_count": 13,
   "id": "eea4e29a",
   "metadata": {},
   "outputs": [
    {
     "name": "stdout",
     "output_type": "stream",
     "text": [
      "Sentences: -(exists x.(ESCRITOR(x) & SALADO(x)) & all x.((ESCRITOR(x) & SALADO(x)) -> DESCANSAR(x))) exists x.(ESCRITOR(x) & SALADO(x) & -DESCANSAR(x))\n",
      "Sentence 1 NLTK: -(exists x.(ESCRITOR(x) & SALADO(x)) & all x.((ESCRITOR(x) & SALADO(x)) -> DESCANSAR(x)))\n",
      "Sentence 2 NLTK: exists x.(ESCRITOR(x) & SALADO(x) & -DESCANSAR(x))\n"
     ]
    },
    {
     "ename": "KeyboardInterrupt",
     "evalue": "",
     "output_type": "error",
     "traceback": [
      "\u001b[31m---------------------------------------------------------------------------\u001b[39m",
      "\u001b[31mKeyboardInterrupt\u001b[39m                         Traceback (most recent call last)",
      "\u001b[36mCell\u001b[39m\u001b[36m \u001b[39m\u001b[32mIn[13]\u001b[39m\u001b[32m, line 7\u001b[39m\n\u001b[32m      5\u001b[39m     \u001b[38;5;28mprint\u001b[39m(\u001b[33m'\u001b[39m\u001b[33mSentences:\u001b[39m\u001b[33m'\u001b[39m, sentences1, sentences2)\n\u001b[32m      6\u001b[39m     relation = row[\u001b[33m'\u001b[39m\u001b[33mRelation\u001b[39m\u001b[33m'\u001b[39m]\n\u001b[32m----> \u001b[39m\u001b[32m7\u001b[39m     result = \u001b[43mtest_equivalencia\u001b[49m\u001b[43m(\u001b[49m\u001b[43msentences1\u001b[49m\u001b[43m,\u001b[49m\u001b[43m \u001b[49m\u001b[43msentences2\u001b[49m\u001b[43m)\u001b[49m\n\u001b[32m      8\u001b[39m     tested.append(\u001b[38;5;28mint\u001b[39m(result))\n\u001b[32m     10\u001b[39m data[\u001b[33m'\u001b[39m\u001b[33mTested\u001b[39m\u001b[33m'\u001b[39m] = tested\n",
      "\u001b[36mCell\u001b[39m\u001b[36m \u001b[39m\u001b[32mIn[12]\u001b[39m\u001b[32m, line 16\u001b[39m, in \u001b[36mtest_equivalencia\u001b[39m\u001b[34m(sentence1, sentence2)\u001b[39m\n\u001b[32m     14\u001b[39m premisas = [sentence1_pyprover]\n\u001b[32m     15\u001b[39m conclusion = sentence2_pyprover\n\u001b[32m---> \u001b[39m\u001b[32m16\u001b[39m resultado1 = \u001b[43mproves\u001b[49m\u001b[43m(\u001b[49m\u001b[43mpremisas\u001b[49m\u001b[43m,\u001b[49m\u001b[43m \u001b[49m\u001b[43mconclusion\u001b[49m\u001b[43m)\u001b[49m\n\u001b[32m     17\u001b[39m \u001b[38;5;28mprint\u001b[39m(\u001b[33m'\u001b[39m\u001b[33mResultado:\u001b[39m\u001b[33m'\u001b[39m, resultado1)\n\u001b[32m     19\u001b[39m \u001b[38;5;66;03m# Test sentence2 implies sentence1\u001b[39;00m\n",
      "\u001b[36mFile \u001b[39m\u001b[32m~/.pyenv/versions/3.11.5/lib/python3.11/site-packages/pyprover/tools.py:110\u001b[39m, in \u001b[36mproves\u001b[39m\u001b[34m(givens, conclusion, **kwargs)\u001b[39m\n\u001b[32m    108\u001b[39m \u001b[38;5;28;01mdef\u001b[39;00m\u001b[38;5;250m \u001b[39m\u001b[34mproves\u001b[39m(givens, conclusion, **kwargs):  \u001b[38;5;66;03m#58 (line num in coconut source)\u001b[39;00m\n\u001b[32m    109\u001b[39m \u001b[38;5;250m    \u001b[39m\u001b[33;03m\"\"\"Determines if the givens prove the conclusion.\"\"\"\u001b[39;00m  \u001b[38;5;66;03m#59 (line num in coconut source)\u001b[39;00m\n\u001b[32m--> \u001b[39m\u001b[32m110\u001b[39m     \u001b[38;5;28;01mreturn\u001b[39;00m \u001b[43m(\u001b[49m\u001b[43msolve\u001b[49m\u001b[43m)\u001b[49m\u001b[43m(\u001b[49m\u001b[43mno_proof_of\u001b[49m\u001b[43m(\u001b[49m\u001b[43mgivens\u001b[49m\u001b[43m,\u001b[49m\u001b[43m \u001b[49m\u001b[43mconclusion\u001b[49m\u001b[43m)\u001b[49m\u001b[43m,\u001b[49m\u001b[43m \u001b[49m\u001b[43m*\u001b[49m\u001b[43m*\u001b[49m\u001b[43mkwargs\u001b[49m\u001b[43m)\u001b[49m == bot\n",
      "\u001b[36mFile \u001b[39m\u001b[32m~/.pyenv/versions/3.11.5/lib/python3.11/site-packages/pyprover/__coconut__.py:328\u001b[39m, in \u001b[36m_coconut_tco.<locals>.tail_call_optimized_func\u001b[39m\u001b[34m(*args, **kwargs)\u001b[39m\n\u001b[32m    326\u001b[39m     \u001b[38;5;28;01mif\u001b[39;00m wkref_func \u001b[38;5;129;01mis\u001b[39;00m call_func:\n\u001b[32m    327\u001b[39m         call_func = call_func._coconut_tco_func\n\u001b[32m--> \u001b[39m\u001b[32m328\u001b[39m result = \u001b[43mcall_func\u001b[49m\u001b[43m(\u001b[49m\u001b[43m*\u001b[49m\u001b[43margs\u001b[49m\u001b[43m,\u001b[49m\u001b[43m \u001b[49m\u001b[43m*\u001b[49m\u001b[43m*\u001b[49m\u001b[43mkwargs\u001b[49m\u001b[43m)\u001b[49m  \u001b[38;5;66;03m# pass --no-tco to clean up your traceback\u001b[39;00m\n\u001b[32m    329\u001b[39m \u001b[38;5;28;01mif\u001b[39;00m \u001b[38;5;129;01mnot\u001b[39;00m \u001b[38;5;28misinstance\u001b[39m(result, _coconut_tail_call):\n\u001b[32m    330\u001b[39m     \u001b[38;5;28;01mreturn\u001b[39;00m result\n",
      "\u001b[36mFile \u001b[39m\u001b[32m~/.pyenv/versions/3.11.5/lib/python3.11/site-packages/pyprover/logic.py:709\u001b[39m, in \u001b[36mQuantifier.resolve\u001b[39m\u001b[34m(self, **kwargs)\u001b[39m\n\u001b[32m    707\u001b[39m \u001b[38;5;129m@_coconut_tco\u001b[39m  \u001b[38;5;66;03m#494 (line num in coconut source)\u001b[39;00m\n\u001b[32m    708\u001b[39m \u001b[38;5;28;01mdef\u001b[39;00m\u001b[38;5;250m \u001b[39m\u001b[34mresolve\u001b[39m(\u001b[38;5;28mself\u001b[39m, **kwargs):  \u001b[38;5;66;03m#494 (line num in coconut source)\u001b[39;00m\n\u001b[32m--> \u001b[39m\u001b[32m709\u001b[39m     \u001b[38;5;28;01mreturn\u001b[39;00m _coconut_tail_call(\u001b[38;5;28mself\u001b[39m.\u001b[34m__class__\u001b[39m(\u001b[38;5;28mself\u001b[39m.var, \u001b[38;5;28;43mself\u001b[39;49m\u001b[43m.\u001b[49m\u001b[43melem\u001b[49m\u001b[43m.\u001b[49m\u001b[43mresolve\u001b[49m\u001b[43m(\u001b[49m\u001b[43m*\u001b[49m\u001b[43m*\u001b[49m\u001b[38;5;28;43mself\u001b[39;49m\u001b[43m.\u001b[49m\u001b[43minner_kwargs\u001b[49m\u001b[43m(\u001b[49m\u001b[43mkwargs\u001b[49m\u001b[43m)\u001b[49m\u001b[43m)\u001b[49m).simplify, dnf=\u001b[38;5;28;01mFalse\u001b[39;00m, **kwargs)\n",
      "\u001b[36mFile \u001b[39m\u001b[32m~/.pyenv/versions/3.11.5/lib/python3.11/site-packages/pyprover/__coconut__.py:328\u001b[39m, in \u001b[36m_coconut_tco.<locals>.tail_call_optimized_func\u001b[39m\u001b[34m(*args, **kwargs)\u001b[39m\n\u001b[32m    326\u001b[39m     \u001b[38;5;28;01mif\u001b[39;00m wkref_func \u001b[38;5;129;01mis\u001b[39;00m call_func:\n\u001b[32m    327\u001b[39m         call_func = call_func._coconut_tco_func\n\u001b[32m--> \u001b[39m\u001b[32m328\u001b[39m result = \u001b[43mcall_func\u001b[49m\u001b[43m(\u001b[49m\u001b[43m*\u001b[49m\u001b[43margs\u001b[49m\u001b[43m,\u001b[49m\u001b[43m \u001b[49m\u001b[43m*\u001b[49m\u001b[43m*\u001b[49m\u001b[43mkwargs\u001b[49m\u001b[43m)\u001b[49m  \u001b[38;5;66;03m# pass --no-tco to clean up your traceback\u001b[39;00m\n\u001b[32m    329\u001b[39m \u001b[38;5;28;01mif\u001b[39;00m \u001b[38;5;129;01mnot\u001b[39;00m \u001b[38;5;28misinstance\u001b[39m(result, _coconut_tail_call):\n\u001b[32m    330\u001b[39m     \u001b[38;5;28;01mreturn\u001b[39;00m result\n",
      "\u001b[36mFile \u001b[39m\u001b[32m~/.pyenv/versions/3.11.5/lib/python3.11/site-packages/pyprover/logic.py:709\u001b[39m, in \u001b[36mQuantifier.resolve\u001b[39m\u001b[34m(self, **kwargs)\u001b[39m\n\u001b[32m    707\u001b[39m \u001b[38;5;129m@_coconut_tco\u001b[39m  \u001b[38;5;66;03m#494 (line num in coconut source)\u001b[39;00m\n\u001b[32m    708\u001b[39m \u001b[38;5;28;01mdef\u001b[39;00m\u001b[38;5;250m \u001b[39m\u001b[34mresolve\u001b[39m(\u001b[38;5;28mself\u001b[39m, **kwargs):  \u001b[38;5;66;03m#494 (line num in coconut source)\u001b[39;00m\n\u001b[32m--> \u001b[39m\u001b[32m709\u001b[39m     \u001b[38;5;28;01mreturn\u001b[39;00m _coconut_tail_call(\u001b[38;5;28mself\u001b[39m.\u001b[34m__class__\u001b[39m(\u001b[38;5;28mself\u001b[39m.var, \u001b[38;5;28;43mself\u001b[39;49m\u001b[43m.\u001b[49m\u001b[43melem\u001b[49m\u001b[43m.\u001b[49m\u001b[43mresolve\u001b[49m\u001b[43m(\u001b[49m\u001b[43m*\u001b[49m\u001b[43m*\u001b[49m\u001b[38;5;28;43mself\u001b[39;49m\u001b[43m.\u001b[49m\u001b[43minner_kwargs\u001b[49m\u001b[43m(\u001b[49m\u001b[43mkwargs\u001b[49m\u001b[43m)\u001b[49m\u001b[43m)\u001b[49m).simplify, dnf=\u001b[38;5;28;01mFalse\u001b[39;00m, **kwargs)\n",
      "\u001b[36mFile \u001b[39m\u001b[32m~/.pyenv/versions/3.11.5/lib/python3.11/site-packages/pyprover/__coconut__.py:328\u001b[39m, in \u001b[36m_coconut_tco.<locals>.tail_call_optimized_func\u001b[39m\u001b[34m(*args, **kwargs)\u001b[39m\n\u001b[32m    326\u001b[39m     \u001b[38;5;28;01mif\u001b[39;00m wkref_func \u001b[38;5;129;01mis\u001b[39;00m call_func:\n\u001b[32m    327\u001b[39m         call_func = call_func._coconut_tco_func\n\u001b[32m--> \u001b[39m\u001b[32m328\u001b[39m result = \u001b[43mcall_func\u001b[49m\u001b[43m(\u001b[49m\u001b[43m*\u001b[49m\u001b[43margs\u001b[49m\u001b[43m,\u001b[49m\u001b[43m \u001b[49m\u001b[43m*\u001b[49m\u001b[43m*\u001b[49m\u001b[43mkwargs\u001b[49m\u001b[43m)\u001b[49m  \u001b[38;5;66;03m# pass --no-tco to clean up your traceback\u001b[39;00m\n\u001b[32m    329\u001b[39m \u001b[38;5;28;01mif\u001b[39;00m \u001b[38;5;129;01mnot\u001b[39;00m \u001b[38;5;28misinstance\u001b[39m(result, _coconut_tail_call):\n\u001b[32m    330\u001b[39m     \u001b[38;5;28;01mreturn\u001b[39;00m result\n",
      "\u001b[36mFile \u001b[39m\u001b[32m~/.pyenv/versions/3.11.5/lib/python3.11/site-packages/pyprover/logic.py:830\u001b[39m, in \u001b[36mExists.resolve\u001b[39m\u001b[34m(self, **kwargs)\u001b[39m\n\u001b[32m    828\u001b[39m     skolem_var = Func(\u001b[38;5;28mself\u001b[39m.var.skolem(), *skolem_args)  \u001b[38;5;66;03m#590 (line num in coconut source)\u001b[39;00m\n\u001b[32m    829\u001b[39m skolem_elem = \u001b[38;5;28mself\u001b[39m.elem.substitute({\u001b[38;5;28mself\u001b[39m.var: skolem_var})  \u001b[38;5;66;03m#591 (line num in coconut source)\u001b[39;00m\n\u001b[32m--> \u001b[39m\u001b[32m830\u001b[39m \u001b[38;5;28;01mreturn\u001b[39;00m _coconut_tail_call(Exists(\u001b[38;5;28mself\u001b[39m.var, \u001b[43mskolem_elem\u001b[49m\u001b[43m.\u001b[49m\u001b[43mresolve\u001b[49m\u001b[43m(\u001b[49m\u001b[43m*\u001b[49m\u001b[43m*\u001b[49m\u001b[38;5;28;43mself\u001b[39;49m\u001b[43m.\u001b[49m\u001b[43minner_kwargs\u001b[49m\u001b[43m(\u001b[49m\u001b[43mkwargs\u001b[49m\u001b[43m)\u001b[49m\u001b[43m)\u001b[49m).simplify, dnf=\u001b[38;5;28;01mFalse\u001b[39;00m, **kwargs)\n",
      "\u001b[36mFile \u001b[39m\u001b[32m~/.pyenv/versions/3.11.5/lib/python3.11/site-packages/pyprover/__coconut__.py:328\u001b[39m, in \u001b[36m_coconut_tco.<locals>.tail_call_optimized_func\u001b[39m\u001b[34m(*args, **kwargs)\u001b[39m\n\u001b[32m    326\u001b[39m     \u001b[38;5;28;01mif\u001b[39;00m wkref_func \u001b[38;5;129;01mis\u001b[39;00m call_func:\n\u001b[32m    327\u001b[39m         call_func = call_func._coconut_tco_func\n\u001b[32m--> \u001b[39m\u001b[32m328\u001b[39m result = \u001b[43mcall_func\u001b[49m\u001b[43m(\u001b[49m\u001b[43m*\u001b[49m\u001b[43margs\u001b[49m\u001b[43m,\u001b[49m\u001b[43m \u001b[49m\u001b[43m*\u001b[49m\u001b[43m*\u001b[49m\u001b[43mkwargs\u001b[49m\u001b[43m)\u001b[49m  \u001b[38;5;66;03m# pass --no-tco to clean up your traceback\u001b[39;00m\n\u001b[32m    329\u001b[39m \u001b[38;5;28;01mif\u001b[39;00m \u001b[38;5;129;01mnot\u001b[39;00m \u001b[38;5;28misinstance\u001b[39m(result, _coconut_tail_call):\n\u001b[32m    330\u001b[39m     \u001b[38;5;28;01mreturn\u001b[39;00m result\n",
      "\u001b[36mFile \u001b[39m\u001b[32m~/.pyenv/versions/3.11.5/lib/python3.11/site-packages/pyprover/logic.py:1242\u001b[39m, in \u001b[36mAnd.resolve\u001b[39m\u001b[34m(self, nonempty_universe, just_skolemize, debug, **kwargs)\u001b[39m\n\u001b[32m   1240\u001b[39m     novel = \u001b[38;5;28;01mTrue\u001b[39;00m  \u001b[38;5;66;03m#935 (line num in coconut source)\u001b[39;00m\n\u001b[32m   1241\u001b[39m     \u001b[38;5;28;01mbreak\u001b[39;00m  \u001b[38;5;66;03m#936 (line num in coconut source)\u001b[39;00m\n\u001b[32m-> \u001b[39m\u001b[32m1242\u001b[39m \u001b[38;5;28;01melif\u001b[39;00m new_clause != top \u001b[38;5;129;01mand\u001b[39;00m \u001b[43mnew_clause\u001b[49m\u001b[43m \u001b[49m\u001b[38;5;129;43;01mnot\u001b[39;49;00m\u001b[43m \u001b[49m\u001b[38;5;129;43;01min\u001b[39;49;00m\u001b[43m \u001b[49m\u001b[43mclauses\u001b[49m:  \u001b[38;5;66;03m#937 (line num in coconut source)\u001b[39;00m\n\u001b[32m   1243\u001b[39m     clauses.append(new_clause)  \u001b[38;5;66;03m#938 (line num in coconut source)\u001b[39;00m\n\u001b[32m   1244\u001b[39m     novel = \u001b[38;5;28;01mTrue\u001b[39;00m  \u001b[38;5;66;03m#939 (line num in coconut source)\u001b[39;00m\n",
      "\u001b[36mFile \u001b[39m\u001b[32m~/.pyenv/versions/3.11.5/lib/python3.11/site-packages/pyprover/logic.py:986\u001b[39m, in \u001b[36mBoolOp.__eq__\u001b[39m\u001b[34m(self, other)\u001b[39m\n\u001b[32m    985\u001b[39m \u001b[38;5;28;01mdef\u001b[39;00m\u001b[38;5;250m \u001b[39m\u001b[34m__eq__\u001b[39m(\u001b[38;5;28mself\u001b[39m, other):  \u001b[38;5;66;03m#706 (line num in coconut source)\u001b[39;00m\n\u001b[32m--> \u001b[39m\u001b[32m986\u001b[39m     \u001b[38;5;28;01mreturn\u001b[39;00m \u001b[38;5;28misinstance\u001b[39m(other, \u001b[38;5;28mself\u001b[39m.\u001b[34m__class__\u001b[39m) \u001b[38;5;129;01mand\u001b[39;00m \u001b[43m(\u001b[49m\u001b[43munorderd_eq\u001b[49m\u001b[43m)\u001b[49m\u001b[43m(\u001b[49m\u001b[38;5;28;43mself\u001b[39;49m\u001b[43m.\u001b[49m\u001b[43melems\u001b[49m\u001b[43m,\u001b[49m\u001b[43m \u001b[49m\u001b[43mother\u001b[49m\u001b[43m.\u001b[49m\u001b[43melems\u001b[49m\u001b[43m)\u001b[49m\n",
      "\u001b[36mFile \u001b[39m\u001b[32m~/.pyenv/versions/3.11.5/lib/python3.11/site-packages/pyprover/util.py:47\u001b[39m, in \u001b[36munorderd_eq\u001b[39m\u001b[34m(list1, list2)\u001b[39m\n\u001b[32m     46\u001b[39m \u001b[38;5;28;01mdef\u001b[39;00m\u001b[38;5;250m \u001b[39m\u001b[34munorderd_eq\u001b[39m(list1, list2):  \u001b[38;5;66;03m#13 (line num in coconut source)\u001b[39;00m\n\u001b[32m---> \u001b[39m\u001b[32m47\u001b[39m     \u001b[38;5;28;01mreturn\u001b[39;00m \u001b[38;5;28mlen\u001b[39m(list1) == \u001b[38;5;28mlen\u001b[39m(list2) \u001b[38;5;129;01mand\u001b[39;00m \u001b[38;5;28mset\u001b[39m(list1) == \u001b[38;5;28mset\u001b[39m(list2)\n",
      "\u001b[36mFile \u001b[39m\u001b[32m~/.pyenv/versions/3.11.5/lib/python3.11/site-packages/pyprover/__coconut__.py:328\u001b[39m, in \u001b[36m_coconut_tco.<locals>.tail_call_optimized_func\u001b[39m\u001b[34m(*args, **kwargs)\u001b[39m\n\u001b[32m    326\u001b[39m     \u001b[38;5;28;01mif\u001b[39;00m wkref_func \u001b[38;5;129;01mis\u001b[39;00m call_func:\n\u001b[32m    327\u001b[39m         call_func = call_func._coconut_tco_func\n\u001b[32m--> \u001b[39m\u001b[32m328\u001b[39m result = \u001b[43mcall_func\u001b[49m\u001b[43m(\u001b[49m\u001b[43m*\u001b[49m\u001b[43margs\u001b[49m\u001b[43m,\u001b[49m\u001b[43m \u001b[49m\u001b[43m*\u001b[49m\u001b[43m*\u001b[49m\u001b[43mkwargs\u001b[49m\u001b[43m)\u001b[49m  \u001b[38;5;66;03m# pass --no-tco to clean up your traceback\u001b[39;00m\n\u001b[32m    329\u001b[39m \u001b[38;5;28;01mif\u001b[39;00m \u001b[38;5;129;01mnot\u001b[39;00m \u001b[38;5;28misinstance\u001b[39m(result, _coconut_tail_call):\n\u001b[32m    330\u001b[39m     \u001b[38;5;28;01mreturn\u001b[39;00m result\n",
      "\u001b[36mFile \u001b[39m\u001b[32m~/.pyenv/versions/3.11.5/lib/python3.11/site-packages/pyprover/logic.py:81\u001b[39m, in \u001b[36mExpr.__hash__\u001b[39m\u001b[34m(self)\u001b[39m\n\u001b[32m     78\u001b[39m     \u001b[38;5;129m@_coconut_tco\u001b[39m  \u001b[38;5;66;03m#44 (line num in coconut source)\u001b[39;00m\n\u001b[32m     79\u001b[39m     \u001b[38;5;28;01mdef\u001b[39;00m\u001b[38;5;250m \u001b[39m\u001b[34m__hash__\u001b[39m(\u001b[38;5;28mself\u001b[39m):  \u001b[38;5;66;03m#44 (line num in coconut source)\u001b[39;00m\n\u001b[32m     80\u001b[39m \u001b[38;5;66;03m#type: (...) -> int\u001b[39;00m\n\u001b[32m---> \u001b[39m\u001b[32m81\u001b[39m         \u001b[38;5;28;01mreturn\u001b[39;00m _coconut_tail_call((\u001b[38;5;28mhash\u001b[39m), \u001b[38;5;28mrepr\u001b[39m(\u001b[38;5;28mself\u001b[39m))\n",
      "\u001b[36mFile \u001b[39m\u001b[32m~/.pyenv/versions/3.11.5/lib/python3.11/site-packages/pyprover/logic.py:570\u001b[39m, in \u001b[36mUnaryOp.__repr__\u001b[39m\u001b[34m(self)\u001b[39m\n\u001b[32m    569\u001b[39m \u001b[38;5;28;01mdef\u001b[39;00m\u001b[38;5;250m \u001b[39m\u001b[34m__repr__\u001b[39m(\u001b[38;5;28mself\u001b[39m):  \u001b[38;5;66;03m#388 (line num in coconut source)\u001b[39;00m\n\u001b[32m--> \u001b[39m\u001b[32m570\u001b[39m     \u001b[38;5;28;01mreturn\u001b[39;00m \u001b[38;5;28mself\u001b[39m.\u001b[34m__class__\u001b[39m.\u001b[34m__name__\u001b[39m + \u001b[33m\"\u001b[39m\u001b[33m(\u001b[39m\u001b[33m\"\u001b[39m + \u001b[38;5;28mrepr\u001b[39m(\u001b[38;5;28mself\u001b[39m.elem) + \u001b[33m\"\u001b[39m\u001b[33m)\u001b[39m\u001b[33m\"\u001b[39m\n",
      "\u001b[36mFile \u001b[39m\u001b[32m~/.pyenv/versions/3.11.5/lib/python3.11/site-packages/pyprover/logic.py:346\u001b[39m, in \u001b[36mFuncAtom.__repr__\u001b[39m\u001b[34m(self)\u001b[39m\n\u001b[32m    345\u001b[39m \u001b[38;5;28;01mdef\u001b[39;00m\u001b[38;5;250m \u001b[39m\u001b[34m__repr__\u001b[39m(\u001b[38;5;28mself\u001b[39m):  \u001b[38;5;66;03m#228 (line num in coconut source)\u001b[39;00m\n\u001b[32m--> \u001b[39m\u001b[32m346\u001b[39m     \u001b[38;5;28;01mreturn\u001b[39;00m \u001b[38;5;28mself\u001b[39m.\u001b[34m__class__\u001b[39m.\u001b[34m__name__\u001b[39m + \u001b[33m'\u001b[39m\u001b[33m(\u001b[39m\u001b[33m\"\u001b[39m\u001b[33m'\u001b[39m + \u001b[38;5;28mself\u001b[39m.name + \u001b[33m'\u001b[39m\u001b[33m\"\u001b[39m\u001b[33m'\u001b[39m + (\u001b[33m\"\u001b[39m\u001b[33m, \u001b[39m\u001b[33m\"\u001b[39m \u001b[38;5;28;01mif\u001b[39;00m \u001b[38;5;28mself\u001b[39m.args \u001b[38;5;28;01melse\u001b[39;00m \u001b[33m\"\u001b[39m\u001b[33m\"\u001b[39m) + \u001b[33m\"\u001b[39m\u001b[33m, \u001b[39m\u001b[33m\"\u001b[39m.join((\u001b[38;5;28mrepr\u001b[39m(x) \u001b[38;5;28;01mfor\u001b[39;00m x \u001b[38;5;129;01min\u001b[39;00m \u001b[38;5;28mself\u001b[39m.args)) + \u001b[33m\"\u001b[39m\u001b[33m)\u001b[39m\u001b[33m\"\u001b[39m\n",
      "\u001b[36mFile \u001b[39m\u001b[32m~/.pyenv/versions/3.11.5/lib/python3.11/site-packages/pyprover/logic.py:346\u001b[39m, in \u001b[36m<genexpr>\u001b[39m\u001b[34m(.0)\u001b[39m\n\u001b[32m    345\u001b[39m \u001b[38;5;28;01mdef\u001b[39;00m\u001b[38;5;250m \u001b[39m\u001b[34m__repr__\u001b[39m(\u001b[38;5;28mself\u001b[39m):  \u001b[38;5;66;03m#228 (line num in coconut source)\u001b[39;00m\n\u001b[32m--> \u001b[39m\u001b[32m346\u001b[39m     \u001b[38;5;28;01mreturn\u001b[39;00m \u001b[38;5;28mself\u001b[39m.\u001b[34m__class__\u001b[39m.\u001b[34m__name__\u001b[39m + \u001b[33m'\u001b[39m\u001b[33m(\u001b[39m\u001b[33m\"\u001b[39m\u001b[33m'\u001b[39m + \u001b[38;5;28mself\u001b[39m.name + \u001b[33m'\u001b[39m\u001b[33m\"\u001b[39m\u001b[33m'\u001b[39m + (\u001b[33m\"\u001b[39m\u001b[33m, \u001b[39m\u001b[33m\"\u001b[39m \u001b[38;5;28;01mif\u001b[39;00m \u001b[38;5;28mself\u001b[39m.args \u001b[38;5;28;01melse\u001b[39;00m \u001b[33m\"\u001b[39m\u001b[33m\"\u001b[39m) + \u001b[33m\"\u001b[39m\u001b[33m, \u001b[39m\u001b[33m\"\u001b[39m.join((\u001b[38;5;28mrepr\u001b[39m(x) \u001b[38;5;28;01mfor\u001b[39;00m x \u001b[38;5;129;01min\u001b[39;00m \u001b[38;5;28mself\u001b[39m.args)) + \u001b[33m\"\u001b[39m\u001b[33m)\u001b[39m\u001b[33m\"\u001b[39m\n",
      "\u001b[36mFile \u001b[39m\u001b[32m~/.pyenv/versions/3.11.5/lib/python3.11/site-packages/pyprover/logic.py:346\u001b[39m, in \u001b[36mFuncAtom.__repr__\u001b[39m\u001b[34m(self)\u001b[39m\n\u001b[32m    345\u001b[39m \u001b[38;5;28;01mdef\u001b[39;00m\u001b[38;5;250m \u001b[39m\u001b[34m__repr__\u001b[39m(\u001b[38;5;28mself\u001b[39m):  \u001b[38;5;66;03m#228 (line num in coconut source)\u001b[39;00m\n\u001b[32m--> \u001b[39m\u001b[32m346\u001b[39m     \u001b[38;5;28;01mreturn\u001b[39;00m \u001b[38;5;28mself\u001b[39m.\u001b[34m__class__\u001b[39m.\u001b[34m__name__\u001b[39m + \u001b[33m'\u001b[39m\u001b[33m(\u001b[39m\u001b[33m\"\u001b[39m\u001b[33m'\u001b[39m + \u001b[38;5;28mself\u001b[39m.name + \u001b[33m'\u001b[39m\u001b[33m\"\u001b[39m\u001b[33m'\u001b[39m + (\u001b[33m\"\u001b[39m\u001b[33m, \u001b[39m\u001b[33m\"\u001b[39m \u001b[38;5;28;01mif\u001b[39;00m \u001b[38;5;28mself\u001b[39m.args \u001b[38;5;28;01melse\u001b[39;00m \u001b[33m\"\u001b[39m\u001b[33m\"\u001b[39m) + \u001b[33m\"\u001b[39m\u001b[33m, \u001b[39m\u001b[33m\"\u001b[39m.join((\u001b[38;5;28mrepr\u001b[39m(x) \u001b[38;5;28;01mfor\u001b[39;00m x \u001b[38;5;129;01min\u001b[39;00m \u001b[38;5;28mself\u001b[39m.args)) + \u001b[33m\"\u001b[39m\u001b[33m)\u001b[39m\u001b[33m\"\u001b[39m\n",
      "\u001b[36mFile \u001b[39m\u001b[32m~/.pyenv/versions/3.11.5/lib/python3.11/site-packages/pyprover/logic.py:346\u001b[39m, in \u001b[36m<genexpr>\u001b[39m\u001b[34m(.0)\u001b[39m\n\u001b[32m    345\u001b[39m \u001b[38;5;28;01mdef\u001b[39;00m\u001b[38;5;250m \u001b[39m\u001b[34m__repr__\u001b[39m(\u001b[38;5;28mself\u001b[39m):  \u001b[38;5;66;03m#228 (line num in coconut source)\u001b[39;00m\n\u001b[32m--> \u001b[39m\u001b[32m346\u001b[39m     \u001b[38;5;28;01mreturn\u001b[39;00m \u001b[38;5;28mself\u001b[39m.\u001b[34m__class__\u001b[39m.\u001b[34m__name__\u001b[39m + \u001b[33m'\u001b[39m\u001b[33m(\u001b[39m\u001b[33m\"\u001b[39m\u001b[33m'\u001b[39m + \u001b[38;5;28mself\u001b[39m.name + \u001b[33m'\u001b[39m\u001b[33m\"\u001b[39m\u001b[33m'\u001b[39m + (\u001b[33m\"\u001b[39m\u001b[33m, \u001b[39m\u001b[33m\"\u001b[39m \u001b[38;5;28;01mif\u001b[39;00m \u001b[38;5;28mself\u001b[39m.args \u001b[38;5;28;01melse\u001b[39;00m \u001b[33m\"\u001b[39m\u001b[33m\"\u001b[39m) + \u001b[33m\"\u001b[39m\u001b[33m, \u001b[39m\u001b[33m\"\u001b[39m.join((\u001b[38;5;28mrepr\u001b[39m(x) \u001b[38;5;28;01mfor\u001b[39;00m x \u001b[38;5;129;01min\u001b[39;00m \u001b[38;5;28mself\u001b[39m.args)) + \u001b[33m\"\u001b[39m\u001b[33m)\u001b[39m\u001b[33m\"\u001b[39m\n",
      "\u001b[36mFile \u001b[39m\u001b[32m~/.pyenv/versions/3.11.5/lib/python3.11/site-packages/pyprover/logic.py:346\u001b[39m, in \u001b[36mFuncAtom.__repr__\u001b[39m\u001b[34m(self)\u001b[39m\n\u001b[32m    345\u001b[39m \u001b[38;5;28;01mdef\u001b[39;00m\u001b[38;5;250m \u001b[39m\u001b[34m__repr__\u001b[39m(\u001b[38;5;28mself\u001b[39m):  \u001b[38;5;66;03m#228 (line num in coconut source)\u001b[39;00m\n\u001b[32m--> \u001b[39m\u001b[32m346\u001b[39m     \u001b[38;5;28;01mreturn\u001b[39;00m \u001b[38;5;28mself\u001b[39m.\u001b[34m__class__\u001b[39m.\u001b[34m__name__\u001b[39m + \u001b[33m'\u001b[39m\u001b[33m(\u001b[39m\u001b[33m\"\u001b[39m\u001b[33m'\u001b[39m + \u001b[38;5;28mself\u001b[39m.name + \u001b[33m'\u001b[39m\u001b[33m\"\u001b[39m\u001b[33m'\u001b[39m + (\u001b[33m\"\u001b[39m\u001b[33m, \u001b[39m\u001b[33m\"\u001b[39m \u001b[38;5;28;01mif\u001b[39;00m \u001b[38;5;28mself\u001b[39m.args \u001b[38;5;28;01melse\u001b[39;00m \u001b[33m\"\u001b[39m\u001b[33m\"\u001b[39m) + \u001b[33m\"\u001b[39m\u001b[33m, \u001b[39m\u001b[33m\"\u001b[39m.join((\u001b[38;5;28mrepr\u001b[39m(x) \u001b[38;5;28;01mfor\u001b[39;00m x \u001b[38;5;129;01min\u001b[39;00m \u001b[38;5;28mself\u001b[39m.args)) + \u001b[33m\"\u001b[39m\u001b[33m)\u001b[39m\u001b[33m\"\u001b[39m\n",
      "\u001b[36mFile \u001b[39m\u001b[32m~/.pyenv/versions/3.11.5/lib/python3.11/site-packages/pyprover/logic.py:346\u001b[39m, in \u001b[36m<genexpr>\u001b[39m\u001b[34m(.0)\u001b[39m\n\u001b[32m    345\u001b[39m \u001b[38;5;28;01mdef\u001b[39;00m\u001b[38;5;250m \u001b[39m\u001b[34m__repr__\u001b[39m(\u001b[38;5;28mself\u001b[39m):  \u001b[38;5;66;03m#228 (line num in coconut source)\u001b[39;00m\n\u001b[32m--> \u001b[39m\u001b[32m346\u001b[39m     \u001b[38;5;28;01mreturn\u001b[39;00m \u001b[38;5;28mself\u001b[39m.\u001b[34m__class__\u001b[39m.\u001b[34m__name__\u001b[39m + \u001b[33m'\u001b[39m\u001b[33m(\u001b[39m\u001b[33m\"\u001b[39m\u001b[33m'\u001b[39m + \u001b[38;5;28mself\u001b[39m.name + \u001b[33m'\u001b[39m\u001b[33m\"\u001b[39m\u001b[33m'\u001b[39m + (\u001b[33m\"\u001b[39m\u001b[33m, \u001b[39m\u001b[33m\"\u001b[39m \u001b[38;5;28;01mif\u001b[39;00m \u001b[38;5;28mself\u001b[39m.args \u001b[38;5;28;01melse\u001b[39;00m \u001b[33m\"\u001b[39m\u001b[33m\"\u001b[39m) + \u001b[33m\"\u001b[39m\u001b[33m, \u001b[39m\u001b[33m\"\u001b[39m.join((\u001b[38;5;28mrepr\u001b[39m(x) \u001b[38;5;28;01mfor\u001b[39;00m x \u001b[38;5;129;01min\u001b[39;00m \u001b[38;5;28mself\u001b[39m.args)) + \u001b[33m\"\u001b[39m\u001b[33m)\u001b[39m\u001b[33m\"\u001b[39m\n",
      "\u001b[31mKeyboardInterrupt\u001b[39m: "
     ]
    }
   ],
   "source": [
    "tested = list()\n",
    "for index, row in data.iterrows():\n",
    "    sentences1 = row['Sentence 1']\n",
    "    sentences2 = row['Sentence 2']\n",
    "    print('Sentences:', sentences1, sentences2)\n",
    "    relation = row['Relation']\n",
    "    result = test_equivalencia(sentences1, sentences2)\n",
    "    tested.append(int(result))\n",
    "\n",
    "data['Tested'] = tested\n",
    "data.head()"
   ]
  },
  {
   "cell_type": "code",
   "execution_count": 69,
   "id": "9fd573c4",
   "metadata": {},
   "outputs": [
    {
     "data": {
      "text/html": [
       "<div>\n",
       "<style scoped>\n",
       "    .dataframe tbody tr th:only-of-type {\n",
       "        vertical-align: middle;\n",
       "    }\n",
       "\n",
       "    .dataframe tbody tr th {\n",
       "        vertical-align: top;\n",
       "    }\n",
       "\n",
       "    .dataframe thead th {\n",
       "        text-align: right;\n",
       "    }\n",
       "</style>\n",
       "<table border=\"1\" class=\"dataframe\">\n",
       "  <thead>\n",
       "    <tr style=\"text-align: right;\">\n",
       "      <th></th>\n",
       "      <th>Sentence 1</th>\n",
       "      <th>Sentence 2</th>\n",
       "      <th>Relation</th>\n",
       "      <th>Tested</th>\n",
       "    </tr>\n",
       "  </thead>\n",
       "  <tbody>\n",
       "  </tbody>\n",
       "</table>\n",
       "</div>"
      ],
      "text/plain": [
       "Empty DataFrame\n",
       "Columns: [Sentence 1, Sentence 2, Relation, Tested]\n",
       "Index: []"
      ]
     },
     "execution_count": 69,
     "metadata": {},
     "output_type": "execute_result"
    }
   ],
   "source": [
    "data[data['Tested'] != data['Relation']]"
   ]
  },
  {
   "cell_type": "code",
   "execution_count": 70,
   "id": "05e9521c",
   "metadata": {},
   "outputs": [
    {
     "data": {
      "text/html": [
       "<div>\n",
       "<style scoped>\n",
       "    .dataframe tbody tr th:only-of-type {\n",
       "        vertical-align: middle;\n",
       "    }\n",
       "\n",
       "    .dataframe tbody tr th {\n",
       "        vertical-align: top;\n",
       "    }\n",
       "\n",
       "    .dataframe thead th {\n",
       "        text-align: right;\n",
       "    }\n",
       "</style>\n",
       "<table border=\"1\" class=\"dataframe\">\n",
       "  <thead>\n",
       "    <tr style=\"text-align: right;\">\n",
       "      <th></th>\n",
       "      <th>Sentence 1</th>\n",
       "      <th>Sentence 2</th>\n",
       "      <th>Relation</th>\n",
       "      <th>Tested</th>\n",
       "    </tr>\n",
       "  </thead>\n",
       "  <tbody>\n",
       "    <tr>\n",
       "      <th>175</th>\n",
       "      <td>(exists x.JINETE(x) &amp; all x.(JINETE(x) -&gt; (ENT...</td>\n",
       "      <td>exists x.(JINETE(x) &amp; -ENTRAR(x) &amp; -DEAMBULAR(x))</td>\n",
       "      <td>1</td>\n",
       "      <td>1</td>\n",
       "    </tr>\n",
       "    <tr>\n",
       "      <th>176</th>\n",
       "      <td>(exists x.JINETE(x) &amp; all x.(JINETE(x) -&gt; (ACO...</td>\n",
       "      <td>exists x.(JINETE(x) &amp; -ACORDAR(x) &amp; -ENTRAR(x))</td>\n",
       "      <td>1</td>\n",
       "      <td>1</td>\n",
       "    </tr>\n",
       "    <tr>\n",
       "      <th>177</th>\n",
       "      <td>(exists x.JINETE(x) &amp; all x.(JINETE(x) -&gt; (ACO...</td>\n",
       "      <td>exists x.(JINETE(x) &amp; -ACORDAR(x) &amp; -DEAMBULAR...</td>\n",
       "      <td>1</td>\n",
       "      <td>1</td>\n",
       "    </tr>\n",
       "    <tr>\n",
       "      <th>178</th>\n",
       "      <td>(exists x.JINETE(x) &amp; all x.(JINETE(x) -&gt; (DEA...</td>\n",
       "      <td>exists x.(JINETE(x) &amp; -DEAMBULAR(x) &amp; -ENTRAR(x))</td>\n",
       "      <td>1</td>\n",
       "      <td>1</td>\n",
       "    </tr>\n",
       "    <tr>\n",
       "      <th>179</th>\n",
       "      <td>(exists x.JINETE(x) &amp; all x.(JINETE(x) -&gt; (DEA...</td>\n",
       "      <td>exists x.(JINETE(x) &amp; -DEAMBULAR(x) &amp; -ACORDAR...</td>\n",
       "      <td>1</td>\n",
       "      <td>1</td>\n",
       "    </tr>\n",
       "  </tbody>\n",
       "</table>\n",
       "</div>"
      ],
      "text/plain": [
       "                                            Sentence 1  \\\n",
       "175  (exists x.JINETE(x) & all x.(JINETE(x) -> (ENT...   \n",
       "176  (exists x.JINETE(x) & all x.(JINETE(x) -> (ACO...   \n",
       "177  (exists x.JINETE(x) & all x.(JINETE(x) -> (ACO...   \n",
       "178  (exists x.JINETE(x) & all x.(JINETE(x) -> (DEA...   \n",
       "179  (exists x.JINETE(x) & all x.(JINETE(x) -> (DEA...   \n",
       "\n",
       "                                            Sentence 2  Relation  Tested  \n",
       "175  exists x.(JINETE(x) & -ENTRAR(x) & -DEAMBULAR(x))         1       1  \n",
       "176    exists x.(JINETE(x) & -ACORDAR(x) & -ENTRAR(x))         1       1  \n",
       "177  exists x.(JINETE(x) & -ACORDAR(x) & -DEAMBULAR...         1       1  \n",
       "178  exists x.(JINETE(x) & -DEAMBULAR(x) & -ENTRAR(x))         1       1  \n",
       "179  exists x.(JINETE(x) & -DEAMBULAR(x) & -ACORDAR...         1       1  "
      ]
     },
     "execution_count": 70,
     "metadata": {},
     "output_type": "execute_result"
    }
   ],
   "source": [
    "data.tail()"
   ]
  },
  {
   "cell_type": "code",
   "execution_count": null,
   "id": "2f6be443",
   "metadata": {},
   "outputs": [],
   "source": []
  }
 ],
 "metadata": {
  "kernelspec": {
   "display_name": "3.11.5",
   "language": "python",
   "name": "python3"
  },
  "language_info": {
   "codemirror_mode": {
    "name": "ipython",
    "version": 3
   },
   "file_extension": ".py",
   "mimetype": "text/x-python",
   "name": "python",
   "nbconvert_exporter": "python",
   "pygments_lexer": "ipython3",
   "version": "3.11.5"
  }
 },
 "nbformat": 4,
 "nbformat_minor": 5
}
