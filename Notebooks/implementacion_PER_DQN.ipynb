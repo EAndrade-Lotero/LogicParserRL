{
 "cells": [
  {
   "cell_type": "code",
   "execution_count": 1,
   "id": "b1fa4e46",
   "metadata": {},
   "outputs": [],
   "source": [
    "import sys\n",
    "sys.path.append('../')\n",
    "\n",
    "import numpy as np\n",
    "import torch as th\n",
    "import pandas as pd\n",
    "\n",
    "from stable_baselines3.common import results_plotter\n",
    "from stable_baselines3.common.monitor import Monitor\n",
    "\n",
    "from utils.inspect import quick_inspection, q_values_at_state, rewards_at_state\n",
    "from RLClasses.clases_parser import ParserFOL_1f\n",
    "from RLClasses.PER_SB3 import PERDQN, PrioritizedReplayBuffer\n",
    "\n",
    "from matplotlib import pyplot as plt\n",
    "%matplotlib inline\n",
    "\n",
    "# os.environ[\"PROVER9\"] = \"/LADR-2009-02A/bin\""
   ]
  },
  {
   "cell_type": "code",
   "execution_count": 2,
   "id": "94f6545c",
   "metadata": {},
   "outputs": [],
   "source": [
    "NUM_FRASE = 3\n",
    "ENV_NAME_PER = f'FOL_1f_ejemplo_{NUM_FRASE}_PER_v1'\n",
    "ENV_NAME_DQN = f'FOL_1f_ejemplo_{NUM_FRASE}_DQN_v1'"
   ]
  },
  {
   "cell_type": "code",
   "execution_count": 3,
   "id": "e1a21713",
   "metadata": {},
   "outputs": [
    {
     "data": {
      "text/html": [
       "<div>\n",
       "<style scoped>\n",
       "    .dataframe tbody tr th:only-of-type {\n",
       "        vertical-align: middle;\n",
       "    }\n",
       "\n",
       "    .dataframe tbody tr th {\n",
       "        vertical-align: top;\n",
       "    }\n",
       "\n",
       "    .dataframe thead th {\n",
       "        text-align: right;\n",
       "    }\n",
       "</style>\n",
       "<table border=\"1\" class=\"dataframe\">\n",
       "  <thead>\n",
       "    <tr style=\"text-align: right;\">\n",
       "      <th></th>\n",
       "      <th>frase</th>\n",
       "      <th>frase-FOL</th>\n",
       "      <th>pregunta</th>\n",
       "      <th>respuesta</th>\n",
       "      <th>tipo_pregunta</th>\n",
       "    </tr>\n",
       "  </thead>\n",
       "  <tbody>\n",
       "    <tr>\n",
       "      <th>0</th>\n",
       "      <td>Some cats are not pets.\\nAll cats are mammals.</td>\n",
       "      <td>∃x (Cat(x) ∧ ¬Pet(x))\\n∀x (Cat(x) → Mammal(x))</td>\n",
       "      <td>Some mammals are not pets.</td>\n",
       "      <td>∃x ∃y (Mammal(x) ∧ Mammal(y) ∧ ¬Pet(x) ∧ ¬Pet(y))</td>\n",
       "      <td>individuo</td>\n",
       "    </tr>\n",
       "    <tr>\n",
       "      <th>1</th>\n",
       "      <td>All tables are round.\\nSome pieces of furnitur...</td>\n",
       "      <td>∀x (Table(x) → Round(x))\\n∃x ∃y (Furniture(x) ...</td>\n",
       "      <td>Some pieces of furniture are round.</td>\n",
       "      <td>∃x ∃y (Furniture(x) ∧ Furniture(y) ∧ Round(x) ...</td>\n",
       "      <td>individuo</td>\n",
       "    </tr>\n",
       "    <tr>\n",
       "      <th>2</th>\n",
       "      <td>Trees are plants.\\nSome living things are trees.</td>\n",
       "      <td>∀x (Tree(x) → Plant(x))\\n∃x ∃y (Living(x) ∧ Li...</td>\n",
       "      <td>Some living things are plants.</td>\n",
       "      <td>∃x ∃y (Living(x) ∧ Living(y) ∧ Plant(x) ∧ Plan...</td>\n",
       "      <td>individuo</td>\n",
       "    </tr>\n",
       "  </tbody>\n",
       "</table>\n",
       "</div>"
      ],
      "text/plain": [
       "                                               frase  \\\n",
       "0     Some cats are not pets.\\nAll cats are mammals.   \n",
       "1  All tables are round.\\nSome pieces of furnitur...   \n",
       "2   Trees are plants.\\nSome living things are trees.   \n",
       "\n",
       "                                           frase-FOL  \\\n",
       "0     ∃x (Cat(x) ∧ ¬Pet(x))\\n∀x (Cat(x) → Mammal(x))   \n",
       "1  ∀x (Table(x) → Round(x))\\n∃x ∃y (Furniture(x) ...   \n",
       "2  ∀x (Tree(x) → Plant(x))\\n∃x ∃y (Living(x) ∧ Li...   \n",
       "\n",
       "                              pregunta  \\\n",
       "0           Some mammals are not pets.   \n",
       "1  Some pieces of furniture are round.   \n",
       "2       Some living things are plants.   \n",
       "\n",
       "                                           respuesta tipo_pregunta  \n",
       "0  ∃x ∃y (Mammal(x) ∧ Mammal(y) ∧ ¬Pet(x) ∧ ¬Pet(y))     individuo  \n",
       "1  ∃x ∃y (Furniture(x) ∧ Furniture(y) ∧ Round(x) ...     individuo  \n",
       "2  ∃x ∃y (Living(x) ∧ Living(y) ∧ Plant(x) ∧ Plan...     individuo  "
      ]
     },
     "execution_count": 3,
     "metadata": {},
     "output_type": "execute_result"
    }
   ],
   "source": [
    "num_frases = [3, 7, 8]\n",
    "df = pd.read_csv('smallest_ordered.csv')\n",
    "df.drop(columns=['Unnamed: 0', 'length'], inplace=True)\n",
    "df = df.iloc[num_frases]\n",
    "df.reset_index(drop=True, inplace=True)\n",
    "df"
   ]
  },
  {
   "cell_type": "code",
   "execution_count": 4,
   "id": "6c3b3f93",
   "metadata": {},
   "outputs": [
    {
     "name": "stdout",
     "output_type": "stream",
     "text": [
      " ______________ \n",
      "|              |\n",
      "|--------------|\n",
      "| EMPTY(empty) |\n",
      "|______________|\n",
      "Índice: 0\n",
      "Nivel: 0\n",
      "Lista palabras: ['Trees', 'are', 'plants']\n",
      " ______________ \n",
      "|              |\n",
      "|--------------|\n",
      "| EMPTY(empty) |\n",
      "|______________|\n"
     ]
    }
   ],
   "source": [
    "env = ParserFOL_1f(df)\n",
    "env.render()"
   ]
  },
  {
   "cell_type": "markdown",
   "id": "816bada4",
   "metadata": {},
   "source": [
    "1. Entrenamiento con NUM_FRASE = 8: \"trees are plants\":\n",
    "    * env.max_turns = 1\n",
    "    * model.gamma = 0\n",
    "    * TIME_STEPS = 1_000\n",
    "    * env.max_turns = 2\n",
    "    * model.gamma = 0\n",
    "    * TIME_STEPS = 5_000\n",
    "    * env.max_turns = 5\n",
    "    * model.gamma = 0.1\n",
    "    * TIME_STEPS = 150_000\n",
    "\n",
    "2. Entrenamiento con NUM_FRASE = 7: \"all tables are round\":\n",
    "    * añadir la frase 7 al entorno (2 frases)\n",
    "    * model.gamma = 0.1\n",
    "    * env.max_turns = 1\n",
    "    * TIME_STEPS = 1_000\n",
    "    * env.max_turns = 2\n",
    "    * TIME_STEPS = 1_000\n",
    "    * env.max_turns = 3\n",
    "    * TIME_STEPS = 1_000\n",
    "    * env.max_turns = 5\n",
    "    * TIME_STEPS = 150_000\n",
    "    * env.max_turns = 7\n",
    "    * TIME_STEPS = 300_000\n",
    "\n",
    "3. Entrenamiento con NUM_FRASE = 3: \"some cats are not pets\":\n",
    "    * añadir la frase 3 al entorno (3 frases)\n",
    "    * model.gamma = 0.1\n",
    "    * env.max_turns = 1\n",
    "    * TIME_STEPS = 1_000\n",
    "    * env.max_turns = 2\n",
    "    * TIME_STEPS = 1_000\n",
    "    * env.max_turns = 3\n",
    "    * TIME_STEPS = 1_000\n",
    "    * env.max_turns = 5\n",
    "    * TIME_STEPS = 150_000\n",
    "    * env.max_turns = 7\n",
    "    * TIME_STEPS = 300_000"
   ]
  },
  {
   "cell_type": "markdown",
   "id": "2adf9f1a",
   "metadata": {},
   "source": [
    "### Parametros del agente"
   ]
  },
  {
   "cell_type": "code",
   "execution_count": 5,
   "id": "c6d23e77",
   "metadata": {},
   "outputs": [],
   "source": [
    "# Funcion asocida a la politica de exploracion con base en el proceso de entrenamiento\n",
    "def learning_rate_fn(process_remaining):\n",
    "    initial = 1e-4\n",
    "    final =  1e-4\n",
    "    return final + (initial - final) * process_remaining\n",
    "\n",
    "# Configuracion de los parametros de entrenamiento del entorno\n",
    "TIME_STEPS = 1_000\n",
    "n_envs = 1\n",
    "\n",
    "config = {\n",
    "    \"training_mode\": \"aleatorio\",\n",
    "    \"total_timesteps\": TIME_STEPS,\n",
    "    \"guide_reward_frac\": 1.0,\n",
    "    \"max_episodes\": 1\n",
    "}\n",
    "\n",
    "# Configuracion de la red de la politica de entrenamiento\n",
    "policy_kwargs = dict(\n",
    "    activation_fn=th.nn.ReLU,\n",
    "    net_arch=[1024,64],\n",
    ")\n",
    "\n",
    "# Configuracion de los parametros de entrenamiento del modelo\n",
    "model_kwargs_PER = dict(\n",
    "    policy=\"MlpPolicy\",\n",
    "    replay_buffer_class=PrioritizedReplayBuffer,\n",
    "    learning_starts=100,\n",
    "    train_freq=4,\n",
    "    buffer_size=TIME_STEPS // 10,\n",
    "    target_update_interval=TIME_STEPS // 100,\n",
    "    gradient_steps=1,\n",
    "    batch_size=32,\n",
    "    exploration_fraction = 0.8,\n",
    "    exploration_initial_eps= 0.2,\n",
    "    exploration_final_eps= 0.05,\n",
    "    gamma=0.99,\n",
    "    max_grad_norm=0.5,\n",
    "    policy_kwargs=policy_kwargs,\n",
    "    learning_rate=1e-4,\n",
    "    # learning_rate=learning_rate_fn,\n",
    "    seed=42,\n",
    "    stats_window_size=50,\n",
    "    verbose=0\n",
    ")"
   ]
  },
  {
   "cell_type": "markdown",
   "id": "8da23ba8",
   "metadata": {},
   "source": [
    "### Model PER"
   ]
  },
  {
   "cell_type": "code",
   "execution_count": 6,
   "id": "63da1b35",
   "metadata": {},
   "outputs": [],
   "source": [
    "# Instanciar el agente de entrenamiento\n",
    "env = ParserFOL_1f(df)\n",
    "env.set_training_parameters(**config)\n",
    "\n",
    "env.max_turns = 1\n",
    "\n",
    "env_PER = Monitor(env, f\"logs_{ENV_NAME_PER}/env_log\", allow_early_resets=True)\n",
    "\n",
    "train_env = env_PER\n",
    "\n",
    "model = PERDQN(env=train_env, **model_kwargs_PER)\n",
    "# model = PERDQN.load(f\"model_{ENV_NAME_PER}\", env=train_env)\n",
    "# model = PERDQN.load(\"BasicAllAre\", env=train_env)\n",
    "# model = PERDQN.load(\"BasicAllAre-and-some\", env=train_env)"
   ]
  },
  {
   "cell_type": "code",
   "execution_count": 7,
   "id": "4f0fdbbf",
   "metadata": {},
   "outputs": [],
   "source": [
    "TIME_STEPS = 100_000\n",
    "model.buffer_size = TIME_STEPS // 10\n",
    "model.target_update_interval = TIME_STEPS // 100\n",
    "model.gamma = 0"
   ]
  },
  {
   "cell_type": "code",
   "execution_count": 8,
   "id": "b1f871f9",
   "metadata": {},
   "outputs": [
    {
     "data": {
      "application/vnd.jupyter.widget-view+json": {
       "model_id": "3ce0b2408a2f48eeaca7e067a9a2b333",
       "version_major": 2,
       "version_minor": 0
      },
      "text/plain": [
       "Output()"
      ]
     },
     "metadata": {},
     "output_type": "display_data"
    },
    {
     "data": {
      "text/html": [
       "<pre style=\"white-space:pre;overflow-x:auto;line-height:normal;font-family:Menlo,'DejaVu Sans Mono',consolas,'Courier New',monospace\"></pre>\n"
      ],
      "text/plain": []
     },
     "metadata": {},
     "output_type": "display_data"
    },
    {
     "data": {
      "text/plain": [
       "<RLClasses.PER_SB3.PERDQN at 0x1770a4c20>"
      ]
     },
     "execution_count": 8,
     "metadata": {},
     "output_type": "execute_result"
    }
   ],
   "source": [
    "# Train the agent and display a progress bar\n",
    "model.learn(\n",
    "    total_timesteps=TIME_STEPS,\n",
    "    progress_bar=True\n",
    ")"
   ]
  },
  {
   "cell_type": "code",
   "execution_count": 10,
   "id": "3204175e",
   "metadata": {},
   "outputs": [
    {
     "data": {
      "image/png": "[encoded data removed]",
      "text/plain": [
       "<Figure size 800x200 with 1 Axes>"
      ]
     },
     "metadata": {},
     "output_type": "display_data"
    }
   ],
   "source": [
    "# ver = \"Timesteps\" \n",
    "ver =\"Episodes\"\n",
    "if ver == \"Timesteps\":\n",
    "    results_plotter.plot_results([f\"logs_{ENV_NAME_PER}\"], TIME_STEPS, results_plotter.X_TIMESTEPS, \"Timesteps\")\n",
    "elif ver == \"Episodes\":\n",
    "    results_plotter.plot_results([f\"logs_{ENV_NAME_PER}\"], TIME_STEPS, results_plotter.X_EPISODES, \"Episodes\")"
   ]
  },
  {
   "cell_type": "code",
   "execution_count": 11,
   "id": "7693995b",
   "metadata": {},
   "outputs": [
    {
     "name": "stdout",
     "output_type": "stream",
     "text": [
      "\n",
      "============================================================\n",
      "Iteración 1\n",
      "\n",
      "------------------------------------------------------------\n",
      "Índice: 0\n",
      "Nivel: 0\n",
      "Some cats are not pets\n",
      "Some cats are not pets\n",
      "EMPTY(empty)\n",
      "------------------------------------------------------------\n",
      "\n",
      "accion: crear_drs_antecedente\n",
      "Recompensa: 0.49074074074074076\n",
      "\n",
      "============================================================\n",
      "Índice: 0\n",
      "Nivel: 1\n",
      "Some cats are not pets\n",
      "Some cats are not pets\n",
      "(EMPTY(empty) -> EMPTY(empty))\n",
      "terminated: False, truncated: True\n",
      "Total reward: 0.49074074074074076\n"
     ]
    }
   ],
   "source": [
    "acciones = [\n",
    "    'crear_drs_antecedente',\n",
    "    # 'enmascarar',\n",
    "    # 'incluir_sustantivo',\n",
    "    # 'enmascarar',\n",
    "    # 'crear_drs_consecuente',\n",
    "    # 'incluir_sustantivo_sin_ref',\n",
    "    # \"mover_derecha\",\n",
    "]\n",
    "\n",
    "states, list_actions = quick_inspection(model, env, acciones)"
   ]
  },
  {
   "cell_type": "code",
   "execution_count": null,
   "id": "cc579d72",
   "metadata": {},
   "outputs": [],
   "source": [
    "obs = states[0]\n",
    "q_values_at_state(model, env, obs)"
   ]
  },
  {
   "cell_type": "code",
   "execution_count": 17,
   "id": "8726623e",
   "metadata": {},
   "outputs": [
    {
     "name": "stdout",
     "output_type": "stream",
     "text": [
      "+----------------------------+---------------------+\n",
      "|           Acción           |      Recompensa     |\n",
      "+----------------------------+---------------------+\n",
      "|     incluir_sustantivo     |  0.5327380952380952 |\n",
      "| incluir_sustantivo_sin_ref |  0.5278846153846154 |\n",
      "|         enmascarar         |  0.5041666666666667 |\n",
      "|       mover_derecha        |         0.5         |\n",
      "|   crear_drs_antecedente    | 0.49074074074074076 |\n",
      "|   crear_drs_consecuente    |         0.25        |\n",
      "+----------------------------+---------------------+\n"
     ]
    }
   ],
   "source": [
    "# acciones_previas = list_actions[:1]\n",
    "acciones_previas = []\n",
    "rewards_at_state(env, acciones_previas)"
   ]
  },
  {
   "cell_type": "code",
   "execution_count": null,
   "id": "98facfe8",
   "metadata": {},
   "outputs": [],
   "source": [
    "# # Save the agent\n",
    "# # model.save(f\"model_{ENV_NAME_PER}\")\n",
    "model.save(\"BasicAllAre\")\n",
    "# model.save(\"BasicAllAre-some\")"
   ]
  },
  {
   "cell_type": "code",
   "execution_count": null,
   "id": "013d6ed5",
   "metadata": {},
   "outputs": [],
   "source": []
  },
  {
   "cell_type": "code",
   "execution_count": null,
   "id": "3888aaa9",
   "metadata": {},
   "outputs": [],
   "source": []
  },
  {
   "cell_type": "markdown",
   "id": "fb057d30",
   "metadata": {},
   "source": [
    "log_file = os.path.join(f\"logs_{ENV_NAME_PER}\", f\"env_log.monitor.csv\")\n",
    "\n",
    "fig = plt.figure(figsize=(8, 8))\n",
    "df_results = pd.read_csv(log_file, skiprows=1)\n",
    "# plt.subplot(int(nrows), 2, i+1, label=log_file)\n",
    "# df_results['r'].rolling(window=50).mean().plot(title=f\"Rewards\")\n",
    "df_results['r'].plot(title=f\"Rewards\")\n",
    "plt.tight_layout()\n",
    "plt.show()"
   ]
  },
  {
   "cell_type": "code",
   "execution_count": null,
   "id": "e04bf032",
   "metadata": {},
   "outputs": [],
   "source": []
  }
 ],
 "metadata": {
  "kernelspec": {
   "display_name": "Python 3 (ipykernel)",
   "language": "python",
   "name": "python3"
  },
  "language_info": {
   "codemirror_mode": {
    "name": "ipython",
    "version": 3
   },
   "file_extension": ".py",
   "mimetype": "text/x-python",
   "name": "python",
   "nbconvert_exporter": "python",
   "pygments_lexer": "ipython3",
   "version": "3.11.7"
  }
 },
 "nbformat": 4,
 "nbformat_minor": 5
}
