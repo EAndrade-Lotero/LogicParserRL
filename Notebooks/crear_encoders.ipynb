{
 "cells": [
  {
   "cell_type": "code",
   "execution_count": 1,
   "metadata": {},
   "outputs": [],
   "source": [
    "import sys\n",
    "\n",
    "sys.path.append('..')"
   ]
  },
  {
   "cell_type": "code",
   "execution_count": 2,
   "metadata": {},
   "outputs": [
    {
     "name": "stdout",
     "output_type": "stream",
     "text": [
      "src_dir=PosixPath('/Users/edgar/Repositorios/LogicParserRL/src')\n",
      "new_path=PosixPath('/data/encoder_data')\n",
      "PATH_SENTENCE_ENCODER=PosixPath('../src/data/encoder_data/sentence_encoder.pth')\n"
     ]
    }
   ],
   "source": [
    "from src.encoders.encoders import SentenceEncoder, DRSEncoder"
   ]
  },
  {
   "cell_type": "code",
   "execution_count": 3,
   "metadata": {},
   "outputs": [
    {
     "name": "stdout",
     "output_type": "stream",
     "text": [
      "x=tensor([[-0.8771, -1.1205,  1.1981, -0.5087, -0.5474, -0.3018, -0.4912,  0.2404,\n",
      "          0.1648,  1.0735]])\n",
      "out=tensor([[-0.4399,  0.0458, -0.3886, -0.1602, -0.1097,  0.1004,  0.3430, -0.1092,\n",
      "          0.2418,  0.3189]], grad_fn=<AddmmBackward0>)\n",
      "Model saved to ../src/data/encoder_data/sentence_encoder.pth\n",
      "Model saved to /Users/edgar/Repositorios/LogicParserRL/src/../src/data/encoder_data/drs_encoder.pth\n"
     ]
    }
   ],
   "source": [
    "sentence_encoder = SentenceEncoder()\n",
    "drs_encoder = DRSEncoder()\n",
    "\n",
    "sentence_encoder.train(data=[])\n",
    "drs_encoder.train(data=[])"
   ]
  },
  {
   "cell_type": "code",
   "execution_count": null,
   "metadata": {},
   "outputs": [],
   "source": []
  }
 ],
 "metadata": {
  "kernelspec": {
   "display_name": "venv_repositorios",
   "language": "python",
   "name": "python3"
  },
  "language_info": {
   "codemirror_mode": {
    "name": "ipython",
    "version": 3
   },
   "file_extension": ".py",
   "mimetype": "text/x-python",
   "name": "python",
   "nbconvert_exporter": "python",
   "pygments_lexer": "ipython3",
   "version": "3.12.8"
  }
 },
 "nbformat": 4,
 "nbformat_minor": 2
}
