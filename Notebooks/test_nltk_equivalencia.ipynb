{
 "cells": [
  {
   "cell_type": "code",
   "execution_count": 1,
   "id": "85994bca",
   "metadata": {},
   "outputs": [],
   "source": [
    "import sys\n",
    "\n",
    "sys.path.append(\"../src\")"
   ]
  },
  {
   "cell_type": "code",
   "execution_count": 2,
   "id": "3cc919e2",
   "metadata": {},
   "outputs": [],
   "source": [
    "import nltk\n",
    "import pandas as pd\n",
    "\n",
    "from pathlib import Path\n",
    "from tqdm.auto import tqdm"
   ]
  },
  {
   "cell_type": "code",
   "execution_count": 3,
   "id": "1cd28e2a",
   "metadata": {},
   "outputs": [],
   "source": [
    "from config.config import PATHS\n",
    "from logic.logic_parser import CrearReglas"
   ]
  },
  {
   "cell_type": "code",
   "execution_count": 4,
   "id": "824d157a",
   "metadata": {},
   "outputs": [],
   "source": [
    "# 80 sustantivos\n",
    "nouns = [\n",
    "    'abuelo', 'actor', 'agujero', 'albañil', 'alce', 'animal', 'árbol', 'arquitecto', 'auto', 'avión',\n",
    "    'barco', 'barril', 'bosque', 'burro', 'caballo', 'cable', 'camello', 'camino', 'caracol', 'carro',\n",
    "    'cielo', 'coche', 'cocodrilo', 'conejo', 'desierto', 'diamante', 'dragón',\n",
    "    'edificio', 'elefante', 'escritor', 'espejo', 'estrecho', 'fuego', 'gallo', 'gato', 'gorila',\n",
    "    'grifo', 'héroe', 'hijo', 'hombre', 'hospital', 'indio', 'jardín', 'jinete', \n",
    "    'lagarto', 'lago', 'lápiz', 'león', 'libro', 'lobo', 'lugar', 'martillo', 'mono',\n",
    "    'motor', 'mueble', 'mundo', 'naranjo', 'negocio', 'niño', 'oso', 'pájaro', 'papel',\n",
    "    'payaso', 'pez', 'plátano', 'pozo', 'puente', 'río', 'reloj', 'rey',\n",
    "    'robot', 'sol', 'sombrero', 'tambor', 'tigre', 'torre', 'tren', 'viento', 'zapato', 'zorro'\n",
    "    ]\n",
    "\n",
    "# 20 sustantivos jabberwockie\n",
    "jabberwockie_nouns = [\n",
    "    'blicket', 'flajuf', 'flakle', 'jufmoq', 'jufzyl', 'kleqor', 'klesyl', 'moqkle', 'moqzyl', 'nerpif',\n",
    "    'nerqor', 'pifner', 'piftrun', 'qorjuf', 'qortrun', 'trunfla', 'trunpif', 'vexfla', 'vexner', 'zylner'\n",
    "    ]\n",
    "\n",
    "\n",
    "# 80 verbos intransitivos\n",
    "intransitive_verbs = [\n",
    "    'acuerda', 'aguanta', 'ama', 'amanece', 'anochece', 'aparece', 'aplaude', 'avanza', 'baja', 'bosteza',  \n",
    "    'brinca', 'cae', 'calla', 'cambia', 'camina', 'canta', 'carraspea', 'celebra', 'contempla', 'converge',  \n",
    "    'corre', 'crece', 'deambula', 'delira', 'descansa', 'desaparece', 'desliza', 'divaga', 'duerme',  \n",
    "    'emerge', 'entra', 'explora', 'existe', 'fallece', 'florece', 'flota', 'fluye', 'fracasa',  \n",
    "    'gira', 'grita', 'jadea', 'late', 'llega', 'llora', 'marcha', 'mejora', 'muere', 'nace', 'nada',  \n",
    "    'oscurece', 'parte', 'parpadea', 'pasea', 'persigue', 'piensa', 'progresa', 'reflexiona', 'reposa',  \n",
    "    'resbala', 'resiste', 'respira', 'retrocede', 'retorna', 'ríe', 'sale', 'salta', 'soporta',  \n",
    "    'sube', 'sueña', 'suspende', 'suspira', 'surge', 'tiembla', 'tose', 'transcurre', 'tropieza',  \n",
    "    'vaga', 'viaja', 'vibra', 'vive'\n",
    "]\n",
    "\n",
    "# 20 verbos jabberwockie\n",
    "jabberwockie_verbs = [\n",
    "    'bliscea', 'brilca', 'brunza', 'dernea', 'drifla', 'flumea', 'frochea', 'glaquea', 'gralpa', 'jurne',\n",
    "    'larquea', 'pluquea', 'pruspa', 'quesea', 'tapla', 'tintera', 'trejea', 'zopla', 'zumnea', 'zurna'\n",
    "]\n",
    "\n",
    "# 80 adjetivos\n",
    "adjs = [\n",
    "    'alegre', 'alto', 'amargo', 'amplio', 'amarillo', 'apagado', 'asombroso', 'áspero', 'azul',  \n",
    "    'bajo', 'blando', 'brillante', 'caliente', 'cansado', 'claro', 'complejo', 'débil', 'delgado',  \n",
    "    'difícil', 'dulce', 'duro', 'elegante', 'enojado', 'feliz', 'fino', 'fácil', 'frío',  \n",
    "    'fresco', 'fuerte', 'gordo', 'grande', 'grueso', 'hermoso', 'honesto', 'humilde', 'ingenioso',  \n",
    "    'inteligente', 'joven', 'lento', 'leve', 'ligero', 'limpio', 'listo', 'luminoso', 'manso', \n",
    "    'moderno', 'mojado', 'negro', 'noble', 'nuevo', 'opaco', 'optimista', 'oscuro', 'paciente',  \n",
    "    'pesado', 'picante', 'pobre', 'poderoso', 'podrido', 'puntual', 'rápido', 'recto', 'rojo',  \n",
    "    'rugoso', 'sabroso', 'salado', 'seco', 'seguro', 'sereno', 'simple', 'sincero', 'sucio', 'suave',  \n",
    "    'tímido', 'torcido', 'transparente', 'triste', 'valiente', 'verde', 'viejo'\n",
    "]\n",
    "\n",
    "\n",
    "# 20 adjetivos jabberwockie\n",
    "jabberwockie_adjs = [\n",
    "    'brispado', 'claribundo', 'dormínico', 'florido', 'flexivo', 'frenzático', 'gloridio', 'gornoso',\n",
    "    'lirboso', 'lumífero', 'morflino', 'palgado', 'serpálico', 'sintálico', 'talístico', 'tornadizo',\n",
    "    'tripante', 'vistreante', 'zongoso', 'zurdulante'\n",
    "]"
   ]
  },
  {
   "cell_type": "code",
   "execution_count": 5,
   "id": "7704ef87",
   "metadata": {},
   "outputs": [],
   "source": [
    "creador_reglas = CrearReglas(nouns, adjs, intransitive_verbs)"
   ]
  },
  {
   "cell_type": "code",
   "execution_count": 6,
   "id": "da25f6fe",
   "metadata": {},
   "outputs": [
    {
     "name": "stdout",
     "output_type": "stream",
     "text": [
      "Data shape: (10650, 3)\n"
     ]
    },
    {
     "data": {
      "text/html": [
       "<div>\n",
       "<style scoped>\n",
       "    .dataframe tbody tr th:only-of-type {\n",
       "        vertical-align: middle;\n",
       "    }\n",
       "\n",
       "    .dataframe tbody tr th {\n",
       "        vertical-align: top;\n",
       "    }\n",
       "\n",
       "    .dataframe thead th {\n",
       "        text-align: right;\n",
       "    }\n",
       "</style>\n",
       "<table border=\"1\" class=\"dataframe\">\n",
       "  <thead>\n",
       "    <tr style=\"text-align: right;\">\n",
       "      <th></th>\n",
       "      <th>Sentence 1</th>\n",
       "      <th>Sentence 2</th>\n",
       "      <th>Relation</th>\n",
       "    </tr>\n",
       "  </thead>\n",
       "  <tbody>\n",
       "    <tr>\n",
       "      <th>0</th>\n",
       "      <td>no todo abuelo alegre acuerda</td>\n",
       "      <td>algún abuelo alegre no acuerda</td>\n",
       "      <td>1</td>\n",
       "    </tr>\n",
       "    <tr>\n",
       "      <th>1</th>\n",
       "      <td>no todo abuelo alto acuerda</td>\n",
       "      <td>algún abuelo alto no acuerda</td>\n",
       "      <td>1</td>\n",
       "    </tr>\n",
       "    <tr>\n",
       "      <th>2</th>\n",
       "      <td>no todo abuelo amargo acuerda</td>\n",
       "      <td>algún abuelo amargo no acuerda</td>\n",
       "      <td>1</td>\n",
       "    </tr>\n",
       "    <tr>\n",
       "      <th>3</th>\n",
       "      <td>no todo abuelo amplio acuerda</td>\n",
       "      <td>algún abuelo amplio no acuerda</td>\n",
       "      <td>1</td>\n",
       "    </tr>\n",
       "    <tr>\n",
       "      <th>4</th>\n",
       "      <td>no todo abuelo amarillo acuerda</td>\n",
       "      <td>algún abuelo amarillo no acuerda</td>\n",
       "      <td>1</td>\n",
       "    </tr>\n",
       "  </tbody>\n",
       "</table>\n",
       "</div>"
      ],
      "text/plain": [
       "                         Sentence 1                         Sentence 2  \\\n",
       "0    no todo abuelo alegre acuerda      algún abuelo alegre no acuerda   \n",
       "1      no todo abuelo alto acuerda        algún abuelo alto no acuerda   \n",
       "2    no todo abuelo amargo acuerda      algún abuelo amargo no acuerda   \n",
       "3    no todo abuelo amplio acuerda      algún abuelo amplio no acuerda   \n",
       "4  no todo abuelo amarillo acuerda    algún abuelo amarillo no acuerda   \n",
       "\n",
       "   Relation  \n",
       "0         1  \n",
       "1         1  \n",
       "2         1  \n",
       "3         1  \n",
       "4         1  "
      ]
     },
     "execution_count": 6,
     "metadata": {},
     "output_type": "execute_result"
    }
   ],
   "source": [
    "data_folder = PATHS['training_data_folder']\n",
    "data_path = Path(data_folder, 'equivalencia_5.csv')\n",
    "data = pd.read_csv(data_path, names=['Sentence 1', 'Sentence 2', 'Relation'])#, nrows=2)\n",
    "print(f'Data shape: {data.shape}')\n",
    "data.head()"
   ]
  },
  {
   "cell_type": "code",
   "execution_count": 7,
   "id": "b2a2cb26",
   "metadata": {},
   "outputs": [
    {
     "name": "stdout",
     "output_type": "stream",
     "text": [
      "Sentence: no todo abuelo alto acuerda \n",
      "Sentence FOL: -all x.((ABUELO(x) & ALTO(x)) -> ACORDAR(x))\n",
      "Sentence:  algún abuelo alto no acuerda\n",
      "Sentence FOL: exists x.(ABUELO(x) & ALTO(x) & -ACORDAR(x))\n"
     ]
    }
   ],
   "source": [
    "sentence1 = data.loc[1, 'Sentence 1']\n",
    "sentence1_fol = creador_reglas.to_fol(sentence1)\n",
    "print(f'Sentence: {sentence1}')\n",
    "print(f'Sentence FOL: {sentence1_fol}')\n",
    "\n",
    "sentence2 = data.loc[1, 'Sentence 2']\n",
    "sentence2_fol = creador_reglas.to_fol(sentence2)\n",
    "print(f'Sentence: {sentence2}')\n",
    "print(f'Sentence FOL: {sentence2_fol}')"
   ]
  },
  {
   "cell_type": "code",
   "execution_count": 8,
   "id": "02837a24",
   "metadata": {},
   "outputs": [
    {
     "data": {
      "application/vnd.jupyter.widget-view+json": {
       "model_id": "e173b0827bf1427d98b0af8e5ffbfb37",
       "version_major": 2,
       "version_minor": 0
      },
      "text/plain": [
       "  0%|          | 0/10650 [00:00<?, ?it/s]"
      ]
     },
     "metadata": {},
     "output_type": "display_data"
    },
    {
     "data": {
      "text/plain": [
       "[<NegatedExpression -all x.((ABUELO(x) & ALEGRE(x)) -> ACORDAR(x))>,\n",
       " <NegatedExpression -all x.((ABUELO(x) & ALTO(x)) -> ACORDAR(x))>]"
      ]
     },
     "execution_count": 8,
     "metadata": {},
     "output_type": "execute_result"
    }
   ],
   "source": [
    "sentences1_fol = list()\n",
    "errores = list()\n",
    "sentences1 = data['Sentence 1'].tolist()\n",
    "for oracion in tqdm(sentences1):\n",
    "    fol = creador_reglas.to_fol(oracion)\n",
    "    if fol is not None:\n",
    "        sentences1_fol.append(fol)\n",
    "    else:\n",
    "        errores.append(oracion)\n",
    "\n",
    "sentences1_fol[:2]"
   ]
  },
  {
   "cell_type": "code",
   "execution_count": 9,
   "id": "23b31e7f",
   "metadata": {},
   "outputs": [
    {
     "data": {
      "application/vnd.jupyter.widget-view+json": {
       "model_id": "5dc23925c87141d79768c6a84b2d7736",
       "version_major": 2,
       "version_minor": 0
      },
      "text/plain": [
       "  0%|          | 0/10650 [00:00<?, ?it/s]"
      ]
     },
     "metadata": {},
     "output_type": "display_data"
    },
    {
     "data": {
      "text/plain": [
       "[<ExistsExpression exists x.(ABUELO(x) & ALEGRE(x) & -ACORDAR(x))>,\n",
       " <ExistsExpression exists x.(ABUELO(x) & ALTO(x) & -ACORDAR(x))>]"
      ]
     },
     "execution_count": 9,
     "metadata": {},
     "output_type": "execute_result"
    }
   ],
   "source": [
    "sentences2_fol = list()\n",
    "errores2 = list()\n",
    "sentences2 = data['Sentence 2'].tolist()\n",
    "for oracion in tqdm(sentences2):\n",
    "    fol = creador_reglas.to_fol(oracion)\n",
    "    if fol is not None:\n",
    "        sentences2_fol.append(fol)\n",
    "    else:\n",
    "        errores2.append(oracion)\n",
    "\n",
    "sentences2_fol[:2]"
   ]
  },
  {
   "cell_type": "code",
   "execution_count": 10,
   "id": "240b0685",
   "metadata": {},
   "outputs": [],
   "source": [
    "df_sentences_fol = pd.DataFrame(\n",
    "    {\n",
    "        'Sentence 1': sentences1_fol,\n",
    "        'Sentence 2': sentences2_fol,\n",
    "        'Relation': data['Relation']\n",
    "    }\n",
    ")\n",
    "df_sentences_fol.head()\n",
    "df_sentences_fol.to_csv(\n",
    "    Path(data_folder, 'equivalencia_5_fol.csv'), index=False, header=False, sep=';'\n",
    ")"
   ]
  },
  {
   "cell_type": "code",
   "execution_count": 11,
   "id": "bb4da69f",
   "metadata": {},
   "outputs": [
    {
     "name": "stdout",
     "output_type": "stream",
     "text": [
      "Errores sentences 1: 0\n",
      "Errores sentences 2: 0\n"
     ]
    }
   ],
   "source": [
    "print(f'Errores sentences 1: {len(errores)}')\n",
    "print(f'Errores sentences 2: {len(errores2)}')"
   ]
  }
 ],
 "metadata": {
  "kernelspec": {
   "display_name": "3.11.5",
   "language": "python",
   "name": "python3"
  },
  "language_info": {
   "codemirror_mode": {
    "name": "ipython",
    "version": 3
   },
   "file_extension": ".py",
   "mimetype": "text/x-python",
   "name": "python",
   "nbconvert_exporter": "python",
   "pygments_lexer": "ipython3",
   "version": "3.11.5"
  }
 },
 "nbformat": 4,
 "nbformat_minor": 5
}
