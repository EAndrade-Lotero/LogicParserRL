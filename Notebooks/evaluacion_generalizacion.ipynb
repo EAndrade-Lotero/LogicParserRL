{
 "cells": [
  {
   "cell_type": "markdown",
   "id": "2fae910e",
   "metadata": {},
   "source": [
    "# Evaluar la generalización a frases no vistas"
   ]
  },
  {
   "cell_type": "code",
   "execution_count": null,
   "id": "63db6979",
   "metadata": {},
   "outputs": [],
   "source": [
    "import numpy as np\n",
    "import pandas as pd\n",
    "\n",
    "from matplotlib import pyplot as plt\n",
    "\n",
    "import sys\n",
    "sys.path.append('../src')\n",
    "\n",
    "from parser.clases_parser import ParserFOL_1f\n",
    "from parser.PER_SB3 import PERDQN, PrioritizedReplayBuffer\n",
    "from config.config import PATHS"
   ]
  },
  {
   "cell_type": "markdown",
   "id": "42f930ab",
   "metadata": {},
   "source": [
    "# Cargar el dataset"
   ]
  },
  {
   "cell_type": "code",
   "execution_count": null,
   "id": "182bee2f",
   "metadata": {},
   "outputs": [],
   "source": [
    "def train_test_split(n:int):\n",
    "    df = pd.read_csv(PATHS['fol_data_folder']/'smallest_ordered_replaced.csv')\n",
    "    df = df.sort_values(by=\"frase\", key=lambda col: col.str.len())\n",
    "    df.reset_index(drop=True, inplace=True)\n",
    "\n",
    "    df_train = df.iloc[1:n+1, :]\n",
    "    df_test = df.iloc[n+1:, :]\n",
    "\n",
    "    df_train.reset_index(drop=True, inplace=True)\n",
    "    df_test.reset_index(drop=True, inplace=True)\n",
    "    \n",
    "    return df_train, df_test"
   ]
  },
  {
   "cell_type": "code",
   "execution_count": null,
   "id": "13bae7be",
   "metadata": {},
   "outputs": [],
   "source": [
    "n_samples = 5\n",
    "\n",
    "df_train_n, df_test_n = train_test_split(n_samples)"
   ]
  },
  {
   "cell_type": "code",
   "execution_count": null,
   "id": "9eb5ff2e",
   "metadata": {},
   "outputs": [],
   "source": [
    "df_train_n"
   ]
  },
  {
   "cell_type": "code",
   "execution_count": null,
   "id": "bba501fc",
   "metadata": {},
   "outputs": [],
   "source": [
    "df_test_n"
   ]
  },
  {
   "cell_type": "markdown",
   "id": "7f994794",
   "metadata": {},
   "source": [
    "# Cargar el modelo"
   ]
  },
  {
   "cell_type": "code",
   "execution_count": null,
   "id": "8c284410",
   "metadata": {},
   "outputs": [],
   "source": [
    "# Instanciar el agente\n",
    "model_name = f'PER_ALL_SOME_v5.1.2'\n",
    "model = PERDQN.load(f\"model_{model_name}\", env=env)"
   ]
  },
  {
   "cell_type": "markdown",
   "id": "9fccfb1a",
   "metadata": {},
   "source": [
    "# Evaluar el parser"
   ]
  },
  {
   "cell_type": "code",
   "execution_count": null,
   "id": "e833b862",
   "metadata": {},
   "outputs": [],
   "source": [
    "def evaluation(model, env, acciones):\n",
    "\n",
    "    env_ = env # deepcopy(env)\n",
    "    obs, info = env_.reset()\n",
    "    counter = 0\n",
    "    total_reward = 0\n",
    "    inicial = True\n",
    "    list_states = [obs]\n",
    "    list_actions = []\n",
    "\n",
    "    while True:\n",
    "        counter += 1\n",
    "        if counter - 1 >= len(acciones):\n",
    "            action, _states = model.predict(obs, deterministic=True)\n",
    "        else:\n",
    "            action = env_.accion_to_index(acciones[counter - 1])\n",
    "        list_actions.append(action)\n",
    "        obs_anterior = obs\n",
    "        obs, reward, terminated, truncated, info = env_.step(action)\n",
    "        list_states.append(obs)\n",
    "        if inicial:\n",
    "            inicial = False\n",
    "        total_reward += reward\n",
    "        # print(f'Estoy en el nivel {env.estado.nodo.nivel()}')\n",
    "        if terminated or truncated:\n",
    "            break\n",
    "    #print(f\"Frase del entorno: {env_.frase} ---- Recompensa {total_reward} ---- Done {terminated}\")\n",
    "    return total_reward, terminated, env_.get_formula_actual()"
   ]
  },
  {
   "cell_type": "code",
   "execution_count": null,
   "id": "92824c59",
   "metadata": {},
   "outputs": [],
   "source": [
    "acciones = []\n",
    "rewards_some = []\n",
    "dones_some = []\n",
    "frases_some = []\n",
    "rewards_all = []\n",
    "dones_all = []\n",
    "frases_all = []\n",
    "\n",
    "# data = df_train_n\n",
    "data = df_test_n\n",
    "\n",
    "iteraciones = len(data)\n",
    "for num_frase in range(iteraciones):\n",
    "\n",
    "    # Filtrar por frase\n",
    "    df = pd.DataFrame(data.loc[num_frase].to_frame().T)\n",
    "    df.reset_index(drop=True, inplace=True)\n",
    "\n",
    "    # Crear el entorno con la frase inicial   \n",
    "    env = ParserFOL_1f(df) #_simply\n",
    "    env.max_turns = 7\n",
    "    env.pick_first = True\n",
    "    env.prob_select_first = True\n",
    "    env.reset()\n",
    "\n",
    "    # Evaluar frase inicial\n",
    "    r_some, d_some, frase_some = evaluation(model, env, acciones)\n",
    "    print(f'Frase: {env.frase} ---  FOL obtenido: {frase_some}')\n",
    "    rewards_some.append(r_some)\n",
    "    dones_some.append(d_some)\n",
    "    frases_some.append(frase_some)\n",
    "\n",
    "    # Crear el entorno con la frase final   \n",
    "    env = ParserFOL_1f(df) #_simply\n",
    "    env.max_turns = 7\n",
    "    env.pick_first = False\n",
    "    env.prob_select_first = False\n",
    "    env.reset()\n",
    "\n",
    "    # Evaluar frase final\n",
    "    r_all, d_all, frase_all = evaluation(model, env, acciones)\n",
    "    print(f'Frase: {env.frase} ---  FOL obtenido: {frase_all}')\n",
    "    rewards_all.append(r_all)\n",
    "    dones_all.append(d_all)\n",
    "    frases_all.append(frase_all)\n",
    "\n",
    "print(\"Metric Some:\", sum(dones_some)/iteraciones)\n",
    "print(\"Metric All:\", sum(dones_all)/iteraciones)\n"
   ]
  },
  {
   "cell_type": "markdown",
   "id": "d10085cb",
   "metadata": {},
   "source": [
    "---"
   ]
  }
 ],
 "metadata": {
  "kernelspec": {
   "display_name": "Python 3 (ipykernel)",
   "language": "python",
   "name": "python3"
  },
  "language_info": {
   "codemirror_mode": {
    "name": "ipython",
    "version": 3
   },
   "file_extension": ".py",
   "mimetype": "text/x-python",
   "name": "python",
   "nbconvert_exporter": "python",
   "pygments_lexer": "ipython3",
   "version": "3.13.3"
  }
 },
 "nbformat": 4,
 "nbformat_minor": 5
}
