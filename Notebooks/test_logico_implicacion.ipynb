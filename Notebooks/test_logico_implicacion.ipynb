{
 "cells": [
  {
   "cell_type": "markdown",
   "id": "31816cb6",
   "metadata": {},
   "source": [
    "# Test lógico implicación"
   ]
  },
  {
   "cell_type": "code",
   "execution_count": 1,
   "id": "d5462dd2",
   "metadata": {},
   "outputs": [],
   "source": [
    "import sys\n",
    "\n",
    "sys.path.append(\"../src\")"
   ]
  },
  {
   "cell_type": "code",
   "execution_count": 2,
   "id": "a9dde105",
   "metadata": {},
   "outputs": [],
   "source": [
    "import nltk\n",
    "import pandas as pd\n",
    "\n",
    "from pathlib import Path\n",
    "from tqdm.auto import tqdm"
   ]
  },
  {
   "cell_type": "code",
   "execution_count": 3,
   "id": "779bcf00",
   "metadata": {},
   "outputs": [],
   "source": [
    "from config.config import PATHS\n",
    "from logic.logic_tester import LogicTester"
   ]
  },
  {
   "cell_type": "code",
   "execution_count": 15,
   "id": "d38cd182",
   "metadata": {},
   "outputs": [
    {
     "name": "stdout",
     "output_type": "stream",
     "text": [
      "Data shape: (23400, 3)\n"
     ]
    },
    {
     "data": {
      "text/html": [
       "<div>\n",
       "<style scoped>\n",
       "    .dataframe tbody tr th:only-of-type {\n",
       "        vertical-align: middle;\n",
       "    }\n",
       "\n",
       "    .dataframe tbody tr th {\n",
       "        vertical-align: top;\n",
       "    }\n",
       "\n",
       "    .dataframe thead th {\n",
       "        text-align: right;\n",
       "    }\n",
       "</style>\n",
       "<table border=\"1\" class=\"dataframe\">\n",
       "  <thead>\n",
       "    <tr style=\"text-align: right;\">\n",
       "      <th></th>\n",
       "      <th>Sentence 1</th>\n",
       "      <th>Sentence 2</th>\n",
       "      <th>Relation</th>\n",
       "    </tr>\n",
       "  </thead>\n",
       "  <tbody>\n",
       "    <tr>\n",
       "      <th>0</th>\n",
       "      <td>all x.(TORRE(x) -&gt; PERSEGUIR(x))</td>\n",
       "      <td>exists x.(TORRE(x) &amp; PERSEGUIR(x))</td>\n",
       "      <td>1</td>\n",
       "    </tr>\n",
       "    <tr>\n",
       "      <th>1</th>\n",
       "      <td>all x.(TORRE(x) -&gt; TOSE(x))</td>\n",
       "      <td>exists x.(TORRE(x) &amp; TOSE(x))</td>\n",
       "      <td>1</td>\n",
       "    </tr>\n",
       "    <tr>\n",
       "      <th>2</th>\n",
       "      <td>all x.(TORRE(x) -&gt; REPOSAR(x))</td>\n",
       "      <td>exists x.(TORRE(x) &amp; REPOSAR(x))</td>\n",
       "      <td>1</td>\n",
       "    </tr>\n",
       "    <tr>\n",
       "      <th>3</th>\n",
       "      <td>all x.(TORRE(x) -&gt; OSCURECER(x))</td>\n",
       "      <td>exists x.(TORRE(x) &amp; OSCURECER(x))</td>\n",
       "      <td>1</td>\n",
       "    </tr>\n",
       "    <tr>\n",
       "      <th>4</th>\n",
       "      <td>all x.(TORRE(x) -&gt; RESISTIR(x))</td>\n",
       "      <td>exists x.(TORRE(x) &amp; RESISTIR(x))</td>\n",
       "      <td>1</td>\n",
       "    </tr>\n",
       "  </tbody>\n",
       "</table>\n",
       "</div>"
      ],
      "text/plain": [
       "                         Sentence 1                          Sentence 2  \\\n",
       "0  all x.(TORRE(x) -> PERSEGUIR(x))  exists x.(TORRE(x) & PERSEGUIR(x))   \n",
       "1       all x.(TORRE(x) -> TOSE(x))       exists x.(TORRE(x) & TOSE(x))   \n",
       "2    all x.(TORRE(x) -> REPOSAR(x))    exists x.(TORRE(x) & REPOSAR(x))   \n",
       "3  all x.(TORRE(x) -> OSCURECER(x))  exists x.(TORRE(x) & OSCURECER(x))   \n",
       "4   all x.(TORRE(x) -> RESISTIR(x))   exists x.(TORRE(x) & RESISTIR(x))   \n",
       "\n",
       "   Relation  \n",
       "0         1  \n",
       "1         1  \n",
       "2         1  \n",
       "3         1  \n",
       "4         1  "
      ]
     },
     "execution_count": 15,
     "metadata": {},
     "output_type": "execute_result"
    }
   ],
   "source": [
    "data_folder = PATHS['training_data_folder']\n",
    "data_path = Path(data_folder, 'implicacion_5_fol.csv')\n",
    "data = pd.read_csv(data_path, names=['Sentence 1', 'Sentence 2', 'Relation'], sep=\";\")#, nrows=5)\n",
    "print(f'Data shape: {data.shape}')\n",
    "data.head()"
   ]
  },
  {
   "cell_type": "code",
   "execution_count": 5,
   "id": "fd5c45f7",
   "metadata": {},
   "outputs": [],
   "source": [
    "sentences1 = data['Sentence 1'].tolist()\n",
    "sentences2 = data['Sentence 2'].tolist()"
   ]
  },
  {
   "cell_type": "code",
   "execution_count": 6,
   "id": "9a2ffe64",
   "metadata": {},
   "outputs": [],
   "source": [
    "tester = LogicTester()"
   ]
  },
  {
   "cell_type": "code",
   "execution_count": null,
   "id": "eea4e29a",
   "metadata": {},
   "outputs": [
    {
     "data": {
      "application/vnd.jupyter.widget-view+json": {
       "model_id": "a497ad25473a42869f09a56faa0ea246",
       "version_major": 2,
       "version_minor": 0
      },
      "text/plain": [
       "Testing negation relations:   0%|          | 0/23400 [00:00<?, ?it/s]"
      ]
     },
     "metadata": {},
     "output_type": "display_data"
    },
    {
     "data": {
      "text/html": [
       "<div>\n",
       "<style scoped>\n",
       "    .dataframe tbody tr th:only-of-type {\n",
       "        vertical-align: middle;\n",
       "    }\n",
       "\n",
       "    .dataframe tbody tr th {\n",
       "        vertical-align: top;\n",
       "    }\n",
       "\n",
       "    .dataframe thead th {\n",
       "        text-align: right;\n",
       "    }\n",
       "</style>\n",
       "<table border=\"1\" class=\"dataframe\">\n",
       "  <thead>\n",
       "    <tr style=\"text-align: right;\">\n",
       "      <th></th>\n",
       "      <th>Sentence 1</th>\n",
       "      <th>Sentence 2</th>\n",
       "      <th>Relation</th>\n",
       "      <th>Tested</th>\n",
       "    </tr>\n",
       "  </thead>\n",
       "  <tbody>\n",
       "    <tr>\n",
       "      <th>23395</th>\n",
       "      <td>-exists x.(TREN(x) &amp; -OSCURECER(x) &amp; -RESISTIR...</td>\n",
       "      <td>exists x.(TREN(x) &amp; OSCURECER(x) &amp; RESISTIR(x))</td>\n",
       "      <td>0</td>\n",
       "      <td>0</td>\n",
       "    </tr>\n",
       "    <tr>\n",
       "      <th>23396</th>\n",
       "      <td>-exists x.(TREN(x) &amp; -RESISTIR(x) &amp; -PERSEGUIR...</td>\n",
       "      <td>exists x.(TREN(x) &amp; RESISTIR(x) &amp; PERSEGUIR(x))</td>\n",
       "      <td>0</td>\n",
       "      <td>0</td>\n",
       "    </tr>\n",
       "    <tr>\n",
       "      <th>23397</th>\n",
       "      <td>-exists x.(TREN(x) &amp; -RESISTIR(x) &amp; -TOSE(x))</td>\n",
       "      <td>exists x.(TREN(x) &amp; RESISTIR(x) &amp; TOSE(x))</td>\n",
       "      <td>0</td>\n",
       "      <td>0</td>\n",
       "    </tr>\n",
       "    <tr>\n",
       "      <th>23398</th>\n",
       "      <td>-exists x.(TREN(x) &amp; -RESISTIR(x) &amp; -REPOSAR(x))</td>\n",
       "      <td>exists x.(TREN(x) &amp; RESISTIR(x) &amp; REPOSAR(x))</td>\n",
       "      <td>0</td>\n",
       "      <td>0</td>\n",
       "    </tr>\n",
       "    <tr>\n",
       "      <th>23399</th>\n",
       "      <td>-exists x.(TREN(x) &amp; -RESISTIR(x) &amp; -OSCURECER...</td>\n",
       "      <td>exists x.(TREN(x) &amp; RESISTIR(x) &amp; OSCURECER(x))</td>\n",
       "      <td>0</td>\n",
       "      <td>0</td>\n",
       "    </tr>\n",
       "  </tbody>\n",
       "</table>\n",
       "</div>"
      ],
      "text/plain": [
       "                                              Sentence 1  \\\n",
       "23395  -exists x.(TREN(x) & -OSCURECER(x) & -RESISTIR...   \n",
       "23396  -exists x.(TREN(x) & -RESISTIR(x) & -PERSEGUIR...   \n",
       "23397      -exists x.(TREN(x) & -RESISTIR(x) & -TOSE(x))   \n",
       "23398   -exists x.(TREN(x) & -RESISTIR(x) & -REPOSAR(x))   \n",
       "23399  -exists x.(TREN(x) & -RESISTIR(x) & -OSCURECER...   \n",
       "\n",
       "                                            Sentence 2  Relation  Tested  \n",
       "23395  exists x.(TREN(x) & OSCURECER(x) & RESISTIR(x))         0       0  \n",
       "23396  exists x.(TREN(x) & RESISTIR(x) & PERSEGUIR(x))         0       0  \n",
       "23397       exists x.(TREN(x) & RESISTIR(x) & TOSE(x))         0       0  \n",
       "23398    exists x.(TREN(x) & RESISTIR(x) & REPOSAR(x))         0       0  \n",
       "23399  exists x.(TREN(x) & RESISTIR(x) & OSCURECER(x))         0       0  "
      ]
     },
     "execution_count": 16,
     "metadata": {},
     "output_type": "execute_result"
    }
   ],
   "source": [
    "tested = list()\n",
    "pbar = tqdm(total=data.shape[0], desc=\"Testing implication relations\")\n",
    "for index, row in data.iterrows():\n",
    "    sentences1 = row['Sentence 1']\n",
    "    sentences2 = row['Sentence 2']\n",
    "    # print('Sentences:', sentences1, sentences2)\n",
    "    relation = row['Relation']\n",
    "    result = tester.test_implicacion(sentences1, sentences2)\n",
    "    tested.append(int(result))\n",
    "    pbar.update(1)\n",
    "\n",
    "data['Tested'] = tested\n",
    "data.head()"
   ]
  },
  {
   "cell_type": "code",
   "execution_count": 17,
   "id": "9fd573c4",
   "metadata": {},
   "outputs": [
    {
     "data": {
      "text/plain": [
       "2700"
      ]
     },
     "execution_count": 17,
     "metadata": {},
     "output_type": "execute_result"
    }
   ],
   "source": [
    "errors = pd.DataFrame(data[data['Tested'] != data['Relation']]).reset_index()\n",
    "len(errors)"
   ]
  },
  {
   "cell_type": "code",
   "execution_count": 19,
   "id": "05e9521c",
   "metadata": {},
   "outputs": [
    {
     "data": {
      "text/html": [
       "<div>\n",
       "<style scoped>\n",
       "    .dataframe tbody tr th:only-of-type {\n",
       "        vertical-align: middle;\n",
       "    }\n",
       "\n",
       "    .dataframe tbody tr th {\n",
       "        vertical-align: top;\n",
       "    }\n",
       "\n",
       "    .dataframe thead th {\n",
       "        text-align: right;\n",
       "    }\n",
       "</style>\n",
       "<table border=\"1\" class=\"dataframe\">\n",
       "  <thead>\n",
       "    <tr style=\"text-align: right;\">\n",
       "      <th></th>\n",
       "      <th>index</th>\n",
       "      <th>Sentence 1</th>\n",
       "      <th>Sentence 2</th>\n",
       "      <th>Relation</th>\n",
       "      <th>Tested</th>\n",
       "    </tr>\n",
       "  </thead>\n",
       "  <tbody>\n",
       "    <tr>\n",
       "      <th>0</th>\n",
       "      <td>0</td>\n",
       "      <td>all x.(TORRE(x) -&gt; PERSEGUIR(x))</td>\n",
       "      <td>exists x.(TORRE(x) &amp; PERSEGUIR(x))</td>\n",
       "      <td>1</td>\n",
       "      <td>0</td>\n",
       "    </tr>\n",
       "    <tr>\n",
       "      <th>1</th>\n",
       "      <td>1</td>\n",
       "      <td>all x.(TORRE(x) -&gt; TOSE(x))</td>\n",
       "      <td>exists x.(TORRE(x) &amp; TOSE(x))</td>\n",
       "      <td>1</td>\n",
       "      <td>0</td>\n",
       "    </tr>\n",
       "    <tr>\n",
       "      <th>2</th>\n",
       "      <td>2</td>\n",
       "      <td>all x.(TORRE(x) -&gt; REPOSAR(x))</td>\n",
       "      <td>exists x.(TORRE(x) &amp; REPOSAR(x))</td>\n",
       "      <td>1</td>\n",
       "      <td>0</td>\n",
       "    </tr>\n",
       "    <tr>\n",
       "      <th>3</th>\n",
       "      <td>3</td>\n",
       "      <td>all x.(TORRE(x) -&gt; OSCURECER(x))</td>\n",
       "      <td>exists x.(TORRE(x) &amp; OSCURECER(x))</td>\n",
       "      <td>1</td>\n",
       "      <td>0</td>\n",
       "    </tr>\n",
       "    <tr>\n",
       "      <th>4</th>\n",
       "      <td>4</td>\n",
       "      <td>all x.(TORRE(x) -&gt; RESISTIR(x))</td>\n",
       "      <td>exists x.(TORRE(x) &amp; RESISTIR(x))</td>\n",
       "      <td>1</td>\n",
       "      <td>0</td>\n",
       "    </tr>\n",
       "  </tbody>\n",
       "</table>\n",
       "</div>"
      ],
      "text/plain": [
       "   index                        Sentence 1  \\\n",
       "0      0  all x.(TORRE(x) -> PERSEGUIR(x))   \n",
       "1      1       all x.(TORRE(x) -> TOSE(x))   \n",
       "2      2    all x.(TORRE(x) -> REPOSAR(x))   \n",
       "3      3  all x.(TORRE(x) -> OSCURECER(x))   \n",
       "4      4   all x.(TORRE(x) -> RESISTIR(x))   \n",
       "\n",
       "                           Sentence 2  Relation  Tested  \n",
       "0  exists x.(TORRE(x) & PERSEGUIR(x))         1       0  \n",
       "1       exists x.(TORRE(x) & TOSE(x))         1       0  \n",
       "2    exists x.(TORRE(x) & REPOSAR(x))         1       0  \n",
       "3  exists x.(TORRE(x) & OSCURECER(x))         1       0  \n",
       "4   exists x.(TORRE(x) & RESISTIR(x))         1       0  "
      ]
     },
     "execution_count": 19,
     "metadata": {},
     "output_type": "execute_result"
    }
   ],
   "source": [
    "errors.head()"
   ]
  },
  {
   "cell_type": "code",
   "execution_count": 14,
   "id": "2f6be443",
   "metadata": {},
   "outputs": [
    {
     "name": "stdout",
     "output_type": "stream",
     "text": [
      "Sentence 1: all x.(TORRE(x) -> TOSE(x))\n",
      "Sentence 2: exists x.(TORRE(x) & TOSE(x))\n"
     ]
    }
   ],
   "source": [
    "idx, sentence1, sentence2, relation, test = errors.loc[1,:].values.tolist()\n",
    "print(f\"Sentence 1: {sentence1}\")\n",
    "print(f\"Sentence 2: {sentence2}\")"
   ]
  }
 ],
 "metadata": {
  "kernelspec": {
   "display_name": "3.11.5",
   "language": "python",
   "name": "python3"
  },
  "language_info": {
   "codemirror_mode": {
    "name": "ipython",
    "version": 3
   },
   "file_extension": ".py",
   "mimetype": "text/x-python",
   "name": "python",
   "nbconvert_exporter": "python",
   "pygments_lexer": "ipython3",
   "version": "3.11.5"
  }
 },
 "nbformat": 4,
 "nbformat_minor": 5
}
