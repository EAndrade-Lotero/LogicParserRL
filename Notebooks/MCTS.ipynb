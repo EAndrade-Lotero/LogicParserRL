{
 "cells": [
  {
   "cell_type": "code",
   "execution_count": 1,
   "id": "61b70a6d",
   "metadata": {},
   "outputs": [],
   "source": [
    "import sys\n",
    "\n",
    "sys.path.append('../src')"
   ]
  },
  {
   "cell_type": "code",
   "execution_count": null,
   "id": "cb3083c1",
   "metadata": {},
   "outputs": [],
   "source": [
    "from mcts.trees import ArbolBusquedaJuego\n",
    "from parser.clases_parser import "
   ]
  },
  {
   "cell_type": "code",
   "execution_count": null,
   "id": "f7e9e826",
   "metadata": {},
   "outputs": [],
   "source": [
    "arbol = ArbolBusquedaJuego(\n",
    "    s, \n",
    "    juego=player.game, \n",
    "    rollout_policy=player.play_policy, \n",
    "    sim_lim=50, \n",
    "    beam_width=2, \n",
    "    ucb_constant=2,\n",
    ")\n",
    "n = arbol.raiz\n",
    "print(n)"
   ]
  }
 ],
 "metadata": {
  "kernelspec": {
   "display_name": "Python 3 (ipykernel)",
   "language": "python",
   "name": "python3"
  },
  "language_info": {
   "codemirror_mode": {
    "name": "ipython",
    "version": 3
   },
   "file_extension": ".py",
   "mimetype": "text/x-python",
   "name": "python",
   "nbconvert_exporter": "python",
   "pygments_lexer": "ipython3",
   "version": "3.13.3"
  }
 },
 "nbformat": 4,
 "nbformat_minor": 5
}
