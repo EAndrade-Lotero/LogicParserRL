{
 "cells": [
  {
   "cell_type": "markdown",
   "id": "31816cb6",
   "metadata": {},
   "source": [
    "# Test lógico negación"
   ]
  },
  {
   "cell_type": "code",
   "execution_count": 1,
   "id": "d5462dd2",
   "metadata": {},
   "outputs": [],
   "source": [
    "import sys\n",
    "\n",
    "sys.path.append(\"../src\")"
   ]
  },
  {
   "cell_type": "code",
   "execution_count": 2,
   "id": "a9dde105",
   "metadata": {},
   "outputs": [],
   "source": [
    "import nltk\n",
    "import pandas as pd\n",
    "\n",
    "from pathlib import Path\n",
    "from tqdm.auto import tqdm"
   ]
  },
  {
   "cell_type": "code",
   "execution_count": 3,
   "id": "779bcf00",
   "metadata": {},
   "outputs": [],
   "source": [
    "from config.config import PATHS\n",
    "from logic.logic_tester import LogicTester"
   ]
  },
  {
   "cell_type": "code",
   "execution_count": 4,
   "id": "d38cd182",
   "metadata": {},
   "outputs": [
    {
     "name": "stdout",
     "output_type": "stream",
     "text": [
      "Data shape: (10650, 3)\n"
     ]
    },
    {
     "data": {
      "text/html": [
       "<div>\n",
       "<style scoped>\n",
       "    .dataframe tbody tr th:only-of-type {\n",
       "        vertical-align: middle;\n",
       "    }\n",
       "\n",
       "    .dataframe tbody tr th {\n",
       "        vertical-align: top;\n",
       "    }\n",
       "\n",
       "    .dataframe thead th {\n",
       "        text-align: right;\n",
       "    }\n",
       "</style>\n",
       "<table border=\"1\" class=\"dataframe\">\n",
       "  <thead>\n",
       "    <tr style=\"text-align: right;\">\n",
       "      <th></th>\n",
       "      <th>Sentence 1</th>\n",
       "      <th>Sentence 2</th>\n",
       "      <th>Relation</th>\n",
       "    </tr>\n",
       "  </thead>\n",
       "  <tbody>\n",
       "    <tr>\n",
       "      <th>10645</th>\n",
       "      <td>exists x.(ALCER(x) &amp; (AMANECER(x) | ANOCHECER(...</td>\n",
       "      <td>all x.(ALCER(x) -&gt; (AMANECER(x) | ANOCHECER(x)))</td>\n",
       "      <td>0</td>\n",
       "    </tr>\n",
       "    <tr>\n",
       "      <th>10646</th>\n",
       "      <td>exists x.(ALCER(x) &amp; (ANOCHECER(x) | ACORDAR(x)))</td>\n",
       "      <td>all x.(ALCER(x) -&gt; (ANOCHECER(x) | ACORDAR(x)))</td>\n",
       "      <td>0</td>\n",
       "    </tr>\n",
       "    <tr>\n",
       "      <th>10647</th>\n",
       "      <td>exists x.(ALCER(x) &amp; (ANOCHECER(x) | AGUANTAR(...</td>\n",
       "      <td>all x.(ALCER(x) -&gt; (ANOCHECER(x) | AGUANTAR(x)))</td>\n",
       "      <td>0</td>\n",
       "    </tr>\n",
       "    <tr>\n",
       "      <th>10648</th>\n",
       "      <td>exists x.(ALCER(x) &amp; (ANOCHECER(x) | AMAR(x)))</td>\n",
       "      <td>all x.(ALCER(x) -&gt; (ANOCHECER(x) | AMAR(x)))</td>\n",
       "      <td>0</td>\n",
       "    </tr>\n",
       "    <tr>\n",
       "      <th>10649</th>\n",
       "      <td>exists x.(ALCER(x) &amp; (ANOCHECER(x) | AMANECER(...</td>\n",
       "      <td>all x.(ALCER(x) -&gt; (ANOCHECER(x) | AMANECER(x)))</td>\n",
       "      <td>0</td>\n",
       "    </tr>\n",
       "  </tbody>\n",
       "</table>\n",
       "</div>"
      ],
      "text/plain": [
       "                                              Sentence 1  \\\n",
       "10645  exists x.(ALCER(x) & (AMANECER(x) | ANOCHECER(...   \n",
       "10646  exists x.(ALCER(x) & (ANOCHECER(x) | ACORDAR(x)))   \n",
       "10647  exists x.(ALCER(x) & (ANOCHECER(x) | AGUANTAR(...   \n",
       "10648     exists x.(ALCER(x) & (ANOCHECER(x) | AMAR(x)))   \n",
       "10649  exists x.(ALCER(x) & (ANOCHECER(x) | AMANECER(...   \n",
       "\n",
       "                                             Sentence 2  Relation  \n",
       "10645  all x.(ALCER(x) -> (AMANECER(x) | ANOCHECER(x)))         0  \n",
       "10646   all x.(ALCER(x) -> (ANOCHECER(x) | ACORDAR(x)))         0  \n",
       "10647  all x.(ALCER(x) -> (ANOCHECER(x) | AGUANTAR(x)))         0  \n",
       "10648      all x.(ALCER(x) -> (ANOCHECER(x) | AMAR(x)))         0  \n",
       "10649  all x.(ALCER(x) -> (ANOCHECER(x) | AMANECER(x)))         0  "
      ]
     },
     "execution_count": 4,
     "metadata": {},
     "output_type": "execute_result"
    }
   ],
   "source": [
    "data_folder = PATHS['training_data_folder']\n",
    "data_path = Path(data_folder, 'negacion_5_fol.csv')\n",
    "data = pd.read_csv(data_path, names=['Sentence 1', 'Sentence 2', 'Relation'], sep=\";\")\n",
    "print(f'Data shape: {data.shape}')\n",
    "data.tail()"
   ]
  },
  {
   "cell_type": "code",
   "execution_count": 5,
   "id": "fd5c45f7",
   "metadata": {},
   "outputs": [],
   "source": [
    "sentences1 = data['Sentence 1'].tolist()\n",
    "sentences2 = data['Sentence 2'].tolist()"
   ]
  },
  {
   "cell_type": "code",
   "execution_count": 6,
   "id": "719ac536",
   "metadata": {},
   "outputs": [],
   "source": [
    "tester = LogicTester()"
   ]
  },
  {
   "cell_type": "code",
   "execution_count": 7,
   "id": "eea4e29a",
   "metadata": {},
   "outputs": [
    {
     "data": {
      "application/vnd.jupyter.widget-view+json": {
       "model_id": "62697c0d4be742699245528bf4b9b21a",
       "version_major": 2,
       "version_minor": 0
      },
      "text/plain": [
       "Testing negation relations:   0%|          | 0/10650 [00:00<?, ?it/s]"
      ]
     },
     "metadata": {},
     "output_type": "display_data"
    },
    {
     "data": {
      "text/html": [
       "<div>\n",
       "<style scoped>\n",
       "    .dataframe tbody tr th:only-of-type {\n",
       "        vertical-align: middle;\n",
       "    }\n",
       "\n",
       "    .dataframe tbody tr th {\n",
       "        vertical-align: top;\n",
       "    }\n",
       "\n",
       "    .dataframe thead th {\n",
       "        text-align: right;\n",
       "    }\n",
       "</style>\n",
       "<table border=\"1\" class=\"dataframe\">\n",
       "  <thead>\n",
       "    <tr style=\"text-align: right;\">\n",
       "      <th></th>\n",
       "      <th>Sentence 1</th>\n",
       "      <th>Sentence 2</th>\n",
       "      <th>Relation</th>\n",
       "      <th>Tested</th>\n",
       "    </tr>\n",
       "  </thead>\n",
       "  <tbody>\n",
       "    <tr>\n",
       "      <th>0</th>\n",
       "      <td>all x.(ABUELO(x) -&gt; ACORDAR(x))</td>\n",
       "      <td>exists x.(ABUELO(x) &amp; -ACORDAR(x))</td>\n",
       "      <td>1</td>\n",
       "      <td>1</td>\n",
       "    </tr>\n",
       "    <tr>\n",
       "      <th>1</th>\n",
       "      <td>all x.(ABUELO(x) -&gt; AGUANTAR(x))</td>\n",
       "      <td>exists x.(ABUELO(x) &amp; -AGUANTAR(x))</td>\n",
       "      <td>1</td>\n",
       "      <td>1</td>\n",
       "    </tr>\n",
       "    <tr>\n",
       "      <th>2</th>\n",
       "      <td>all x.(ABUELO(x) -&gt; AMAR(x))</td>\n",
       "      <td>exists x.(ABUELO(x) &amp; -AMAR(x))</td>\n",
       "      <td>1</td>\n",
       "      <td>1</td>\n",
       "    </tr>\n",
       "    <tr>\n",
       "      <th>3</th>\n",
       "      <td>all x.(ABUELO(x) -&gt; AMANECER(x))</td>\n",
       "      <td>exists x.(ABUELO(x) &amp; -AMANECER(x))</td>\n",
       "      <td>1</td>\n",
       "      <td>1</td>\n",
       "    </tr>\n",
       "    <tr>\n",
       "      <th>4</th>\n",
       "      <td>all x.(ABUELO(x) -&gt; ANOCHECER(x))</td>\n",
       "      <td>exists x.(ABUELO(x) &amp; -ANOCHECER(x))</td>\n",
       "      <td>1</td>\n",
       "      <td>1</td>\n",
       "    </tr>\n",
       "  </tbody>\n",
       "</table>\n",
       "</div>"
      ],
      "text/plain": [
       "                          Sentence 1                            Sentence 2  \\\n",
       "0    all x.(ABUELO(x) -> ACORDAR(x))    exists x.(ABUELO(x) & -ACORDAR(x))   \n",
       "1   all x.(ABUELO(x) -> AGUANTAR(x))   exists x.(ABUELO(x) & -AGUANTAR(x))   \n",
       "2       all x.(ABUELO(x) -> AMAR(x))       exists x.(ABUELO(x) & -AMAR(x))   \n",
       "3   all x.(ABUELO(x) -> AMANECER(x))   exists x.(ABUELO(x) & -AMANECER(x))   \n",
       "4  all x.(ABUELO(x) -> ANOCHECER(x))  exists x.(ABUELO(x) & -ANOCHECER(x))   \n",
       "\n",
       "   Relation  Tested  \n",
       "0         1       1  \n",
       "1         1       1  \n",
       "2         1       1  \n",
       "3         1       1  \n",
       "4         1       1  "
      ]
     },
     "execution_count": 7,
     "metadata": {},
     "output_type": "execute_result"
    }
   ],
   "source": [
    "tested = list()\n",
    "pbar = tqdm(total=data.shape[0], desc=\"Testing negation relations\")\n",
    "for index, row in data.iterrows():\n",
    "    sentences1 = row['Sentence 1']\n",
    "    sentences2 = row['Sentence 2']\n",
    "    # print('Sentences:', sentences1, sentences2)\n",
    "    relation = row['Relation']\n",
    "    result = tester.test_negacion(sentences1, sentences2)\n",
    "    tested.append(int(result))\n",
    "    pbar.update(1)\n",
    "\n",
    "data['Tested'] = tested\n",
    "data.head()"
   ]
  },
  {
   "cell_type": "code",
   "execution_count": 8,
   "id": "9fd573c4",
   "metadata": {},
   "outputs": [],
   "source": [
    "errors = pd.DataFrame(data[data['Tested'] != data['Relation']]).reset_index()"
   ]
  },
  {
   "cell_type": "code",
   "execution_count": 9,
   "id": "61275a4f",
   "metadata": {},
   "outputs": [
    {
     "data": {
      "text/plain": [
       "0"
      ]
     },
     "execution_count": 9,
     "metadata": {},
     "output_type": "execute_result"
    }
   ],
   "source": [
    "len(errors)"
   ]
  },
  {
   "cell_type": "code",
   "execution_count": 10,
   "id": "05e9521c",
   "metadata": {},
   "outputs": [
    {
     "data": {
      "text/html": [
       "<div>\n",
       "<style scoped>\n",
       "    .dataframe tbody tr th:only-of-type {\n",
       "        vertical-align: middle;\n",
       "    }\n",
       "\n",
       "    .dataframe tbody tr th {\n",
       "        vertical-align: top;\n",
       "    }\n",
       "\n",
       "    .dataframe thead th {\n",
       "        text-align: right;\n",
       "    }\n",
       "</style>\n",
       "<table border=\"1\" class=\"dataframe\">\n",
       "  <thead>\n",
       "    <tr style=\"text-align: right;\">\n",
       "      <th></th>\n",
       "      <th>index</th>\n",
       "      <th>Sentence 1</th>\n",
       "      <th>Sentence 2</th>\n",
       "      <th>Relation</th>\n",
       "      <th>Tested</th>\n",
       "    </tr>\n",
       "  </thead>\n",
       "  <tbody>\n",
       "  </tbody>\n",
       "</table>\n",
       "</div>"
      ],
      "text/plain": [
       "Empty DataFrame\n",
       "Columns: [index, Sentence 1, Sentence 2, Relation, Tested]\n",
       "Index: []"
      ]
     },
     "execution_count": 10,
     "metadata": {},
     "output_type": "execute_result"
    }
   ],
   "source": [
    "errors.head()"
   ]
  },
  {
   "cell_type": "code",
   "execution_count": 11,
   "id": "46cd20b6",
   "metadata": {},
   "outputs": [],
   "source": [
    "# idx, sentence1, sentence2, relation, test = errors.loc[1,:].values.tolist()\n",
    "# print(f\"Sentence 1: {sentence1}\")\n",
    "# print(f\"Sentence 2: {sentence2}\")"
   ]
  }
 ],
 "metadata": {
  "kernelspec": {
   "display_name": "3.11.5",
   "language": "python",
   "name": "python3"
  },
  "language_info": {
   "codemirror_mode": {
    "name": "ipython",
    "version": 3
   },
   "file_extension": ".py",
   "mimetype": "text/x-python",
   "name": "python",
   "nbconvert_exporter": "python",
   "pygments_lexer": "ipython3",
   "version": "3.11.5"
  }
 },
 "nbformat": 4,
 "nbformat_minor": 5
}
