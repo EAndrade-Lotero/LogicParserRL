{
 "cells": [
  {
   "cell_type": "markdown",
   "id": "31816cb6",
   "metadata": {},
   "source": [
    "# Test lógico negación"
   ]
  },
  {
   "cell_type": "code",
   "execution_count": 26,
   "id": "d5462dd2",
   "metadata": {},
   "outputs": [],
   "source": [
    "import sys\n",
    "\n",
    "sys.path.append(\"../src\")"
   ]
  },
  {
   "cell_type": "code",
   "execution_count": 27,
   "id": "a9dde105",
   "metadata": {},
   "outputs": [],
   "source": [
    "import nltk\n",
    "import pandas as pd\n",
    "\n",
    "from pathlib import Path\n",
    "from tqdm.auto import tqdm"
   ]
  },
  {
   "cell_type": "code",
   "execution_count": 28,
   "id": "779bcf00",
   "metadata": {},
   "outputs": [],
   "source": [
    "from config.config import PATHS\n",
    "from logic.logic_tester import LogicTester"
   ]
  },
  {
   "cell_type": "code",
   "execution_count": 41,
   "id": "d38cd182",
   "metadata": {},
   "outputs": [
    {
     "name": "stdout",
     "output_type": "stream",
     "text": [
      "Data shape: (10650, 3)\n"
     ]
    },
    {
     "data": {
      "text/html": [
       "<div>\n",
       "<style scoped>\n",
       "    .dataframe tbody tr th:only-of-type {\n",
       "        vertical-align: middle;\n",
       "    }\n",
       "\n",
       "    .dataframe tbody tr th {\n",
       "        vertical-align: top;\n",
       "    }\n",
       "\n",
       "    .dataframe thead th {\n",
       "        text-align: right;\n",
       "    }\n",
       "</style>\n",
       "<table border=\"1\" class=\"dataframe\">\n",
       "  <thead>\n",
       "    <tr style=\"text-align: right;\">\n",
       "      <th></th>\n",
       "      <th>Sentence 1</th>\n",
       "      <th>Sentence 2</th>\n",
       "      <th>Relation</th>\n",
       "    </tr>\n",
       "  </thead>\n",
       "  <tbody>\n",
       "    <tr>\n",
       "      <th>10645</th>\n",
       "      <td>exists x.(BARCO(x) &amp; (CALLAR(x) | PASEAR(x)))</td>\n",
       "      <td>all x.(BARCO(x) -&gt; (CALLAR(x) | PASEAR(x)))</td>\n",
       "      <td>0</td>\n",
       "    </tr>\n",
       "    <tr>\n",
       "      <th>10646</th>\n",
       "      <td>exists x.(BARCO(x) &amp; (PASEAR(x) | CAMBIAR(x)))</td>\n",
       "      <td>all x.(BARCO(x) -&gt; (PASEAR(x) | CAMBIAR(x)))</td>\n",
       "      <td>0</td>\n",
       "    </tr>\n",
       "    <tr>\n",
       "      <th>10647</th>\n",
       "      <td>exists x.(BARCO(x) &amp; (PASEAR(x) | DORMIR(x)))</td>\n",
       "      <td>all x.(BARCO(x) -&gt; (PASEAR(x) | DORMIR(x)))</td>\n",
       "      <td>0</td>\n",
       "    </tr>\n",
       "    <tr>\n",
       "      <th>10648</th>\n",
       "      <td>exists x.(BARCO(x) &amp; (PASEAR(x) | TRANSCURRIR(...</td>\n",
       "      <td>all x.(BARCO(x) -&gt; (PASEAR(x) | TRANSCURRIR(x)))</td>\n",
       "      <td>0</td>\n",
       "    </tr>\n",
       "    <tr>\n",
       "      <th>10649</th>\n",
       "      <td>exists x.(BARCO(x) &amp; (PASEAR(x) | CALLAR(x)))</td>\n",
       "      <td>all x.(BARCO(x) -&gt; (PASEAR(x) | CALLAR(x)))</td>\n",
       "      <td>0</td>\n",
       "    </tr>\n",
       "  </tbody>\n",
       "</table>\n",
       "</div>"
      ],
      "text/plain": [
       "                                              Sentence 1  \\\n",
       "10645      exists x.(BARCO(x) & (CALLAR(x) | PASEAR(x)))   \n",
       "10646     exists x.(BARCO(x) & (PASEAR(x) | CAMBIAR(x)))   \n",
       "10647      exists x.(BARCO(x) & (PASEAR(x) | DORMIR(x)))   \n",
       "10648  exists x.(BARCO(x) & (PASEAR(x) | TRANSCURRIR(...   \n",
       "10649      exists x.(BARCO(x) & (PASEAR(x) | CALLAR(x)))   \n",
       "\n",
       "                                             Sentence 2  Relation  \n",
       "10645       all x.(BARCO(x) -> (CALLAR(x) | PASEAR(x)))         0  \n",
       "10646      all x.(BARCO(x) -> (PASEAR(x) | CAMBIAR(x)))         0  \n",
       "10647       all x.(BARCO(x) -> (PASEAR(x) | DORMIR(x)))         0  \n",
       "10648  all x.(BARCO(x) -> (PASEAR(x) | TRANSCURRIR(x)))         0  \n",
       "10649       all x.(BARCO(x) -> (PASEAR(x) | CALLAR(x)))         0  "
      ]
     },
     "execution_count": 41,
     "metadata": {},
     "output_type": "execute_result"
    }
   ],
   "source": [
    "data_folder = PATHS['training_data_folder']\n",
    "data_path = Path(data_folder, 'negacion_5_fol.csv')\n",
    "data = pd.read_csv(data_path, names=['Sentence 1', 'Sentence 2', 'Relation'], sep=\";\")\n",
    "print(f'Data shape: {data.shape}')\n",
    "data.tail()"
   ]
  },
  {
   "cell_type": "code",
   "execution_count": 42,
   "id": "fd5c45f7",
   "metadata": {},
   "outputs": [],
   "source": [
    "sentences1 = data['Sentence 1'].tolist()\n",
    "sentences2 = data['Sentence 2'].tolist()"
   ]
  },
  {
   "cell_type": "markdown",
   "id": "3faaa6d6",
   "metadata": {},
   "source": [
    "def translation_to_prover(sentence:str) -> str:\n",
    "    '''\n",
    "    Translate a sentence to prover format.\n",
    "    '''\n",
    "    sentence_nltk = lp.parse(f'{sentence}')\n",
    "    sentence_pyprover = Parse2pyprover.parse(sentence_nltk)\n",
    "    return sentence_pyprover\n",
    "\n",
    "def check_implication(premisas:List[any], conclusion:any) -> bool:\n",
    "    resultado = proves(premisas, conclusion)\n",
    "    return resultado"
   ]
  },
  {
   "cell_type": "code",
   "execution_count": 43,
   "id": "719ac536",
   "metadata": {},
   "outputs": [],
   "source": [
    "tester = LogicTester()"
   ]
  },
  {
   "cell_type": "code",
   "execution_count": 44,
   "id": "eea4e29a",
   "metadata": {},
   "outputs": [
    {
     "data": {
      "application/vnd.jupyter.widget-view+json": {
       "model_id": "3229d64307334bf7a44ff8a68254d801",
       "version_major": 2,
       "version_minor": 0
      },
      "text/plain": [
       "Testing negation relations:   0%|          | 0/10650 [00:00<?, ?it/s]"
      ]
     },
     "metadata": {},
     "output_type": "display_data"
    },
    {
     "data": {
      "text/html": [
       "<div>\n",
       "<style scoped>\n",
       "    .dataframe tbody tr th:only-of-type {\n",
       "        vertical-align: middle;\n",
       "    }\n",
       "\n",
       "    .dataframe tbody tr th {\n",
       "        vertical-align: top;\n",
       "    }\n",
       "\n",
       "    .dataframe thead th {\n",
       "        text-align: right;\n",
       "    }\n",
       "</style>\n",
       "<table border=\"1\" class=\"dataframe\">\n",
       "  <thead>\n",
       "    <tr style=\"text-align: right;\">\n",
       "      <th></th>\n",
       "      <th>Sentence 1</th>\n",
       "      <th>Sentence 2</th>\n",
       "      <th>Relation</th>\n",
       "      <th>Tested</th>\n",
       "    </tr>\n",
       "  </thead>\n",
       "  <tbody>\n",
       "    <tr>\n",
       "      <th>0</th>\n",
       "      <td>all x.(AVIÓN(x) -&gt; CAMBIAR(x))</td>\n",
       "      <td>exists x.(AVIÓN(x) &amp; -CAMBIAR(x))</td>\n",
       "      <td>1</td>\n",
       "      <td>1</td>\n",
       "    </tr>\n",
       "    <tr>\n",
       "      <th>1</th>\n",
       "      <td>all x.(AVIÓN(x) -&gt; DORMIR(x))</td>\n",
       "      <td>exists x.(AVIÓN(x) &amp; -DORMIR(x))</td>\n",
       "      <td>1</td>\n",
       "      <td>1</td>\n",
       "    </tr>\n",
       "    <tr>\n",
       "      <th>2</th>\n",
       "      <td>all x.(AVIÓN(x) -&gt; TRANSCURRIR(x))</td>\n",
       "      <td>exists x.(AVIÓN(x) &amp; -TRANSCURRIR(x))</td>\n",
       "      <td>1</td>\n",
       "      <td>1</td>\n",
       "    </tr>\n",
       "    <tr>\n",
       "      <th>3</th>\n",
       "      <td>all x.(AVIÓN(x) -&gt; CALLAR(x))</td>\n",
       "      <td>exists x.(AVIÓN(x) &amp; -CALLAR(x))</td>\n",
       "      <td>1</td>\n",
       "      <td>1</td>\n",
       "    </tr>\n",
       "    <tr>\n",
       "      <th>4</th>\n",
       "      <td>all x.(AVIÓN(x) -&gt; PASEAR(x))</td>\n",
       "      <td>exists x.(AVIÓN(x) &amp; -PASEAR(x))</td>\n",
       "      <td>1</td>\n",
       "      <td>1</td>\n",
       "    </tr>\n",
       "  </tbody>\n",
       "</table>\n",
       "</div>"
      ],
      "text/plain": [
       "                           Sentence 1                             Sentence 2  \\\n",
       "0      all x.(AVIÓN(x) -> CAMBIAR(x))      exists x.(AVIÓN(x) & -CAMBIAR(x))   \n",
       "1       all x.(AVIÓN(x) -> DORMIR(x))       exists x.(AVIÓN(x) & -DORMIR(x))   \n",
       "2  all x.(AVIÓN(x) -> TRANSCURRIR(x))  exists x.(AVIÓN(x) & -TRANSCURRIR(x))   \n",
       "3       all x.(AVIÓN(x) -> CALLAR(x))       exists x.(AVIÓN(x) & -CALLAR(x))   \n",
       "4       all x.(AVIÓN(x) -> PASEAR(x))       exists x.(AVIÓN(x) & -PASEAR(x))   \n",
       "\n",
       "   Relation  Tested  \n",
       "0         1       1  \n",
       "1         1       1  \n",
       "2         1       1  \n",
       "3         1       1  \n",
       "4         1       1  "
      ]
     },
     "execution_count": 44,
     "metadata": {},
     "output_type": "execute_result"
    }
   ],
   "source": [
    "tested = list()\n",
    "pbar = tqdm(total=data.shape[0], desc=\"Testing negation relations\")\n",
    "for index, row in data.iterrows():\n",
    "    sentences1 = row['Sentence 1']\n",
    "    sentences2 = row['Sentence 2']\n",
    "    # print('Sentences:', sentences1, sentences2)\n",
    "    relation = row['Relation']\n",
    "    result = tester.test_negacion(sentences1, sentences2)\n",
    "    tested.append(int(result))\n",
    "    pbar.update(1)\n",
    "\n",
    "data['Tested'] = tested\n",
    "data.head()"
   ]
  },
  {
   "cell_type": "code",
   "execution_count": 45,
   "id": "9fd573c4",
   "metadata": {},
   "outputs": [],
   "source": [
    "errors = pd.DataFrame(data[data['Tested'] != data['Relation']]).reset_index()"
   ]
  },
  {
   "cell_type": "code",
   "execution_count": null,
   "id": "61275a4f",
   "metadata": {},
   "outputs": [],
   "source": [
    "len(errors)"
   ]
  },
  {
   "cell_type": "code",
   "execution_count": null,
   "id": "05e9521c",
   "metadata": {},
   "outputs": [
    {
     "data": {
      "text/html": [
       "<div>\n",
       "<style scoped>\n",
       "    .dataframe tbody tr th:only-of-type {\n",
       "        vertical-align: middle;\n",
       "    }\n",
       "\n",
       "    .dataframe tbody tr th {\n",
       "        vertical-align: top;\n",
       "    }\n",
       "\n",
       "    .dataframe thead th {\n",
       "        text-align: right;\n",
       "    }\n",
       "</style>\n",
       "<table border=\"1\" class=\"dataframe\">\n",
       "  <thead>\n",
       "    <tr style=\"text-align: right;\">\n",
       "      <th></th>\n",
       "      <th>index</th>\n",
       "      <th>Sentence 1</th>\n",
       "      <th>Sentence 2</th>\n",
       "      <th>Relation</th>\n",
       "      <th>Tested</th>\n",
       "    </tr>\n",
       "  </thead>\n",
       "  <tbody>\n",
       "  </tbody>\n",
       "</table>\n",
       "</div>"
      ],
      "text/plain": [
       "Empty DataFrame\n",
       "Columns: [index, Sentence 1, Sentence 2, Relation, Tested]\n",
       "Index: []"
      ]
     },
     "execution_count": 47,
     "metadata": {},
     "output_type": "execute_result"
    }
   ],
   "source": [
    "errors.head()"
   ]
  },
  {
   "cell_type": "code",
   "execution_count": 37,
   "id": "46cd20b6",
   "metadata": {},
   "outputs": [],
   "source": [
    "# idx, sentence1, sentence2, relation, test = errors.loc[1,:].values.tolist()\n",
    "# print(f\"Sentence 1: {sentence1}\")\n",
    "# print(f\"Sentence 2: {sentence2}\")"
   ]
  }
 ],
 "metadata": {
  "kernelspec": {
   "display_name": "3.11.5",
   "language": "python",
   "name": "python3"
  },
  "language_info": {
   "codemirror_mode": {
    "name": "ipython",
    "version": 3
   },
   "file_extension": ".py",
   "mimetype": "text/x-python",
   "name": "python",
   "nbconvert_exporter": "python",
   "pygments_lexer": "ipython3",
   "version": "3.11.5"
  }
 },
 "nbformat": 4,
 "nbformat_minor": 5
}
