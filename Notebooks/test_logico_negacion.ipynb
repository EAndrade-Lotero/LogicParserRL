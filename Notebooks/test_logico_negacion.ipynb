{
 "cells": [
  {
   "cell_type": "markdown",
   "id": "31816cb6",
   "metadata": {},
   "source": [
    "# Test lógico negación"
   ]
  },
  {
   "cell_type": "code",
   "execution_count": 1,
   "id": "d5462dd2",
   "metadata": {},
   "outputs": [],
   "source": [
    "import sys\n",
    "\n",
    "sys.path.append(\"../src\")"
   ]
  },
  {
   "cell_type": "code",
   "execution_count": 2,
   "id": "a9dde105",
   "metadata": {},
   "outputs": [],
   "source": [
    "import nltk\n",
    "import pandas as pd\n",
    "\n",
    "from pathlib import Path\n",
    "from tqdm.auto import tqdm"
   ]
  },
  {
   "cell_type": "code",
   "execution_count": 3,
   "id": "779bcf00",
   "metadata": {},
   "outputs": [],
   "source": [
    "from config.config import PATHS\n",
    "from logic.logic_tester import LogicTester"
   ]
  },
  {
   "cell_type": "code",
   "execution_count": 4,
   "id": "d38cd182",
   "metadata": {},
   "outputs": [
    {
     "name": "stdout",
     "output_type": "stream",
     "text": [
      "Data shape: (10650, 3)\n"
     ]
    },
    {
     "data": {
      "text/html": [
       "<div>\n",
       "<style scoped>\n",
       "    .dataframe tbody tr th:only-of-type {\n",
       "        vertical-align: middle;\n",
       "    }\n",
       "\n",
       "    .dataframe tbody tr th {\n",
       "        vertical-align: top;\n",
       "    }\n",
       "\n",
       "    .dataframe thead th {\n",
       "        text-align: right;\n",
       "    }\n",
       "</style>\n",
       "<table border=\"1\" class=\"dataframe\">\n",
       "  <thead>\n",
       "    <tr style=\"text-align: right;\">\n",
       "      <th></th>\n",
       "      <th>Sentence 1</th>\n",
       "      <th>Sentence 2</th>\n",
       "      <th>Relation</th>\n",
       "    </tr>\n",
       "  </thead>\n",
       "  <tbody>\n",
       "    <tr>\n",
       "      <th>10645</th>\n",
       "      <td>exists x.(CABALLO(x) &amp; (SURGIR(x) | MARCHA(x)))</td>\n",
       "      <td>all x.(CABALLO(x) -&gt; (SURGIR(x) | MARCHA(x)))</td>\n",
       "      <td>0</td>\n",
       "    </tr>\n",
       "    <tr>\n",
       "      <th>10646</th>\n",
       "      <td>exists x.(CABALLO(x) &amp; (MARCHA(x) | TRANSCURRI...</td>\n",
       "      <td>all x.(CABALLO(x) -&gt; (MARCHA(x) | TRANSCURRIR(...</td>\n",
       "      <td>0</td>\n",
       "    </tr>\n",
       "    <tr>\n",
       "      <th>10647</th>\n",
       "      <td>exists x.(CABALLO(x) &amp; (MARCHA(x) | AVANZAR(x)))</td>\n",
       "      <td>all x.(CABALLO(x) -&gt; (MARCHA(x) | AVANZAR(x)))</td>\n",
       "      <td>0</td>\n",
       "    </tr>\n",
       "    <tr>\n",
       "      <th>10648</th>\n",
       "      <td>exists x.(CABALLO(x) &amp; (MARCHA(x) | ANOCHECER(...</td>\n",
       "      <td>all x.(CABALLO(x) -&gt; (MARCHA(x) | ANOCHECER(x)))</td>\n",
       "      <td>0</td>\n",
       "    </tr>\n",
       "    <tr>\n",
       "      <th>10649</th>\n",
       "      <td>exists x.(CABALLO(x) &amp; (MARCHA(x) | SURGIR(x)))</td>\n",
       "      <td>all x.(CABALLO(x) -&gt; (MARCHA(x) | SURGIR(x)))</td>\n",
       "      <td>0</td>\n",
       "    </tr>\n",
       "  </tbody>\n",
       "</table>\n",
       "</div>"
      ],
      "text/plain": [
       "                                              Sentence 1  \\\n",
       "10645    exists x.(CABALLO(x) & (SURGIR(x) | MARCHA(x)))   \n",
       "10646  exists x.(CABALLO(x) & (MARCHA(x) | TRANSCURRI...   \n",
       "10647   exists x.(CABALLO(x) & (MARCHA(x) | AVANZAR(x)))   \n",
       "10648  exists x.(CABALLO(x) & (MARCHA(x) | ANOCHECER(...   \n",
       "10649    exists x.(CABALLO(x) & (MARCHA(x) | SURGIR(x)))   \n",
       "\n",
       "                                              Sentence 2  Relation  \n",
       "10645      all x.(CABALLO(x) -> (SURGIR(x) | MARCHA(x)))         0  \n",
       "10646  all x.(CABALLO(x) -> (MARCHA(x) | TRANSCURRIR(...         0  \n",
       "10647     all x.(CABALLO(x) -> (MARCHA(x) | AVANZAR(x)))         0  \n",
       "10648   all x.(CABALLO(x) -> (MARCHA(x) | ANOCHECER(x)))         0  \n",
       "10649      all x.(CABALLO(x) -> (MARCHA(x) | SURGIR(x)))         0  "
      ]
     },
     "execution_count": 4,
     "metadata": {},
     "output_type": "execute_result"
    }
   ],
   "source": [
    "data_folder = PATHS['training_data_folder']\n",
    "data_path = Path(data_folder, 'negacion_5_fol.csv')\n",
    "data = pd.read_csv(data_path, names=['Sentence 1', 'Sentence 2', 'Relation'], sep=\";\")#, nrows=181)\n",
    "print(f'Data shape: {data.shape}')\n",
    "data.tail()"
   ]
  },
  {
   "cell_type": "code",
   "execution_count": 5,
   "id": "fd5c45f7",
   "metadata": {},
   "outputs": [],
   "source": [
    "sentences1 = data['Sentence 1'].tolist()\n",
    "sentences2 = data['Sentence 2'].tolist()"
   ]
  },
  {
   "cell_type": "markdown",
   "id": "3faaa6d6",
   "metadata": {},
   "source": [
    "def translation_to_prover(sentence:str) -> str:\n",
    "    '''\n",
    "    Translate a sentence to prover format.\n",
    "    '''\n",
    "    sentence_nltk = lp.parse(f'{sentence}')\n",
    "    sentence_pyprover = Parse2pyprover.parse(sentence_nltk)\n",
    "    return sentence_pyprover\n",
    "\n",
    "def check_implication(premisas:List[any], conclusion:any) -> bool:\n",
    "    resultado = proves(premisas, conclusion)\n",
    "    return resultado"
   ]
  },
  {
   "cell_type": "code",
   "execution_count": 6,
   "id": "719ac536",
   "metadata": {},
   "outputs": [],
   "source": [
    "tester = LogicTester()"
   ]
  },
  {
   "cell_type": "code",
   "execution_count": 9,
   "id": "eea4e29a",
   "metadata": {},
   "outputs": [
    {
     "data": {
      "application/vnd.jupyter.widget-view+json": {
       "model_id": "99223d20d1ee494ca8691a8a8d0cd1e6",
       "version_major": 2,
       "version_minor": 0
      },
      "text/plain": [
       "Testing negation relations:   0%|          | 0/10650 [00:00<?, ?it/s]"
      ]
     },
     "metadata": {},
     "output_type": "display_data"
    },
    {
     "data": {
      "text/html": [
       "<div>\n",
       "<style scoped>\n",
       "    .dataframe tbody tr th:only-of-type {\n",
       "        vertical-align: middle;\n",
       "    }\n",
       "\n",
       "    .dataframe tbody tr th {\n",
       "        vertical-align: top;\n",
       "    }\n",
       "\n",
       "    .dataframe thead th {\n",
       "        text-align: right;\n",
       "    }\n",
       "</style>\n",
       "<table border=\"1\" class=\"dataframe\">\n",
       "  <thead>\n",
       "    <tr style=\"text-align: right;\">\n",
       "      <th></th>\n",
       "      <th>Sentence 1</th>\n",
       "      <th>Sentence 2</th>\n",
       "      <th>Relation</th>\n",
       "      <th>Tested</th>\n",
       "    </tr>\n",
       "  </thead>\n",
       "  <tbody>\n",
       "    <tr>\n",
       "      <th>0</th>\n",
       "      <td>all x.(ABUELO(x) -&gt; TRANSCURRIR(x))</td>\n",
       "      <td>exists x.(ABUELO(x) &amp; -TRANSCURRIR(x))</td>\n",
       "      <td>1</td>\n",
       "      <td>1</td>\n",
       "    </tr>\n",
       "    <tr>\n",
       "      <th>1</th>\n",
       "      <td>all x.(ABUELO(x) -&gt; AVANZAR(x))</td>\n",
       "      <td>exists x.(ABUELO(x) &amp; -AVANZAR(x))</td>\n",
       "      <td>1</td>\n",
       "      <td>1</td>\n",
       "    </tr>\n",
       "    <tr>\n",
       "      <th>2</th>\n",
       "      <td>all x.(ABUELO(x) -&gt; ANOCHECER(x))</td>\n",
       "      <td>exists x.(ABUELO(x) &amp; -ANOCHECER(x))</td>\n",
       "      <td>1</td>\n",
       "      <td>1</td>\n",
       "    </tr>\n",
       "    <tr>\n",
       "      <th>3</th>\n",
       "      <td>all x.(ABUELO(x) -&gt; SURGIR(x))</td>\n",
       "      <td>exists x.(ABUELO(x) &amp; -SURGIR(x))</td>\n",
       "      <td>1</td>\n",
       "      <td>1</td>\n",
       "    </tr>\n",
       "    <tr>\n",
       "      <th>4</th>\n",
       "      <td>all x.(ABUELO(x) -&gt; MARCHA(x))</td>\n",
       "      <td>exists x.(ABUELO(x) &amp; -MARCHA(x))</td>\n",
       "      <td>1</td>\n",
       "      <td>1</td>\n",
       "    </tr>\n",
       "  </tbody>\n",
       "</table>\n",
       "</div>"
      ],
      "text/plain": [
       "                            Sentence 1  \\\n",
       "0  all x.(ABUELO(x) -> TRANSCURRIR(x))   \n",
       "1      all x.(ABUELO(x) -> AVANZAR(x))   \n",
       "2    all x.(ABUELO(x) -> ANOCHECER(x))   \n",
       "3       all x.(ABUELO(x) -> SURGIR(x))   \n",
       "4       all x.(ABUELO(x) -> MARCHA(x))   \n",
       "\n",
       "                               Sentence 2  Relation  Tested  \n",
       "0  exists x.(ABUELO(x) & -TRANSCURRIR(x))         1       1  \n",
       "1      exists x.(ABUELO(x) & -AVANZAR(x))         1       1  \n",
       "2    exists x.(ABUELO(x) & -ANOCHECER(x))         1       1  \n",
       "3       exists x.(ABUELO(x) & -SURGIR(x))         1       1  \n",
       "4       exists x.(ABUELO(x) & -MARCHA(x))         1       1  "
      ]
     },
     "execution_count": 9,
     "metadata": {},
     "output_type": "execute_result"
    }
   ],
   "source": [
    "tested = list()\n",
    "pbar = tqdm(total=data.shape[0], desc=\"Testing negation relations\")\n",
    "for index, row in data.iterrows():\n",
    "    sentences1 = row['Sentence 1']\n",
    "    sentences2 = row['Sentence 2']\n",
    "    # print('Sentences:', sentences1, sentences2)\n",
    "    relation = row['Relation']\n",
    "    result = tester.test_negacion(sentences1, sentences2)\n",
    "    tested.append(int(result))\n",
    "    pbar.update(1)\n",
    "\n",
    "data['Tested'] = tested\n",
    "data.head()"
   ]
  },
  {
   "cell_type": "code",
   "execution_count": 16,
   "id": "9fd573c4",
   "metadata": {},
   "outputs": [],
   "source": [
    "errors = pd.DataFrame(data[data['Tested'] != data['Relation']]).reset_index()"
   ]
  },
  {
   "cell_type": "code",
   "execution_count": 28,
   "id": "46cd20b6",
   "metadata": {},
   "outputs": [
    {
     "name": "stdout",
     "output_type": "stream",
     "text": [
      "Sentence 1: -exists x.(ABUELO(x) & TÍMIDO(x) & -TRANSCURRIR(x))\n",
      "Sentence 2: exists x.(ABUELO(x) & TÍMIDO(x) & TRANSCURRIR(x))\n"
     ]
    }
   ],
   "source": [
    "idx, sentence1, sentence2, relation, test = errors.loc[1,:].values.tolist()\n",
    "print(f\"Sentence 1: {sentence1}\")\n",
    "print(f\"Sentence 2: {sentence2}\")"
   ]
  },
  {
   "cell_type": "code",
   "execution_count": 29,
   "id": "05e9521c",
   "metadata": {},
   "outputs": [
    {
     "data": {
      "text/html": [
       "<div>\n",
       "<style scoped>\n",
       "    .dataframe tbody tr th:only-of-type {\n",
       "        vertical-align: middle;\n",
       "    }\n",
       "\n",
       "    .dataframe tbody tr th {\n",
       "        vertical-align: top;\n",
       "    }\n",
       "\n",
       "    .dataframe thead th {\n",
       "        text-align: right;\n",
       "    }\n",
       "</style>\n",
       "<table border=\"1\" class=\"dataframe\">\n",
       "  <thead>\n",
       "    <tr style=\"text-align: right;\">\n",
       "      <th></th>\n",
       "      <th>index</th>\n",
       "      <th>Sentence 1</th>\n",
       "      <th>Sentence 2</th>\n",
       "      <th>Relation</th>\n",
       "      <th>Tested</th>\n",
       "    </tr>\n",
       "  </thead>\n",
       "  <tbody>\n",
       "    <tr>\n",
       "      <th>1345</th>\n",
       "      <td>6745</td>\n",
       "      <td>-exists x.(CABALLO(x) &amp; -SURGIR(x) &amp; -MARCHA(x))</td>\n",
       "      <td>exists x.(CABALLO(x) &amp; SURGIR(x) &amp; MARCHA(x))</td>\n",
       "      <td>1</td>\n",
       "      <td>0</td>\n",
       "    </tr>\n",
       "    <tr>\n",
       "      <th>1346</th>\n",
       "      <td>6746</td>\n",
       "      <td>-exists x.(CABALLO(x) &amp; -MARCHA(x) &amp; -TRANSCUR...</td>\n",
       "      <td>exists x.(CABALLO(x) &amp; MARCHA(x) &amp; TRANSCURRIR...</td>\n",
       "      <td>1</td>\n",
       "      <td>0</td>\n",
       "    </tr>\n",
       "    <tr>\n",
       "      <th>1347</th>\n",
       "      <td>6747</td>\n",
       "      <td>-exists x.(CABALLO(x) &amp; -MARCHA(x) &amp; -AVANZAR(x))</td>\n",
       "      <td>exists x.(CABALLO(x) &amp; MARCHA(x) &amp; AVANZAR(x))</td>\n",
       "      <td>1</td>\n",
       "      <td>0</td>\n",
       "    </tr>\n",
       "    <tr>\n",
       "      <th>1348</th>\n",
       "      <td>6748</td>\n",
       "      <td>-exists x.(CABALLO(x) &amp; -MARCHA(x) &amp; -ANOCHECE...</td>\n",
       "      <td>exists x.(CABALLO(x) &amp; MARCHA(x) &amp; ANOCHECER(x))</td>\n",
       "      <td>1</td>\n",
       "      <td>0</td>\n",
       "    </tr>\n",
       "    <tr>\n",
       "      <th>1349</th>\n",
       "      <td>6749</td>\n",
       "      <td>-exists x.(CABALLO(x) &amp; -MARCHA(x) &amp; -SURGIR(x))</td>\n",
       "      <td>exists x.(CABALLO(x) &amp; MARCHA(x) &amp; SURGIR(x))</td>\n",
       "      <td>1</td>\n",
       "      <td>0</td>\n",
       "    </tr>\n",
       "  </tbody>\n",
       "</table>\n",
       "</div>"
      ],
      "text/plain": [
       "      index                                         Sentence 1  \\\n",
       "1345   6745   -exists x.(CABALLO(x) & -SURGIR(x) & -MARCHA(x))   \n",
       "1346   6746  -exists x.(CABALLO(x) & -MARCHA(x) & -TRANSCUR...   \n",
       "1347   6747  -exists x.(CABALLO(x) & -MARCHA(x) & -AVANZAR(x))   \n",
       "1348   6748  -exists x.(CABALLO(x) & -MARCHA(x) & -ANOCHECE...   \n",
       "1349   6749   -exists x.(CABALLO(x) & -MARCHA(x) & -SURGIR(x))   \n",
       "\n",
       "                                             Sentence 2  Relation  Tested  \n",
       "1345      exists x.(CABALLO(x) & SURGIR(x) & MARCHA(x))         1       0  \n",
       "1346  exists x.(CABALLO(x) & MARCHA(x) & TRANSCURRIR...         1       0  \n",
       "1347     exists x.(CABALLO(x) & MARCHA(x) & AVANZAR(x))         1       0  \n",
       "1348   exists x.(CABALLO(x) & MARCHA(x) & ANOCHECER(x))         1       0  \n",
       "1349      exists x.(CABALLO(x) & MARCHA(x) & SURGIR(x))         1       0  "
      ]
     },
     "execution_count": 29,
     "metadata": {},
     "output_type": "execute_result"
    }
   ],
   "source": [
    "errors.tail()"
   ]
  }
 ],
 "metadata": {
  "kernelspec": {
   "display_name": "base",
   "language": "python",
   "name": "python3"
  },
  "language_info": {
   "codemirror_mode": {
    "name": "ipython",
    "version": 3
   },
   "file_extension": ".py",
   "mimetype": "text/x-python",
   "name": "python",
   "nbconvert_exporter": "python",
   "pygments_lexer": "ipython3",
   "version": "3.11.5"
  }
 },
 "nbformat": 4,
 "nbformat_minor": 5
}
