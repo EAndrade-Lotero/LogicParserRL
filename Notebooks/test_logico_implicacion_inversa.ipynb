{
 "cells": [
  {
   "cell_type": "markdown",
   "id": "31816cb6",
   "metadata": {},
   "source": [
    "# Test lógico implicación inversa"
   ]
  },
  {
   "cell_type": "code",
   "execution_count": 1,
   "id": "d5462dd2",
   "metadata": {},
   "outputs": [],
   "source": [
    "import sys\n",
    "\n",
    "sys.path.append(\"../src\")"
   ]
  },
  {
   "cell_type": "code",
   "execution_count": 2,
   "id": "a9dde105",
   "metadata": {},
   "outputs": [],
   "source": [
    "import nltk\n",
    "import pandas as pd\n",
    "\n",
    "from pathlib import Path\n",
    "from tqdm.auto import tqdm\n",
    "from pyprover import *\n",
    "\n",
    "from nltk.sem.logic import LogicParser\n",
    "\n",
    "lp = LogicParser()"
   ]
  },
  {
   "cell_type": "code",
   "execution_count": 3,
   "id": "779bcf00",
   "metadata": {},
   "outputs": [],
   "source": [
    "from config.config import PATHS\n",
    "from parser.parser_utils import Parse2pyprover"
   ]
  },
  {
   "cell_type": "code",
   "execution_count": 4,
   "id": "d38cd182",
   "metadata": {},
   "outputs": [
    {
     "name": "stdout",
     "output_type": "stream",
     "text": [
      "Data shape: (5, 3)\n"
     ]
    },
    {
     "data": {
      "text/html": [
       "<div>\n",
       "<style scoped>\n",
       "    .dataframe tbody tr th:only-of-type {\n",
       "        vertical-align: middle;\n",
       "    }\n",
       "\n",
       "    .dataframe tbody tr th {\n",
       "        vertical-align: top;\n",
       "    }\n",
       "\n",
       "    .dataframe thead th {\n",
       "        text-align: right;\n",
       "    }\n",
       "</style>\n",
       "<table border=\"1\" class=\"dataframe\">\n",
       "  <thead>\n",
       "    <tr style=\"text-align: right;\">\n",
       "      <th></th>\n",
       "      <th>Sentence 1</th>\n",
       "      <th>Sentence 2</th>\n",
       "      <th>Relation</th>\n",
       "    </tr>\n",
       "  </thead>\n",
       "  <tbody>\n",
       "    <tr>\n",
       "      <th>0</th>\n",
       "      <td>exists x.(MUNDO(x) &amp; LLEGAR(x))</td>\n",
       "      <td>(exists x.MUNDO(x) &amp; all x.(MUNDO(x) -&gt; LLEGAR...</td>\n",
       "      <td>1</td>\n",
       "    </tr>\n",
       "    <tr>\n",
       "      <th>1</th>\n",
       "      <td>exists x.(MUNDO(x) &amp; VIAJAR(x))</td>\n",
       "      <td>(exists x.MUNDO(x) &amp; all x.(MUNDO(x) -&gt; VIAJAR...</td>\n",
       "      <td>1</td>\n",
       "    </tr>\n",
       "    <tr>\n",
       "      <th>2</th>\n",
       "      <td>exists x.(MUNDO(x) &amp; PASEAR(x))</td>\n",
       "      <td>(exists x.MUNDO(x) &amp; all x.(MUNDO(x) -&gt; PASEAR...</td>\n",
       "      <td>1</td>\n",
       "    </tr>\n",
       "    <tr>\n",
       "      <th>3</th>\n",
       "      <td>exists x.(MUNDO(x) &amp; PENSAR(x))</td>\n",
       "      <td>(exists x.MUNDO(x) &amp; all x.(MUNDO(x) -&gt; PENSAR...</td>\n",
       "      <td>1</td>\n",
       "    </tr>\n",
       "    <tr>\n",
       "      <th>4</th>\n",
       "      <td>exists x.(MUNDO(x) &amp; DEAMBULAR(x))</td>\n",
       "      <td>(exists x.MUNDO(x) &amp; all x.(MUNDO(x) -&gt; DEAMBU...</td>\n",
       "      <td>1</td>\n",
       "    </tr>\n",
       "  </tbody>\n",
       "</table>\n",
       "</div>"
      ],
      "text/plain": [
       "                           Sentence 1  \\\n",
       "0     exists x.(MUNDO(x) & LLEGAR(x))   \n",
       "1     exists x.(MUNDO(x) & VIAJAR(x))   \n",
       "2     exists x.(MUNDO(x) & PASEAR(x))   \n",
       "3     exists x.(MUNDO(x) & PENSAR(x))   \n",
       "4  exists x.(MUNDO(x) & DEAMBULAR(x))   \n",
       "\n",
       "                                          Sentence 2  Relation  \n",
       "0  (exists x.MUNDO(x) & all x.(MUNDO(x) -> LLEGAR...         1  \n",
       "1  (exists x.MUNDO(x) & all x.(MUNDO(x) -> VIAJAR...         1  \n",
       "2  (exists x.MUNDO(x) & all x.(MUNDO(x) -> PASEAR...         1  \n",
       "3  (exists x.MUNDO(x) & all x.(MUNDO(x) -> PENSAR...         1  \n",
       "4  (exists x.MUNDO(x) & all x.(MUNDO(x) -> DEAMBU...         1  "
      ]
     },
     "execution_count": 4,
     "metadata": {},
     "output_type": "execute_result"
    }
   ],
   "source": [
    "data_folder = PATHS['training_data_folder']\n",
    "data_path = Path(data_folder, 'implicacion_inversa_5_fol.csv')\n",
    "data = pd.read_csv(data_path, names=['Sentence 1', 'Sentence 2', 'Relation'], sep=\";\", nrows=5)\n",
    "print(f'Data shape: {data.shape}')\n",
    "data.tail()"
   ]
  },
  {
   "cell_type": "code",
   "execution_count": 5,
   "id": "fd5c45f7",
   "metadata": {},
   "outputs": [],
   "source": [
    "sentences1 = data['Sentence 1'].tolist()\n",
    "sentences2 = data['Sentence 2'].tolist()"
   ]
  },
  {
   "cell_type": "code",
   "execution_count": 7,
   "id": "9a2ffe64",
   "metadata": {},
   "outputs": [],
   "source": [
    "def test_implicacion_inversa(sentence1:str, sentence2:str) -> bool:\n",
    "    '''\n",
    "    Test inverse implication between two sentences.\n",
    "    '''\n",
    "    #Test sentence2 implies sentence1\n",
    "    sentence1_nltk = lp.parse(f'{sentence1}')\n",
    "    print(f'Sentence 1 NLTK: {sentence1_nltk}')\n",
    "    sentence1_pyprover = Parse2pyprover.parse(sentence1_nltk)\n",
    "\n",
    "    sentence2_nltk = lp.parse(f'{sentence2}')\n",
    "    print(f'Sentence 2 NLTK: {sentence2_nltk}')\n",
    "    sentence2_pyprover = Parse2pyprover.parse(sentence2_nltk)\n",
    "\n",
    "    premisas = [sentence2_pyprover]\n",
    "    conclusion = sentence1_pyprover\n",
    "    resultado1 = proves(premisas, conclusion)\n",
    "    print('Resultado:', resultado1)\n",
    "\n",
    "    return resultado1 "
   ]
  },
  {
   "cell_type": "code",
   "execution_count": 8,
   "id": "eea4e29a",
   "metadata": {},
   "outputs": [
    {
     "name": "stdout",
     "output_type": "stream",
     "text": [
      "Sentences: exists x.(MUNDO(x) & LLEGAR(x)) (exists x.MUNDO(x) & all x.(MUNDO(x) -> LLEGAR(x)))\n",
      "Sentence 1 NLTK: exists x.(MUNDO(x) & LLEGAR(x))\n",
      "Sentence 2 NLTK: (exists x.MUNDO(x) & all x.(MUNDO(x) -> LLEGAR(x)))\n",
      "Resultado: True\n",
      "Sentences: exists x.(MUNDO(x) & VIAJAR(x)) (exists x.MUNDO(x) & all x.(MUNDO(x) -> VIAJAR(x)))\n",
      "Sentence 1 NLTK: exists x.(MUNDO(x) & VIAJAR(x))\n",
      "Sentence 2 NLTK: (exists x.MUNDO(x) & all x.(MUNDO(x) -> VIAJAR(x)))\n",
      "Resultado: True\n",
      "Sentences: exists x.(MUNDO(x) & PASEAR(x)) (exists x.MUNDO(x) & all x.(MUNDO(x) -> PASEAR(x)))\n",
      "Sentence 1 NLTK: exists x.(MUNDO(x) & PASEAR(x))\n",
      "Sentence 2 NLTK: (exists x.MUNDO(x) & all x.(MUNDO(x) -> PASEAR(x)))\n",
      "Resultado: True\n",
      "Sentences: exists x.(MUNDO(x) & PENSAR(x)) (exists x.MUNDO(x) & all x.(MUNDO(x) -> PENSAR(x)))\n",
      "Sentence 1 NLTK: exists x.(MUNDO(x) & PENSAR(x))\n",
      "Sentence 2 NLTK: (exists x.MUNDO(x) & all x.(MUNDO(x) -> PENSAR(x)))\n",
      "Resultado: True\n",
      "Sentences: exists x.(MUNDO(x) & DEAMBULAR(x)) (exists x.MUNDO(x) & all x.(MUNDO(x) -> DEAMBULAR(x)))\n",
      "Sentence 1 NLTK: exists x.(MUNDO(x) & DEAMBULAR(x))\n",
      "Sentence 2 NLTK: (exists x.MUNDO(x) & all x.(MUNDO(x) -> DEAMBULAR(x)))\n",
      "Resultado: True\n"
     ]
    },
    {
     "data": {
      "text/html": [
       "<div>\n",
       "<style scoped>\n",
       "    .dataframe tbody tr th:only-of-type {\n",
       "        vertical-align: middle;\n",
       "    }\n",
       "\n",
       "    .dataframe tbody tr th {\n",
       "        vertical-align: top;\n",
       "    }\n",
       "\n",
       "    .dataframe thead th {\n",
       "        text-align: right;\n",
       "    }\n",
       "</style>\n",
       "<table border=\"1\" class=\"dataframe\">\n",
       "  <thead>\n",
       "    <tr style=\"text-align: right;\">\n",
       "      <th></th>\n",
       "      <th>Sentence 1</th>\n",
       "      <th>Sentence 2</th>\n",
       "      <th>Relation</th>\n",
       "      <th>Tested</th>\n",
       "    </tr>\n",
       "  </thead>\n",
       "  <tbody>\n",
       "    <tr>\n",
       "      <th>0</th>\n",
       "      <td>exists x.(MUNDO(x) &amp; LLEGAR(x))</td>\n",
       "      <td>(exists x.MUNDO(x) &amp; all x.(MUNDO(x) -&gt; LLEGAR...</td>\n",
       "      <td>1</td>\n",
       "      <td>1</td>\n",
       "    </tr>\n",
       "    <tr>\n",
       "      <th>1</th>\n",
       "      <td>exists x.(MUNDO(x) &amp; VIAJAR(x))</td>\n",
       "      <td>(exists x.MUNDO(x) &amp; all x.(MUNDO(x) -&gt; VIAJAR...</td>\n",
       "      <td>1</td>\n",
       "      <td>1</td>\n",
       "    </tr>\n",
       "    <tr>\n",
       "      <th>2</th>\n",
       "      <td>exists x.(MUNDO(x) &amp; PASEAR(x))</td>\n",
       "      <td>(exists x.MUNDO(x) &amp; all x.(MUNDO(x) -&gt; PASEAR...</td>\n",
       "      <td>1</td>\n",
       "      <td>1</td>\n",
       "    </tr>\n",
       "    <tr>\n",
       "      <th>3</th>\n",
       "      <td>exists x.(MUNDO(x) &amp; PENSAR(x))</td>\n",
       "      <td>(exists x.MUNDO(x) &amp; all x.(MUNDO(x) -&gt; PENSAR...</td>\n",
       "      <td>1</td>\n",
       "      <td>1</td>\n",
       "    </tr>\n",
       "    <tr>\n",
       "      <th>4</th>\n",
       "      <td>exists x.(MUNDO(x) &amp; DEAMBULAR(x))</td>\n",
       "      <td>(exists x.MUNDO(x) &amp; all x.(MUNDO(x) -&gt; DEAMBU...</td>\n",
       "      <td>1</td>\n",
       "      <td>1</td>\n",
       "    </tr>\n",
       "  </tbody>\n",
       "</table>\n",
       "</div>"
      ],
      "text/plain": [
       "                           Sentence 1  \\\n",
       "0     exists x.(MUNDO(x) & LLEGAR(x))   \n",
       "1     exists x.(MUNDO(x) & VIAJAR(x))   \n",
       "2     exists x.(MUNDO(x) & PASEAR(x))   \n",
       "3     exists x.(MUNDO(x) & PENSAR(x))   \n",
       "4  exists x.(MUNDO(x) & DEAMBULAR(x))   \n",
       "\n",
       "                                          Sentence 2  Relation  Tested  \n",
       "0  (exists x.MUNDO(x) & all x.(MUNDO(x) -> LLEGAR...         1       1  \n",
       "1  (exists x.MUNDO(x) & all x.(MUNDO(x) -> VIAJAR...         1       1  \n",
       "2  (exists x.MUNDO(x) & all x.(MUNDO(x) -> PASEAR...         1       1  \n",
       "3  (exists x.MUNDO(x) & all x.(MUNDO(x) -> PENSAR...         1       1  \n",
       "4  (exists x.MUNDO(x) & all x.(MUNDO(x) -> DEAMBU...         1       1  "
      ]
     },
     "execution_count": 8,
     "metadata": {},
     "output_type": "execute_result"
    }
   ],
   "source": [
    "tested = list()\n",
    "for index, row in data.iterrows():\n",
    "    sentences1 = row['Sentence 1']\n",
    "    sentences2 = row['Sentence 2']\n",
    "    print('Sentences:', sentences1, sentences2)\n",
    "    relation = row['Relation']\n",
    "    result = test_implicacion_inversa(sentences1, sentences2)\n",
    "    tested.append(int(result))\n",
    "\n",
    "data['Tested'] = tested\n",
    "data.head()"
   ]
  },
  {
   "cell_type": "code",
   "execution_count": 9,
   "id": "9fd573c4",
   "metadata": {},
   "outputs": [
    {
     "data": {
      "text/html": [
       "<div>\n",
       "<style scoped>\n",
       "    .dataframe tbody tr th:only-of-type {\n",
       "        vertical-align: middle;\n",
       "    }\n",
       "\n",
       "    .dataframe tbody tr th {\n",
       "        vertical-align: top;\n",
       "    }\n",
       "\n",
       "    .dataframe thead th {\n",
       "        text-align: right;\n",
       "    }\n",
       "</style>\n",
       "<table border=\"1\" class=\"dataframe\">\n",
       "  <thead>\n",
       "    <tr style=\"text-align: right;\">\n",
       "      <th></th>\n",
       "      <th>Sentence 1</th>\n",
       "      <th>Sentence 2</th>\n",
       "      <th>Relation</th>\n",
       "      <th>Tested</th>\n",
       "    </tr>\n",
       "  </thead>\n",
       "  <tbody>\n",
       "  </tbody>\n",
       "</table>\n",
       "</div>"
      ],
      "text/plain": [
       "Empty DataFrame\n",
       "Columns: [Sentence 1, Sentence 2, Relation, Tested]\n",
       "Index: []"
      ]
     },
     "execution_count": 9,
     "metadata": {},
     "output_type": "execute_result"
    }
   ],
   "source": [
    "data[data['Tested'] != data['Relation']]"
   ]
  },
  {
   "cell_type": "code",
   "execution_count": 10,
   "id": "05e9521c",
   "metadata": {},
   "outputs": [
    {
     "data": {
      "text/html": [
       "<div>\n",
       "<style scoped>\n",
       "    .dataframe tbody tr th:only-of-type {\n",
       "        vertical-align: middle;\n",
       "    }\n",
       "\n",
       "    .dataframe tbody tr th {\n",
       "        vertical-align: top;\n",
       "    }\n",
       "\n",
       "    .dataframe thead th {\n",
       "        text-align: right;\n",
       "    }\n",
       "</style>\n",
       "<table border=\"1\" class=\"dataframe\">\n",
       "  <thead>\n",
       "    <tr style=\"text-align: right;\">\n",
       "      <th></th>\n",
       "      <th>Sentence 1</th>\n",
       "      <th>Sentence 2</th>\n",
       "      <th>Relation</th>\n",
       "      <th>Tested</th>\n",
       "    </tr>\n",
       "  </thead>\n",
       "  <tbody>\n",
       "    <tr>\n",
       "      <th>0</th>\n",
       "      <td>exists x.(MUNDO(x) &amp; LLEGAR(x))</td>\n",
       "      <td>(exists x.MUNDO(x) &amp; all x.(MUNDO(x) -&gt; LLEGAR...</td>\n",
       "      <td>1</td>\n",
       "      <td>1</td>\n",
       "    </tr>\n",
       "    <tr>\n",
       "      <th>1</th>\n",
       "      <td>exists x.(MUNDO(x) &amp; VIAJAR(x))</td>\n",
       "      <td>(exists x.MUNDO(x) &amp; all x.(MUNDO(x) -&gt; VIAJAR...</td>\n",
       "      <td>1</td>\n",
       "      <td>1</td>\n",
       "    </tr>\n",
       "    <tr>\n",
       "      <th>2</th>\n",
       "      <td>exists x.(MUNDO(x) &amp; PASEAR(x))</td>\n",
       "      <td>(exists x.MUNDO(x) &amp; all x.(MUNDO(x) -&gt; PASEAR...</td>\n",
       "      <td>1</td>\n",
       "      <td>1</td>\n",
       "    </tr>\n",
       "    <tr>\n",
       "      <th>3</th>\n",
       "      <td>exists x.(MUNDO(x) &amp; PENSAR(x))</td>\n",
       "      <td>(exists x.MUNDO(x) &amp; all x.(MUNDO(x) -&gt; PENSAR...</td>\n",
       "      <td>1</td>\n",
       "      <td>1</td>\n",
       "    </tr>\n",
       "    <tr>\n",
       "      <th>4</th>\n",
       "      <td>exists x.(MUNDO(x) &amp; DEAMBULAR(x))</td>\n",
       "      <td>(exists x.MUNDO(x) &amp; all x.(MUNDO(x) -&gt; DEAMBU...</td>\n",
       "      <td>1</td>\n",
       "      <td>1</td>\n",
       "    </tr>\n",
       "  </tbody>\n",
       "</table>\n",
       "</div>"
      ],
      "text/plain": [
       "                           Sentence 1  \\\n",
       "0     exists x.(MUNDO(x) & LLEGAR(x))   \n",
       "1     exists x.(MUNDO(x) & VIAJAR(x))   \n",
       "2     exists x.(MUNDO(x) & PASEAR(x))   \n",
       "3     exists x.(MUNDO(x) & PENSAR(x))   \n",
       "4  exists x.(MUNDO(x) & DEAMBULAR(x))   \n",
       "\n",
       "                                          Sentence 2  Relation  Tested  \n",
       "0  (exists x.MUNDO(x) & all x.(MUNDO(x) -> LLEGAR...         1       1  \n",
       "1  (exists x.MUNDO(x) & all x.(MUNDO(x) -> VIAJAR...         1       1  \n",
       "2  (exists x.MUNDO(x) & all x.(MUNDO(x) -> PASEAR...         1       1  \n",
       "3  (exists x.MUNDO(x) & all x.(MUNDO(x) -> PENSAR...         1       1  \n",
       "4  (exists x.MUNDO(x) & all x.(MUNDO(x) -> DEAMBU...         1       1  "
      ]
     },
     "execution_count": 10,
     "metadata": {},
     "output_type": "execute_result"
    }
   ],
   "source": [
    "data.tail()"
   ]
  },
  {
   "cell_type": "code",
   "execution_count": null,
   "id": "2f6be443",
   "metadata": {},
   "outputs": [],
   "source": []
  }
 ],
 "metadata": {
  "kernelspec": {
   "display_name": "3.11.5",
   "language": "python",
   "name": "python3"
  },
  "language_info": {
   "codemirror_mode": {
    "name": "ipython",
    "version": 3
   },
   "file_extension": ".py",
   "mimetype": "text/x-python",
   "name": "python",
   "nbconvert_exporter": "python",
   "pygments_lexer": "ipython3",
   "version": "3.11.5"
  }
 },
 "nbformat": 4,
 "nbformat_minor": 5
}
